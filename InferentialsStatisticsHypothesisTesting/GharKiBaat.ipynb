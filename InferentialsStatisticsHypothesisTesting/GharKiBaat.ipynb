{
 "cells": [
  {
   "cell_type": "markdown",
   "metadata": {},
   "source": [
    "A home renting startup, Ghar ki Baat, is planning to offer 2 BHK fully furnished flats for rent in Powai, Mumbai. In order to ensure that it charges the correct rent, it wants to find the average rent charged by homeowners in Powai.\n",
    "\n",
    " \n",
    "\n",
    "For that purpose, it has acquired the following data, which has a list of 200 fully furnished 2 BHK flats in Powai, along with the monthly rent charged for them in the year 2016."
   ]
  },
  {
   "cell_type": "markdown",
   "metadata": {},
   "source": [
    "As a data analyst working for Ghar ki Baat, you are tasked with finding the average rent for all 2 BHK fully furnished flats in Powai, Mumbai, using this data."
   ]
  },
  {
   "cell_type": "code",
   "execution_count": 1,
   "metadata": {},
   "outputs": [],
   "source": [
    "import pandas as pd\n",
    "import numpy as np"
   ]
  },
  {
   "cell_type": "code",
   "execution_count": 2,
   "metadata": {},
   "outputs": [],
   "source": [
    "df=pd.read_csv('Inferential Statistics - Powai Flats Rent.csv')"
   ]
  },
  {
   "cell_type": "code",
   "execution_count": 3,
   "metadata": {},
   "outputs": [
    {
     "data": {
      "text/html": [
       "<div>\n",
       "<style scoped>\n",
       "    .dataframe tbody tr th:only-of-type {\n",
       "        vertical-align: middle;\n",
       "    }\n",
       "\n",
       "    .dataframe tbody tr th {\n",
       "        vertical-align: top;\n",
       "    }\n",
       "\n",
       "    .dataframe thead th {\n",
       "        text-align: right;\n",
       "    }\n",
       "</style>\n",
       "<table border=\"1\" class=\"dataframe\">\n",
       "  <thead>\n",
       "    <tr style=\"text-align: right;\">\n",
       "      <th></th>\n",
       "      <th>S. No.</th>\n",
       "      <th>Monthly Rent</th>\n",
       "    </tr>\n",
       "  </thead>\n",
       "  <tbody>\n",
       "    <tr>\n",
       "      <th>0</th>\n",
       "      <td>1</td>\n",
       "      <td>44000</td>\n",
       "    </tr>\n",
       "    <tr>\n",
       "      <th>1</th>\n",
       "      <td>2</td>\n",
       "      <td>49800</td>\n",
       "    </tr>\n",
       "    <tr>\n",
       "      <th>2</th>\n",
       "      <td>3</td>\n",
       "      <td>45400</td>\n",
       "    </tr>\n",
       "    <tr>\n",
       "      <th>3</th>\n",
       "      <td>4</td>\n",
       "      <td>40700</td>\n",
       "    </tr>\n",
       "    <tr>\n",
       "      <th>4</th>\n",
       "      <td>5</td>\n",
       "      <td>43900</td>\n",
       "    </tr>\n",
       "  </tbody>\n",
       "</table>\n",
       "</div>"
      ],
      "text/plain": [
       "   S. No.  Monthly Rent\n",
       "0       1         44000\n",
       "1       2         49800\n",
       "2       3         45400\n",
       "3       4         40700\n",
       "4       5         43900"
      ]
     },
     "execution_count": 3,
     "metadata": {},
     "output_type": "execute_result"
    }
   ],
   "source": [
    "df.head()"
   ]
  },
  {
   "cell_type": "code",
   "execution_count": 4,
   "metadata": {},
   "outputs": [
    {
     "data": {
      "text/html": [
       "<div>\n",
       "<style scoped>\n",
       "    .dataframe tbody tr th:only-of-type {\n",
       "        vertical-align: middle;\n",
       "    }\n",
       "\n",
       "    .dataframe tbody tr th {\n",
       "        vertical-align: top;\n",
       "    }\n",
       "\n",
       "    .dataframe thead th {\n",
       "        text-align: right;\n",
       "    }\n",
       "</style>\n",
       "<table border=\"1\" class=\"dataframe\">\n",
       "  <thead>\n",
       "    <tr style=\"text-align: right;\">\n",
       "      <th></th>\n",
       "      <th>S. No.</th>\n",
       "      <th>Monthly Rent</th>\n",
       "    </tr>\n",
       "  </thead>\n",
       "  <tbody>\n",
       "    <tr>\n",
       "      <th>count</th>\n",
       "      <td>200.000000</td>\n",
       "      <td>200.000000</td>\n",
       "    </tr>\n",
       "    <tr>\n",
       "      <th>mean</th>\n",
       "      <td>100.500000</td>\n",
       "      <td>45571.000000</td>\n",
       "    </tr>\n",
       "    <tr>\n",
       "      <th>std</th>\n",
       "      <td>57.879185</td>\n",
       "      <td>7457.521851</td>\n",
       "    </tr>\n",
       "    <tr>\n",
       "      <th>min</th>\n",
       "      <td>1.000000</td>\n",
       "      <td>30100.000000</td>\n",
       "    </tr>\n",
       "    <tr>\n",
       "      <th>25%</th>\n",
       "      <td>50.750000</td>\n",
       "      <td>41250.000000</td>\n",
       "    </tr>\n",
       "    <tr>\n",
       "      <th>50%</th>\n",
       "      <td>100.500000</td>\n",
       "      <td>44950.000000</td>\n",
       "    </tr>\n",
       "    <tr>\n",
       "      <th>75%</th>\n",
       "      <td>150.250000</td>\n",
       "      <td>49825.000000</td>\n",
       "    </tr>\n",
       "    <tr>\n",
       "      <th>max</th>\n",
       "      <td>200.000000</td>\n",
       "      <td>59800.000000</td>\n",
       "    </tr>\n",
       "  </tbody>\n",
       "</table>\n",
       "</div>"
      ],
      "text/plain": [
       "           S. No.  Monthly Rent\n",
       "count  200.000000    200.000000\n",
       "mean   100.500000  45571.000000\n",
       "std     57.879185   7457.521851\n",
       "min      1.000000  30100.000000\n",
       "25%     50.750000  41250.000000\n",
       "50%    100.500000  44950.000000\n",
       "75%    150.250000  49825.000000\n",
       "max    200.000000  59800.000000"
      ]
     },
     "execution_count": 4,
     "metadata": {},
     "output_type": "execute_result"
    }
   ],
   "source": [
    "df.describe()"
   ]
  },
  {
   "cell_type": "code",
   "execution_count": 5,
   "metadata": {},
   "outputs": [
    {
     "name": "stdout",
     "output_type": "stream",
     "text": [
      "7457.521851178448\n"
     ]
    }
   ],
   "source": [
    "print(np.std(df['Monthly Rent'], ddof=1))"
   ]
  },
  {
   "cell_type": "code",
   "execution_count": 6,
   "metadata": {},
   "outputs": [
    {
     "name": "stdout",
     "output_type": "stream",
     "text": [
      "S. No.            57.734305\n",
      "Monthly Rent    7438.854683\n",
      "dtype: float64\n"
     ]
    }
   ],
   "source": [
    "print(np.std(df))"
   ]
  },
  {
   "cell_type": "markdown",
   "metadata": {},
   "source": [
    "#### 1. What is the 90% confidence interval for the monthly rent in rupees?"
   ]
  },
  {
   "cell_type": "code",
   "execution_count": 7,
   "metadata": {},
   "outputs": [
    {
     "data": {
      "text/plain": [
       "(44701, 46441)"
      ]
     },
     "execution_count": 7,
     "metadata": {},
     "output_type": "execute_result"
    }
   ],
   "source": [
    "44701,46441"
   ]
  },
  {
   "cell_type": "markdown",
   "metadata": {},
   "source": [
    "Coding Questions(Graded) Centeral Limit Theoram"
   ]
  },
  {
   "cell_type": "markdown",
   "metadata": {},
   "source": [
    "Description\n",
    "Generate a binomial distribution, tested 10 times, given the number of trials(n) and probability(p) of each trial.\n",
    "The input will contain seed, n and p in the same order.\n",
    "The output should contain a numpy array with 10 numbers representing the required binomial distribution.\n",
    "Hint: You can use numpy's random number generator here too. Remember to set the seed before generating numbers to ensure correct output.\n",
    "Sample Input:\n",
    "0\n",
    "10\n",
    "0.5\n",
    "Sample Output:\n",
    "[5 6 5 5 5 6 5 7 8 5]"
   ]
  },
  {
   "cell_type": "markdown",
   "metadata": {},
   "source": [
    "### Program"
   ]
  },
  {
   "cell_type": "markdown",
   "metadata": {},
   "source": [
    "Inderectly here we are trying to Caluculate nCr*p^r*(1-p)^(n-r))"
   ]
  },
  {
   "cell_type": "markdown",
   "metadata": {},
   "source": [
    "N=Number of total items\n",
    "r= possible subsets"
   ]
  },
  {
   "cell_type": "code",
   "execution_count": 8,
   "metadata": {},
   "outputs": [],
   "source": [
    "def nCr(n,r):\n",
    "    if (r > n / 2): \n",
    "        r = n - r; \n",
    "  \n",
    "    answer = 1; \n",
    "    for i in range(1, r + 1): \n",
    "        answer *= (n - r + i); \n",
    "        answer /= i; \n",
    "  \n",
    "    return answer; "
   ]
  },
  {
   "cell_type": "code",
   "execution_count": 9,
   "metadata": {},
   "outputs": [
    {
     "data": {
      "text/plain": [
       "6.0"
      ]
     },
     "execution_count": 9,
     "metadata": {},
     "output_type": "execute_result"
    }
   ],
   "source": [
    "nCr(4,2)"
   ]
  },
  {
   "cell_type": "code",
   "execution_count": 10,
   "metadata": {},
   "outputs": [],
   "source": [
    "def binomialProbability(n, k, p): \n",
    "  \n",
    "    return (nCr(n, k) * pow(p, k) * \n",
    "                        pow(1 - p, n - k));"
   ]
  },
  {
   "cell_type": "code",
   "execution_count": 11,
   "metadata": {},
   "outputs": [
    {
     "name": "stdout",
     "output_type": "stream",
     "text": [
      "Probability of 5 heads when a coin is tossed 10 times where probability of each head is 0.333333\n",
      "is =  0.136565\n"
     ]
    }
   ],
   "source": [
    "n = 10; \n",
    "k = 5; \n",
    "p = 1.0 / 3; \n",
    "  \n",
    "probability = binomialProbability(n, k, p);\n",
    "\n",
    "print(\"Probability of\", k,  \n",
    "      \"heads when a coin is tossed\", end = \" \"); \n",
    "print(n, \"times where probability of each head is\",  \n",
    "                                      round(p, 6)); \n",
    "print(\"is = \", round(probability, 6)); "
   ]
  },
  {
   "cell_type": "code",
   "execution_count": 12,
   "metadata": {},
   "outputs": [],
   "source": [
    "import random "
   ]
  },
  {
   "cell_type": "code",
   "execution_count": 13,
   "metadata": {},
   "outputs": [
    {
     "name": "stdout",
     "output_type": "stream",
     "text": [
      "0.0078125\n",
      "0.0078125\n",
      "0.0078125\n",
      "0.0078125\n",
      "0.0078125\n"
     ]
    }
   ],
   "source": [
    "for i in range(5):\n",
    "    # Any number can be used in place of 0.\n",
    "    random.seed(0)\n",
    "    # Generated random number will be between 1 to 1000.\n",
    "    randomNo = random.randint(1, 10)\n",
    "    n = randomNo; \n",
    "    0\n",
    "    k=10\n",
    "    p=0.5 \n",
    "\n",
    "    probability = binomialProbability(n, k, p);\n",
    "    print(probability); "
   ]
  },
  {
   "cell_type": "code",
   "execution_count": 14,
   "metadata": {},
   "outputs": [
    {
     "name": "stdout",
     "output_type": "stream",
     "text": [
      "[5 6 5 5 5 6 5 7 8 5]\n"
     ]
    }
   ],
   "source": [
    "n=10\n",
    "p=0.5\n",
    "\n",
    "np.random.seed(0)\n",
    "s = np.random.binomial(n, p, 10)\n",
    "print(s)"
   ]
  },
  {
   "cell_type": "code",
   "execution_count": 15,
   "metadata": {},
   "outputs": [],
   "source": [
    "from scipy.stats import zscore"
   ]
  },
  {
   "cell_type": "code",
   "execution_count": 16,
   "metadata": {},
   "outputs": [
    {
     "name": "stdout",
     "output_type": "stream",
     "text": [
      "Help on function zscore in module scipy.stats.stats:\n",
      "\n",
      "zscore(a, axis=0, ddof=0, nan_policy='propagate')\n",
      "    Compute the z score.\n",
      "    \n",
      "    Compute the z score of each value in the sample, relative to the\n",
      "    sample mean and standard deviation.\n",
      "    \n",
      "    Parameters\n",
      "    ----------\n",
      "    a : array_like\n",
      "        An array like object containing the sample data.\n",
      "    axis : int or None, optional\n",
      "        Axis along which to operate. Default is 0. If None, compute over\n",
      "        the whole array `a`.\n",
      "    ddof : int, optional\n",
      "        Degrees of freedom correction in the calculation of the\n",
      "        standard deviation. Default is 0.\n",
      "    nan_policy : {'propagate', 'raise', 'omit'}, optional\n",
      "        Defines how to handle when input contains nan. 'propagate' returns nan,\n",
      "        'raise' throws an error, 'omit' performs the calculations ignoring nan\n",
      "        values. Default is 'propagate'.\n",
      "    \n",
      "    Returns\n",
      "    -------\n",
      "    zscore : array_like\n",
      "        The z-scores, standardized by mean and standard deviation of\n",
      "        input array `a`.\n",
      "    \n",
      "    Notes\n",
      "    -----\n",
      "    This function preserves ndarray subclasses, and works also with\n",
      "    matrices and masked arrays (it uses `asanyarray` instead of\n",
      "    `asarray` for parameters).\n",
      "    \n",
      "    Examples\n",
      "    --------\n",
      "    >>> a = np.array([ 0.7972,  0.0767,  0.4383,  0.7866,  0.8091,\n",
      "    ...                0.1954,  0.6307,  0.6599,  0.1065,  0.0508])\n",
      "    >>> from scipy import stats\n",
      "    >>> stats.zscore(a)\n",
      "    array([ 1.1273, -1.247 , -0.0552,  1.0923,  1.1664, -0.8559,  0.5786,\n",
      "            0.6748, -1.1488, -1.3324])\n",
      "    \n",
      "    Computing along a specified axis, using n-1 degrees of freedom\n",
      "    (``ddof=1``) to calculate the standard deviation:\n",
      "    \n",
      "    >>> b = np.array([[ 0.3148,  0.0478,  0.6243,  0.4608],\n",
      "    ...               [ 0.7149,  0.0775,  0.6072,  0.9656],\n",
      "    ...               [ 0.6341,  0.1403,  0.9759,  0.4064],\n",
      "    ...               [ 0.5918,  0.6948,  0.904 ,  0.3721],\n",
      "    ...               [ 0.0921,  0.2481,  0.1188,  0.1366]])\n",
      "    >>> stats.zscore(b, axis=1, ddof=1)\n",
      "    array([[-0.19264823, -1.28415119,  1.07259584,  0.40420358],\n",
      "           [ 0.33048416, -1.37380874,  0.04251374,  1.00081084],\n",
      "           [ 0.26796377, -1.12598418,  1.23283094, -0.37481053],\n",
      "           [-0.22095197,  0.24468594,  1.19042819, -1.21416216],\n",
      "           [-0.82780366,  1.4457416 , -0.43867764, -0.1792603 ]])\n",
      "\n"
     ]
    }
   ],
   "source": [
    "help(zscore)"
   ]
  },
  {
   "cell_type": "code",
   "execution_count": 21,
   "metadata": {},
   "outputs": [
    {
     "data": {
      "text/plain": [
       "array([[-1.5, -1. , -0.5,  0. ,  0.5,  1. ,  1.5]])"
      ]
     },
     "execution_count": 21,
     "metadata": {},
     "output_type": "execute_result"
    }
   ],
   "source": [
    "zscore([[70, 80, 90, 100, 110,120,130]] ,axis=1)"
   ]
  },
  {
   "cell_type": "code",
   "execution_count": 56,
   "metadata": {},
   "outputs": [
    {
     "name": "stdout",
     "output_type": "stream",
     "text": [
      "1.0\n"
     ]
    }
   ],
   "source": [
    "print((100-90)/10)"
   ]
  },
  {
   "cell_type": "code",
   "execution_count": 28,
   "metadata": {
    "scrolled": true
   },
   "outputs": [
    {
     "data": {
      "text/plain": [
       "array([[-1.,  1.]])"
      ]
     },
     "execution_count": 28,
     "metadata": {},
     "output_type": "execute_result"
    }
   ],
   "source": [
    "zscore([[90,100]],axis=1)"
   ]
  },
  {
   "cell_type": "code",
   "execution_count": 29,
   "metadata": {},
   "outputs": [
    {
     "data": {
      "text/plain": [
       "array([[ 1., -1.]])"
      ]
     },
     "execution_count": 29,
     "metadata": {},
     "output_type": "execute_result"
    }
   ],
   "source": [
    "zscore([[100,90]],axis=1)"
   ]
  },
  {
   "cell_type": "code",
   "execution_count": 104,
   "metadata": {},
   "outputs": [
    {
     "name": "stdout",
     "output_type": "stream",
     "text": [
      "[1.0]\n",
      "[nan]\n"
     ]
    }
   ],
   "source": [
    "m=100\n",
    "sd=10\n",
    "z = float((m-90)/sd) \n",
    "a=[] \n",
    "a.append(z)\n",
    "print(a)\n",
    "print(zscore(a,axis=0))"
   ]
  },
  {
   "cell_type": "code",
   "execution_count": 106,
   "metadata": {},
   "outputs": [
    {
     "data": {
      "text/plain": [
       "3.6"
      ]
     },
     "execution_count": 106,
     "metadata": {},
     "output_type": "execute_result"
    }
   ],
   "source": [
    "round(3.60,2)"
   ]
  },
  {
   "cell_type": "code",
   "execution_count": 107,
   "metadata": {},
   "outputs": [
    {
     "data": {
      "text/plain": [
       "3.6"
      ]
     },
     "execution_count": 107,
     "metadata": {},
     "output_type": "execute_result"
    }
   ],
   "source": [
    "round(3.6,2)"
   ]
  },
  {
   "cell_type": "code",
   "execution_count": 111,
   "metadata": {},
   "outputs": [],
   "source": [
    "x=(15-3)/(15-1)"
   ]
  },
  {
   "cell_type": "code",
   "execution_count": 113,
   "metadata": {},
   "outputs": [
    {
     "data": {
      "text/plain": [
       "0.8571"
      ]
     },
     "execution_count": 113,
     "metadata": {},
     "output_type": "execute_result"
    }
   ],
   "source": [
    "round(x,4)"
   ]
  },
  {
   "cell_type": "code",
   "execution_count": 33,
   "metadata": {},
   "outputs": [],
   "source": [
    "data = np.array([6, 7, 7, 12, 13, 13, 15, 16, 19, 22])"
   ]
  },
  {
   "cell_type": "code",
   "execution_count": 36,
   "metadata": {},
   "outputs": [
    {
     "data": {
      "text/plain": [
       "13.0"
      ]
     },
     "execution_count": 36,
     "metadata": {},
     "output_type": "execute_result"
    }
   ],
   "source": [
    "np.mean(data)"
   ]
  },
  {
   "cell_type": "code",
   "execution_count": 37,
   "metadata": {},
   "outputs": [
    {
     "data": {
      "text/plain": [
       "13.0"
      ]
     },
     "execution_count": 37,
     "metadata": {},
     "output_type": "execute_result"
    }
   ],
   "source": [
    "np.median(data)"
   ]
  },
  {
   "cell_type": "code",
   "execution_count": 39,
   "metadata": {},
   "outputs": [
    {
     "data": {
      "text/plain": [
       "array([-1.39443338, -1.19522861, -1.19522861, -0.19920477,  0.        ,\n",
       "        0.        ,  0.39840954,  0.5976143 ,  1.19522861,  1.79284291])"
      ]
     },
     "execution_count": 39,
     "metadata": {},
     "output_type": "execute_result"
    }
   ],
   "source": [
    "zscore(data,axis=0)"
   ]
  },
  {
   "cell_type": "code",
   "execution_count": 45,
   "metadata": {},
   "outputs": [],
   "source": [
    "mean=100\n",
    "sd=10\n",
    "data=pd.DataFrame([mean-3*sd,mean-2*sd,mean-1*sd,mean,mean+1*sd,mean+2*sd,mean+3*sd], columns=['A'])"
   ]
  },
  {
   "cell_type": "code",
   "execution_count": 47,
   "metadata": {},
   "outputs": [
    {
     "data": {
      "text/html": [
       "<div>\n",
       "<style scoped>\n",
       "    .dataframe tbody tr th:only-of-type {\n",
       "        vertical-align: middle;\n",
       "    }\n",
       "\n",
       "    .dataframe tbody tr th {\n",
       "        vertical-align: top;\n",
       "    }\n",
       "\n",
       "    .dataframe thead th {\n",
       "        text-align: right;\n",
       "    }\n",
       "</style>\n",
       "<table border=\"1\" class=\"dataframe\">\n",
       "  <thead>\n",
       "    <tr style=\"text-align: right;\">\n",
       "      <th></th>\n",
       "      <th>A</th>\n",
       "    </tr>\n",
       "  </thead>\n",
       "  <tbody>\n",
       "    <tr>\n",
       "      <th>0</th>\n",
       "      <td>70</td>\n",
       "    </tr>\n",
       "    <tr>\n",
       "      <th>1</th>\n",
       "      <td>80</td>\n",
       "    </tr>\n",
       "    <tr>\n",
       "      <th>2</th>\n",
       "      <td>90</td>\n",
       "    </tr>\n",
       "    <tr>\n",
       "      <th>3</th>\n",
       "      <td>100</td>\n",
       "    </tr>\n",
       "    <tr>\n",
       "      <th>4</th>\n",
       "      <td>110</td>\n",
       "    </tr>\n",
       "    <tr>\n",
       "      <th>5</th>\n",
       "      <td>120</td>\n",
       "    </tr>\n",
       "    <tr>\n",
       "      <th>6</th>\n",
       "      <td>130</td>\n",
       "    </tr>\n",
       "  </tbody>\n",
       "</table>\n",
       "</div>"
      ],
      "text/plain": [
       "     A\n",
       "0   70\n",
       "1   80\n",
       "2   90\n",
       "3  100\n",
       "4  110\n",
       "5  120\n",
       "6  130"
      ]
     },
     "execution_count": 47,
     "metadata": {},
     "output_type": "execute_result"
    }
   ],
   "source": [
    "data.head(10)"
   ]
  },
  {
   "cell_type": "code",
   "execution_count": 50,
   "metadata": {},
   "outputs": [],
   "source": [
    "import scipy.stats as stats"
   ]
  },
  {
   "cell_type": "code",
   "execution_count": 51,
   "metadata": {},
   "outputs": [
    {
     "data": {
      "text/html": [
       "<div>\n",
       "<style scoped>\n",
       "    .dataframe tbody tr th:only-of-type {\n",
       "        vertical-align: middle;\n",
       "    }\n",
       "\n",
       "    .dataframe tbody tr th {\n",
       "        vertical-align: top;\n",
       "    }\n",
       "\n",
       "    .dataframe thead th {\n",
       "        text-align: right;\n",
       "    }\n",
       "</style>\n",
       "<table border=\"1\" class=\"dataframe\">\n",
       "  <thead>\n",
       "    <tr style=\"text-align: right;\">\n",
       "      <th></th>\n",
       "      <th>A</th>\n",
       "    </tr>\n",
       "  </thead>\n",
       "  <tbody>\n",
       "    <tr>\n",
       "      <th>0</th>\n",
       "      <td>-1.5</td>\n",
       "    </tr>\n",
       "    <tr>\n",
       "      <th>1</th>\n",
       "      <td>-1.0</td>\n",
       "    </tr>\n",
       "    <tr>\n",
       "      <th>2</th>\n",
       "      <td>-0.5</td>\n",
       "    </tr>\n",
       "    <tr>\n",
       "      <th>3</th>\n",
       "      <td>0.0</td>\n",
       "    </tr>\n",
       "    <tr>\n",
       "      <th>4</th>\n",
       "      <td>0.5</td>\n",
       "    </tr>\n",
       "    <tr>\n",
       "      <th>5</th>\n",
       "      <td>1.0</td>\n",
       "    </tr>\n",
       "    <tr>\n",
       "      <th>6</th>\n",
       "      <td>1.5</td>\n",
       "    </tr>\n",
       "  </tbody>\n",
       "</table>\n",
       "</div>"
      ],
      "text/plain": [
       "     A\n",
       "0 -1.5\n",
       "1 -1.0\n",
       "2 -0.5\n",
       "3  0.0\n",
       "4  0.5\n",
       "5  1.0\n",
       "6  1.5"
      ]
     },
     "execution_count": 51,
     "metadata": {},
     "output_type": "execute_result"
    }
   ],
   "source": [
    "data.apply(stats.zscore)"
   ]
  },
  {
   "cell_type": "code",
   "execution_count": 53,
   "metadata": {},
   "outputs": [
    {
     "name": "stdout",
     "output_type": "stream",
     "text": [
      "[1.0]\n"
     ]
    }
   ],
   "source": [
    "m=100\n",
    "sd=10\n",
    "# P(X<90)\n",
    "z = float((m-90)/sd) \n",
    "a=[] \n",
    "a.append(z)\n",
    "print(a)"
   ]
  },
  {
   "cell_type": "code",
   "execution_count": 54,
   "metadata": {},
   "outputs": [],
   "source": [
    "from math import *\n",
    "def erfcc(x):\n",
    "    \"\"\"Complementary error function.\"\"\"\n",
    "    z = abs(x)\n",
    "    t = 1. / (1. + 0.5*z)\n",
    "    r = t * exp(-z*z-1.26551223+t*(1.00002368+t*(.37409196+\n",
    "        t*(.09678418+t*(-.18628806+t*(.27886807+\n",
    "        t*(-1.13520398+t*(1.48851587+t*(-.82215223+\n",
    "        t*.17087277)))))))))\n",
    "    if (x >= 0.):\n",
    "        return r\n",
    "    else:\n",
    "        return 2. - r\n",
    "\n",
    "def ncdf(x):\n",
    "    return 1. - 0.5*erfcc(x/(2**0.5))"
   ]
  },
  {
   "cell_type": "code",
   "execution_count": 56,
   "metadata": {},
   "outputs": [
    {
     "data": {
      "text/plain": [
       "0.84"
      ]
     },
     "execution_count": 56,
     "metadata": {},
     "output_type": "execute_result"
    }
   ],
   "source": [
    "round(ncdf(1.0),2)"
   ]
  },
  {
   "cell_type": "code",
   "execution_count": 61,
   "metadata": {},
   "outputs": [
    {
     "name": "stdout",
     "output_type": "stream",
     "text": [
      "0.84\n"
     ]
    }
   ],
   "source": [
    "m=100\n",
    "sd=10\n",
    "from math import *\n",
    "def erfcc(x):\n",
    "    \"\"\"Complementary error function.\"\"\"\n",
    "    z = abs(x)\n",
    "    t = 1. / (1. + 0.5*z)\n",
    "    r = t * exp(-z*z-1.26551223+t*(1.00002368+t*(.37409196+\n",
    "        t*(.09678418+t*(-.18628806+t*(.27886807+\n",
    "        t*(-1.13520398+t*(1.48851587+t*(-.82215223+\n",
    "        t*.17087277)))))))))\n",
    "    if (x >= 0.):\n",
    "        return r\n",
    "    else:\n",
    "        return 2. - r\n",
    "\n",
    "def ncdf(x):\n",
    "    return 1. - 0.5*erfcc(x/(2**0.5))\n",
    "    \n",
    "z=float((m-90)/sd)\n",
    "print(round(ncdf(z),2))"
   ]
  },
  {
   "cell_type": "code",
   "execution_count": 63,
   "metadata": {},
   "outputs": [
    {
     "data": {
      "text/plain": [
       "0.84"
      ]
     },
     "execution_count": 63,
     "metadata": {},
     "output_type": "execute_result"
    }
   ],
   "source": [
    "from scipy.stats import norm\n",
    "round(norm.cdf(z),2)"
   ]
  },
  {
   "cell_type": "code",
   "execution_count": null,
   "metadata": {},
   "outputs": [],
   "source": []
  }
 ],
 "metadata": {
  "kernelspec": {
   "display_name": "Python 3",
   "language": "python",
   "name": "python3"
  },
  "language_info": {
   "codemirror_mode": {
    "name": "ipython",
    "version": 3
   },
   "file_extension": ".py",
   "mimetype": "text/x-python",
   "name": "python",
   "nbconvert_exporter": "python",
   "pygments_lexer": "ipython3",
   "version": "3.8.3"
  }
 },
 "nbformat": 4,
 "nbformat_minor": 4
}
