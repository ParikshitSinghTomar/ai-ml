{
 "cells": [
  {
   "cell_type": "markdown",
   "metadata": {},
   "source": [
    "## Valid email ID\n",
    "Description\n",
    "Consider that email IDs are supposed to be for the following format:\n",
    "\n",
    "username@website.extension.\n",
    "\n",
    "Here, there are three conditions to keep in mind:\n",
    "1. The username can only contain characters 0-9, a-z and A-Z.\n",
    "2. The website name can contain only characters a-z\n",
    "3. The extension can have 2 or 3 alphabets(a-z).\n",
    "\n",
    "Given an email ID, you have to determine if it is valid or not.\n",
    "\n",
    "Sample Input:\n",
    "\n",
    "prerna@upgrad.com\n",
    "\n",
    "Sample Output:\n",
    "\n",
    "valid"
   ]
  },
  {
   "cell_type": "code",
   "execution_count": 1,
   "metadata": {},
   "outputs": [],
   "source": [
    "import re"
   ]
  },
  {
   "cell_type": "code",
   "execution_count": 44,
   "metadata": {},
   "outputs": [
    {
     "name": "stdout",
     "output_type": "stream",
     "text": [
      "invalid\n",
      "invalid\n",
      "invalid\n",
      "invalid\n",
      "invalid\n",
      "valid\n"
     ]
    }
   ],
   "source": [
    "regex='^[a-z0-9A-Z]+[@][a-z]+[.]\\w{2,3}$'\n",
    "def checkmail(email):\n",
    "    # pass the regular expression \n",
    "    # and the string in search() method \n",
    "    if(re.search(regex,email)):  \n",
    "        return \"valid\" \n",
    "    else:  \n",
    "         return \"invalid\"\n",
    "        \n",
    "\n",
    "##contains . not valid\n",
    "email='pre.na@upgrad.com'\n",
    "print(checkmail(email))\n",
    "## contains _ not valid\n",
    "email='pre_na@upgrad.com'\n",
    "print(checkmail(email))\n",
    "\n",
    "##contains caps P in uPgrad false second conditions. so invalid\n",
    "email='pre_na@uPgrad.com'\n",
    "print(checkmail(email))\n",
    "\n",
    "## only two or three chracter allowed otherwise false\n",
    "email='prerna@upgrad.comm'\n",
    "print(checkmail(email))\n",
    "email='prerna@upgrad.c'\n",
    "print(checkmail(email))\n",
    "\n",
    "##The username can only contain characters 0-9, a-z and A-Z.\n",
    "## Only contains 0-9,a-z and A-Z, so valid\n",
    "email='preRna9@upgrad.com'\n",
    "print(checkmail(email))"
   ]
  },
  {
   "cell_type": "markdown",
   "metadata": {},
   "source": [
    "## Flatten a list\n",
    "Description\n",
    "Given a nested list, write python code to flatten the list.\n",
    "\n",
    "Note: The input list will strictly have 2 levels, i.e. the list will be of the form [[1,2],[3,4]]. Inputs like [1,[2,3]] and [[1,[2,3],4],5] are not applicable.\n",
    "\n",
    "For example: If the input list is :\n",
    "[[1,2,3],[4,5],[6,7,8,9]]\n",
    "\n",
    "Then the output should be:\n",
    "[1,2,3,4,5,6,7,8,9]"
   ]
  },
  {
   "cell_type": "code",
   "execution_count": 45,
   "metadata": {},
   "outputs": [],
   "source": [
    "flatten_list=lambda t: [item for sublist in t for item in sublist]"
   ]
  },
  {
   "cell_type": "code",
   "execution_count": 46,
   "metadata": {},
   "outputs": [
    {
     "name": "stdout",
     "output_type": "stream",
     "text": [
      "[1, 2, 3, 4, 5, 6, 7, 8, 9]\n"
     ]
    }
   ],
   "source": [
    "print(flatten_list([[1,2,3],[4,5],[6,7,8,9]] ))"
   ]
  },
  {
   "cell_type": "markdown",
   "metadata": {},
   "source": [
    "## Squares\n",
    "### Description\n",
    "Given a list of positive integers, you have to find numbers divisible by 3 and replace them with their squares. \n",
    "\n",
    "For example, consider the list below:\n",
    "\n",
    "Input: [1,2,3,4,5,6]\n",
    "\n",
    "The output for the above list would be: [1,2,9,4,5,36]. Because 3 and 6 were divisible by 3, these numbers were replaced with their squares."
   ]
  },
  {
   "cell_type": "code",
   "execution_count": 50,
   "metadata": {},
   "outputs": [
    {
     "name": "stdout",
     "output_type": "stream",
     "text": [
      "[1, 2, 9, 4, 5, 36]\n"
     ]
    }
   ],
   "source": [
    "numbers = [1, 2, 3, 4, 5,6]\n",
    "\n",
    "squared_numbers = [number ** 2 if number%3==0 else number for number in numbers]\n",
    "\n",
    "print(squared_numbers)"
   ]
  },
  {
   "cell_type": "markdown",
   "metadata": {},
   "source": [
    "## A weird sum\n",
    "### Description\n",
    "Write a program that computes the value of n+nn+nnn+nnnn with a given digit as the value of n.\n",
    "\n",
    "For example, if n=9 , then you have to find the value of 9+99+999+9999."
   ]
  },
  {
   "cell_type": "code",
   "execution_count": 72,
   "metadata": {},
   "outputs": [
    {
     "data": {
      "text/plain": [
       "11106"
      ]
     },
     "execution_count": 72,
     "metadata": {},
     "output_type": "execute_result"
    }
   ],
   "source": [
    "def findResult(n):\n",
    "    x=str(n)\n",
    "    return int(x*1)+int(x*2)+int(x*3)+int(x*4)\n",
    "findResult(9)"
   ]
  },
  {
   "cell_type": "code",
   "execution_count": null,
   "metadata": {},
   "outputs": [],
   "source": []
  }
 ],
 "metadata": {
  "kernelspec": {
   "display_name": "Python 3",
   "language": "python",
   "name": "python3"
  },
  "language_info": {
   "codemirror_mode": {
    "name": "ipython",
    "version": 3
   },
   "file_extension": ".py",
   "mimetype": "text/x-python",
   "name": "python",
   "nbconvert_exporter": "python",
   "pygments_lexer": "ipython3",
   "version": "3.8.3"
  }
 },
 "nbformat": 4,
 "nbformat_minor": 4
}
