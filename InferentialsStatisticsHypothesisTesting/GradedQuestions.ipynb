{
 "cells": [
  {
   "cell_type": "markdown",
   "metadata": {},
   "source": [
    "## Valid email ID\n",
    "Description\n",
    "Consider that email IDs are supposed to be for the following format:\n",
    "\n",
    "username@website.extension.\n",
    "\n",
    "Here, there are three conditions to keep in mind:\n",
    "1. The username can only contain characters 0-9, a-z and A-Z.\n",
    "2. The website name can contain only characters a-z\n",
    "3. The extension can have 2 or 3 alphabets(a-z).\n",
    "\n",
    "Given an email ID, you have to determine if it is valid or not.\n",
    "\n",
    "Sample Input:\n",
    "\n",
    "prerna@upgrad.com\n",
    "\n",
    "Sample Output:\n",
    "\n",
    "valid"
   ]
  },
  {
   "cell_type": "code",
   "execution_count": 16,
   "metadata": {},
   "outputs": [],
   "source": [
    "import re"
   ]
  },
  {
   "cell_type": "code",
   "execution_count": 17,
   "metadata": {},
   "outputs": [
    {
     "name": "stdout",
     "output_type": "stream",
     "text": [
      "invalid\n",
      "invalid\n",
      "invalid\n",
      "invalid\n",
      "invalid\n",
      "valid\n"
     ]
    }
   ],
   "source": [
    "regex='^[a-z0-9A-Z]+[@][a-z]+[.]\\w{2,3}$'\n",
    "def checkmail(email):\n",
    "    # pass the regular expression \n",
    "    # and the string in search() method \n",
    "    if(re.search(regex,email)):  \n",
    "        return \"valid\" \n",
    "    else:  \n",
    "         return \"invalid\"\n",
    "        \n",
    "\n",
    "##contains . not valid\n",
    "email='pre.na@upgrad.com'\n",
    "print(checkmail(email))\n",
    "## contains _ not valid\n",
    "email='pre_na@upgrad.com'\n",
    "print(checkmail(email))\n",
    "\n",
    "##contains caps P in uPgrad false second conditions. so invalid\n",
    "email='pre_na@uPgrad.com'\n",
    "print(checkmail(email))\n",
    "\n",
    "## only two or three chracter allowed otherwise false\n",
    "email='prerna@upgrad.comm'\n",
    "print(checkmail(email))\n",
    "email='prerna@upgrad.c'\n",
    "print(checkmail(email))\n",
    "\n",
    "##The username can only contain characters 0-9, a-z and A-Z.\n",
    "## Only contains 0-9,a-z and A-Z, so valid\n",
    "email='preRna9@upgrad.com'\n",
    "print(checkmail(email))"
   ]
  },
  {
   "cell_type": "markdown",
   "metadata": {},
   "source": [
    "## Flatten a list\n",
    "Description\n",
    "Given a nested list, write python code to flatten the list.\n",
    "\n",
    "Note: The input list will strictly have 2 levels, i.e. the list will be of the form [[1,2],[3,4]]. Inputs like [1,[2,3]] and [[1,[2,3],4],5] are not applicable.\n",
    "\n",
    "For example: If the input list is :\n",
    "[[1,2,3],[4,5],[6,7,8,9]]\n",
    "\n",
    "Then the output should be:\n",
    "[1,2,3,4,5,6,7,8,9]"
   ]
  },
  {
   "cell_type": "code",
   "execution_count": 18,
   "metadata": {},
   "outputs": [],
   "source": [
    "flatten_list=lambda t: [item for sublist in t for item in sublist]"
   ]
  },
  {
   "cell_type": "code",
   "execution_count": 19,
   "metadata": {},
   "outputs": [
    {
     "name": "stdout",
     "output_type": "stream",
     "text": [
      "[1, 2, 3, 4, 5, 6, 7, 8, 9]\n"
     ]
    }
   ],
   "source": [
    "print(flatten_list([[1,2,3],[4,5],[6,7,8,9]] ))"
   ]
  },
  {
   "cell_type": "markdown",
   "metadata": {},
   "source": [
    "## Squares\n",
    "### Description\n",
    "Given a list of positive integers, you have to find numbers divisible by 3 and replace them with their squares. \n",
    "\n",
    "For example, consider the list below:\n",
    "\n",
    "Input: [1,2,3,4,5,6]\n",
    "\n",
    "The output for the above list would be: [1,2,9,4,5,36]. Because 3 and 6 were divisible by 3, these numbers were replaced with their squares."
   ]
  },
  {
   "cell_type": "code",
   "execution_count": 20,
   "metadata": {},
   "outputs": [
    {
     "name": "stdout",
     "output_type": "stream",
     "text": [
      "[1, 2, 9, 4, 5, 36]\n"
     ]
    }
   ],
   "source": [
    "numbers = [1, 2, 3, 4, 5,6]\n",
    "\n",
    "squared_numbers = [number ** 2 if number%3==0 else number for number in numbers]\n",
    "\n",
    "print(squared_numbers)"
   ]
  },
  {
   "cell_type": "markdown",
   "metadata": {},
   "source": [
    "## A weird sum\n",
    "### Description\n",
    "Write a program that computes the value of n+nn+nnn+nnnn with a given digit as the value of n.\n",
    "\n",
    "For example, if n=9 , then you have to find the value of 9+99+999+9999."
   ]
  },
  {
   "cell_type": "code",
   "execution_count": 21,
   "metadata": {},
   "outputs": [
    {
     "data": {
      "text/plain": [
       "11106"
      ]
     },
     "execution_count": 21,
     "metadata": {},
     "output_type": "execute_result"
    }
   ],
   "source": [
    "def findResult(n):\n",
    "    x=str(n)\n",
    "    return int(x*1)+int(x*2)+int(x*3)+int(x*4)\n",
    "findResult(9)"
   ]
  },
  {
   "cell_type": "markdown",
   "metadata": {},
   "source": [
    "## 2D array\n",
    "### Description\n",
    "Write Python code which takes 2 numbers x and y as input and generates a 2-dimensional numpy array where value in\n",
    "the i-th row and j-th column of the array should be (i+j)/2.<br>\n",
    "Note: i=0,1,...x-1 and j=0,1....,y-1<br>\n",
    "The input will have two lines with x and y respectively.<br>\n",
    "The output should be a 2D numpy array.<br>\n",
    "Sample Input:<br>\n",
    "3<br>\n",
    "4<br>\n",
    "Sample Output:<br>\n",
    "[[0.  0.5 1.  1.5]<br>\n",
    " [0.5 1.  1.5 2. ]<br>\n",
    " [1.  1.5 2.  2.5]]<br>"
   ]
  },
  {
   "cell_type": "code",
   "execution_count": 22,
   "metadata": {},
   "outputs": [
    {
     "name": "stdout",
     "output_type": "stream",
     "text": [
      "[[0.  0.5 1.  1.5]\n",
      " [0.5 1.  1.5 2. ]\n",
      " [1.  1.5 2.  2.5]]\n"
     ]
    }
   ],
   "source": [
    "import numpy as np\n",
    "def listNested(x,y):\n",
    "    array = [[(i+j)/2 for j in range(y)] for i in range(x)]\n",
    "    ar = np.matrix(array)\n",
    "    return ar\n",
    "print(listNested(3,4))"
   ]
  },
  {
   "cell_type": "code",
   "execution_count": 23,
   "metadata": {},
   "outputs": [
    {
     "name": "stdout",
     "output_type": "stream",
     "text": [
      "[0, 1, 2, 3, 4, 5, 6, 7, 8, 9, 10, 11, 12, 13, 14, 15, 16, 17, 18, 19, 20, 21, 22, 23, 24, 25, 26, 27, 28, 29, 30, 31, 32, 33, 34, 35, 36, 37, 38, 39, 40, 41, 42, 43, 44, 45, 46, 47, 48, 49, 50, 51, 52, 53, 54, 55, 56, 57, 58, 59, 60, 61, 62, 63, 64, 65]\n"
     ]
    }
   ],
   "source": [
    "x = []\n",
    "for d in range(0,66):\n",
    "    x.append(d)\n",
    "print(x)"
   ]
  },
  {
   "cell_type": "markdown",
   "metadata": {},
   "source": [
    "## Frequent Letters\n",
    "### Description\n",
    "Given a string, you have to find the first n most frequent characters in it.\n",
    "<br>\n",
    "You have to print these n letters in alphabetically sorted order.\n",
    "<br>\n",
    "The input will contain two lines, the first line will contain a string and the second line will contain the letter n.\n",
    "<br>\n",
    "The output should be a list of n most frequent letters in alphabetically sorted order.\n",
    "<br>\n",
    "Note: If there are two letters with the same frequency, then the alphabetically preceding alphabet should be <br>picked first. (For example, in \"aabbccc\", if n=2, then output list would have c and a.)\n",
    "<br>\n",
    "Sample Input:\n",
    "<br>\n",
    "ddddaacccb\n",
    "<br>\n",
    "3\n",
    "<br>\n",
    "Sample Output:\n",
    "<br>\n",
    "['a', 'c', 'd']<br>"
   ]
  },
  {
   "cell_type": "code",
   "execution_count": 117,
   "metadata": {},
   "outputs": [
    {
     "name": "stdout",
     "output_type": "stream",
     "text": [
      "[('c', 3), ('a', 2), ('b', 2), ('d', 2)]\n"
     ]
    }
   ],
   "source": [
    "import collections\n",
    "s = \"aabbddccc\"\n",
    "n=2"
   ]
  },
  {
   "cell_type": "code",
   "execution_count": 118,
   "metadata": {},
   "outputs": [
    {
     "name": "stdout",
     "output_type": "stream",
     "text": [
      "[('c', 3), ('a', 2), ('b', 2), ('d', 2)]\n"
     ]
    }
   ],
   "source": [
    "d = collections.defaultdict(int)\n",
    "for c in s:\n",
    "    d[c] += 1\n",
    "dic=sorted(d.items(), key=lambda x: (x[1]), reverse=True)\n",
    "print(dic)"
   ]
  },
  {
   "cell_type": "code",
   "execution_count": 128,
   "metadata": {},
   "outputs": [
    {
     "name": "stdout",
     "output_type": "stream",
     "text": [
      "['a', 'c']\n"
     ]
    }
   ],
   "source": [
    "dic_temp=dic[0:n]\n",
    "#print(dic_temp)\n",
    "result=[]\n",
    "for item in dic[0:n]:\n",
    "    result.append(item[0])\n",
    "print(sorted(result))"
   ]
  },
  {
   "cell_type": "code",
   "execution_count": 120,
   "metadata": {},
   "outputs": [],
   "source": [
    "mykeys=d.keys()\n",
    "arr=[]\n",
    "for x in mykeys:\n",
    "    value=str(d[x])\n",
    "    value+=x\n",
    "    arr.append(value)"
   ]
  },
  {
   "cell_type": "code",
   "execution_count": 121,
   "metadata": {},
   "outputs": [
    {
     "name": "stdout",
     "output_type": "stream",
     "text": [
      "['2a', '2b', '2d', '3c']\n"
     ]
    }
   ],
   "source": [
    "print(arr)"
   ]
  },
  {
   "cell_type": "code",
   "execution_count": 72,
   "metadata": {},
   "outputs": [],
   "source": [
    "arr.sort()"
   ]
  },
  {
   "cell_type": "code",
   "execution_count": 73,
   "metadata": {},
   "outputs": [
    {
     "name": "stdout",
     "output_type": "stream",
     "text": [
      "['1d', '1e', '1h', '1r', '1w', '2o', '3l']\n"
     ]
    }
   ],
   "source": [
    "print(arr)"
   ]
  },
  {
   "cell_type": "code",
   "execution_count": 74,
   "metadata": {},
   "outputs": [
    {
     "data": {
      "text/plain": [
       "['1w', '1r', '2o', '3l', '1h', '1e', '1d']"
      ]
     },
     "execution_count": 74,
     "metadata": {},
     "output_type": "execute_result"
    }
   ],
   "source": [
    "sorted(arr, key=lambda x: x[1], reverse=True)"
   ]
  },
  {
   "cell_type": "code",
   "execution_count": null,
   "metadata": {},
   "outputs": [],
   "source": []
  },
  {
   "cell_type": "code",
   "execution_count": null,
   "metadata": {},
   "outputs": [],
   "source": []
  }
 ],
 "metadata": {
  "kernelspec": {
   "display_name": "Python 3",
   "language": "python",
   "name": "python3"
  },
  "language_info": {
   "codemirror_mode": {
    "name": "ipython",
    "version": 3
   },
   "file_extension": ".py",
   "mimetype": "text/x-python",
   "name": "python",
   "nbconvert_exporter": "python",
   "pygments_lexer": "ipython3",
   "version": "3.8.3"
  }
 },
 "nbformat": 4,
 "nbformat_minor": 4
}
