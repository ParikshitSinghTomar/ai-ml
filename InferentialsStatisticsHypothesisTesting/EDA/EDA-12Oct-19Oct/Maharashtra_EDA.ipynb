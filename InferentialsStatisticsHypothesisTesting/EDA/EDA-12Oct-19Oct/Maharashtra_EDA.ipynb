{
 "cells": [
  {
   "cell_type": "markdown",
   "metadata": {},
   "source": [
    "### National Achievement Survey - Maharashtra"
   ]
  },
  {
   "cell_type": "code",
   "execution_count": 29,
   "metadata": {},
   "outputs": [],
   "source": [
    "import numpy as np\n",
    "import pandas as pd\n",
    "import seaborn as sns\n",
    "import matplotlib.pyplot as plt\n",
    "%matplotlib inline\n",
    "from matplotlib.pyplot import figure"
   ]
  },
  {
   "cell_type": "code",
   "execution_count": 30,
   "metadata": {},
   "outputs": [
    {
     "data": {
      "text/html": [
       "<div>\n",
       "<style scoped>\n",
       "    .dataframe tbody tr th:only-of-type {\n",
       "        vertical-align: middle;\n",
       "    }\n",
       "\n",
       "    .dataframe tbody tr th {\n",
       "        vertical-align: top;\n",
       "    }\n",
       "\n",
       "    .dataframe thead th {\n",
       "        text-align: right;\n",
       "    }\n",
       "</style>\n",
       "<table border=\"1\" class=\"dataframe\">\n",
       "  <thead>\n",
       "    <tr style=\"text-align: right;\">\n",
       "      <th></th>\n",
       "      <th>STUID</th>\n",
       "      <th>State</th>\n",
       "      <th>District</th>\n",
       "      <th>Gender</th>\n",
       "      <th>Age</th>\n",
       "      <th>Category</th>\n",
       "      <th>Same.language</th>\n",
       "      <th>Siblings</th>\n",
       "      <th>Handicap</th>\n",
       "      <th>Father.edu</th>\n",
       "      <th>...</th>\n",
       "      <th>Express.science.views</th>\n",
       "      <th>Watch.TV</th>\n",
       "      <th>Read.magazine</th>\n",
       "      <th>Read.a.book</th>\n",
       "      <th>Play.games</th>\n",
       "      <th>Help.in.household</th>\n",
       "      <th>Maths</th>\n",
       "      <th>Reading</th>\n",
       "      <th>Science</th>\n",
       "      <th>Social..</th>\n",
       "    </tr>\n",
       "  </thead>\n",
       "  <tbody>\n",
       "    <tr>\n",
       "      <th>0</th>\n",
       "      <td>26011001001</td>\n",
       "      <td>Maharashtra</td>\n",
       "      <td>1</td>\n",
       "      <td>Girl</td>\n",
       "      <td>13 years</td>\n",
       "      <td>3.0</td>\n",
       "      <td>2.0</td>\n",
       "      <td>1 sibling</td>\n",
       "      <td>No</td>\n",
       "      <td>Illiterate</td>\n",
       "      <td>...</td>\n",
       "      <td>Agree</td>\n",
       "      <td>Every day</td>\n",
       "      <td>Never</td>\n",
       "      <td>Once a month</td>\n",
       "      <td>Once a week</td>\n",
       "      <td>Every day</td>\n",
       "      <td>NaN</td>\n",
       "      <td>33.33</td>\n",
       "      <td>NaN</td>\n",
       "      <td>NaN</td>\n",
       "    </tr>\n",
       "    <tr>\n",
       "      <th>1</th>\n",
       "      <td>26011001002</td>\n",
       "      <td>Maharashtra</td>\n",
       "      <td>1</td>\n",
       "      <td>Girl</td>\n",
       "      <td>15 years</td>\n",
       "      <td>3.0</td>\n",
       "      <td>2.0</td>\n",
       "      <td>3 siblings</td>\n",
       "      <td>No</td>\n",
       "      <td>NaN</td>\n",
       "      <td>...</td>\n",
       "      <td>Agree</td>\n",
       "      <td>Once a week</td>\n",
       "      <td>Never</td>\n",
       "      <td>Never</td>\n",
       "      <td>Once a week</td>\n",
       "      <td>Every day</td>\n",
       "      <td>NaN</td>\n",
       "      <td>62.07</td>\n",
       "      <td>NaN</td>\n",
       "      <td>NaN</td>\n",
       "    </tr>\n",
       "    <tr>\n",
       "      <th>2</th>\n",
       "      <td>26011001003</td>\n",
       "      <td>Maharashtra</td>\n",
       "      <td>1</td>\n",
       "      <td>Girl</td>\n",
       "      <td>14 years</td>\n",
       "      <td>3.0</td>\n",
       "      <td>2.0</td>\n",
       "      <td>3 siblings</td>\n",
       "      <td>No</td>\n",
       "      <td>Degree &amp; above</td>\n",
       "      <td>...</td>\n",
       "      <td>Agree</td>\n",
       "      <td>Every day</td>\n",
       "      <td>Once a month</td>\n",
       "      <td>Once a month</td>\n",
       "      <td>Once a week</td>\n",
       "      <td>Every day</td>\n",
       "      <td>NaN</td>\n",
       "      <td>41.38</td>\n",
       "      <td>NaN</td>\n",
       "      <td>NaN</td>\n",
       "    </tr>\n",
       "    <tr>\n",
       "      <th>3</th>\n",
       "      <td>26011001004</td>\n",
       "      <td>Maharashtra</td>\n",
       "      <td>1</td>\n",
       "      <td>Boy</td>\n",
       "      <td>13 years</td>\n",
       "      <td>3.0</td>\n",
       "      <td>2.0</td>\n",
       "      <td>3 siblings</td>\n",
       "      <td>No</td>\n",
       "      <td>Secondary</td>\n",
       "      <td>...</td>\n",
       "      <td>Agree</td>\n",
       "      <td>Every day</td>\n",
       "      <td>Every day</td>\n",
       "      <td>Never</td>\n",
       "      <td>Every day</td>\n",
       "      <td>Every day</td>\n",
       "      <td>29.82</td>\n",
       "      <td>NaN</td>\n",
       "      <td>NaN</td>\n",
       "      <td>NaN</td>\n",
       "    </tr>\n",
       "    <tr>\n",
       "      <th>4</th>\n",
       "      <td>26011001005</td>\n",
       "      <td>Maharashtra</td>\n",
       "      <td>1</td>\n",
       "      <td>Girl</td>\n",
       "      <td>14 years</td>\n",
       "      <td>3.0</td>\n",
       "      <td>2.0</td>\n",
       "      <td>2 siblings</td>\n",
       "      <td>No</td>\n",
       "      <td>Primary</td>\n",
       "      <td>...</td>\n",
       "      <td>Neither</td>\n",
       "      <td>Never</td>\n",
       "      <td>Never</td>\n",
       "      <td>Once a month</td>\n",
       "      <td>Once a week</td>\n",
       "      <td>Every day</td>\n",
       "      <td>NaN</td>\n",
       "      <td>NaN</td>\n",
       "      <td>27.27</td>\n",
       "      <td>NaN</td>\n",
       "    </tr>\n",
       "    <tr>\n",
       "      <th>5</th>\n",
       "      <td>26011001006</td>\n",
       "      <td>Maharashtra</td>\n",
       "      <td>1</td>\n",
       "      <td>Girl</td>\n",
       "      <td>13 years</td>\n",
       "      <td>3.0</td>\n",
       "      <td>2.0</td>\n",
       "      <td>2 siblings</td>\n",
       "      <td>No</td>\n",
       "      <td>Primary</td>\n",
       "      <td>...</td>\n",
       "      <td>Agree</td>\n",
       "      <td>Every day</td>\n",
       "      <td>Once a week</td>\n",
       "      <td>Once a month</td>\n",
       "      <td>Once a week</td>\n",
       "      <td>Every day</td>\n",
       "      <td>NaN</td>\n",
       "      <td>NaN</td>\n",
       "      <td>27.27</td>\n",
       "      <td>NaN</td>\n",
       "    </tr>\n",
       "    <tr>\n",
       "      <th>6</th>\n",
       "      <td>26011001007</td>\n",
       "      <td>Maharashtra</td>\n",
       "      <td>1</td>\n",
       "      <td>Girl</td>\n",
       "      <td>14 years</td>\n",
       "      <td>1.0</td>\n",
       "      <td>2.0</td>\n",
       "      <td>1 sibling</td>\n",
       "      <td>No</td>\n",
       "      <td>NaN</td>\n",
       "      <td>...</td>\n",
       "      <td>Agree</td>\n",
       "      <td>Every day</td>\n",
       "      <td>Every day</td>\n",
       "      <td>Never</td>\n",
       "      <td>Every day</td>\n",
       "      <td>Every day</td>\n",
       "      <td>NaN</td>\n",
       "      <td>NaN</td>\n",
       "      <td>NaN</td>\n",
       "      <td>28.57</td>\n",
       "    </tr>\n",
       "    <tr>\n",
       "      <th>7</th>\n",
       "      <td>26011001013</td>\n",
       "      <td>Maharashtra</td>\n",
       "      <td>1</td>\n",
       "      <td>Girl</td>\n",
       "      <td>NaN</td>\n",
       "      <td>1.0</td>\n",
       "      <td>2.0</td>\n",
       "      <td>4+ siblings</td>\n",
       "      <td>No</td>\n",
       "      <td>Sr secondary</td>\n",
       "      <td>...</td>\n",
       "      <td>Neither</td>\n",
       "      <td>Every day</td>\n",
       "      <td>Never</td>\n",
       "      <td>Never</td>\n",
       "      <td>Once a week</td>\n",
       "      <td>Every day</td>\n",
       "      <td>NaN</td>\n",
       "      <td>NaN</td>\n",
       "      <td>18.18</td>\n",
       "      <td>NaN</td>\n",
       "    </tr>\n",
       "    <tr>\n",
       "      <th>8</th>\n",
       "      <td>26011001014</td>\n",
       "      <td>Maharashtra</td>\n",
       "      <td>1</td>\n",
       "      <td>Girl</td>\n",
       "      <td>NaN</td>\n",
       "      <td>2.0</td>\n",
       "      <td>2.0</td>\n",
       "      <td>2 siblings</td>\n",
       "      <td>No</td>\n",
       "      <td>Primary</td>\n",
       "      <td>...</td>\n",
       "      <td>Agree</td>\n",
       "      <td>Every day</td>\n",
       "      <td>Never</td>\n",
       "      <td>Never</td>\n",
       "      <td>Once a month</td>\n",
       "      <td>Every day</td>\n",
       "      <td>NaN</td>\n",
       "      <td>NaN</td>\n",
       "      <td>23.64</td>\n",
       "      <td>NaN</td>\n",
       "    </tr>\n",
       "    <tr>\n",
       "      <th>9</th>\n",
       "      <td>26011001015</td>\n",
       "      <td>Maharashtra</td>\n",
       "      <td>1</td>\n",
       "      <td>Girl</td>\n",
       "      <td>13 years</td>\n",
       "      <td>4.0</td>\n",
       "      <td>2.0</td>\n",
       "      <td>4+ siblings</td>\n",
       "      <td>No</td>\n",
       "      <td>Secondary</td>\n",
       "      <td>...</td>\n",
       "      <td>Neither</td>\n",
       "      <td>Every day</td>\n",
       "      <td>Never</td>\n",
       "      <td>Never</td>\n",
       "      <td>Once a week</td>\n",
       "      <td>Every day</td>\n",
       "      <td>NaN</td>\n",
       "      <td>NaN</td>\n",
       "      <td>NaN</td>\n",
       "      <td>26.53</td>\n",
       "    </tr>\n",
       "  </tbody>\n",
       "</table>\n",
       "<p>10 rows × 64 columns</p>\n",
       "</div>"
      ],
      "text/plain": [
       "         STUID        State  District Gender       Age  Category  \\\n",
       "0  26011001001  Maharashtra         1   Girl  13 years       3.0   \n",
       "1  26011001002  Maharashtra         1   Girl  15 years       3.0   \n",
       "2  26011001003  Maharashtra         1   Girl  14 years       3.0   \n",
       "3  26011001004  Maharashtra         1    Boy  13 years       3.0   \n",
       "4  26011001005  Maharashtra         1   Girl  14 years       3.0   \n",
       "5  26011001006  Maharashtra         1   Girl  13 years       3.0   \n",
       "6  26011001007  Maharashtra         1   Girl  14 years       1.0   \n",
       "7  26011001013  Maharashtra         1   Girl       NaN       1.0   \n",
       "8  26011001014  Maharashtra         1   Girl       NaN       2.0   \n",
       "9  26011001015  Maharashtra         1   Girl  13 years       4.0   \n",
       "\n",
       "   Same.language     Siblings Handicap      Father.edu  ...  \\\n",
       "0            2.0    1 sibling       No      Illiterate  ...   \n",
       "1            2.0   3 siblings       No             NaN  ...   \n",
       "2            2.0   3 siblings       No  Degree & above  ...   \n",
       "3            2.0   3 siblings       No       Secondary  ...   \n",
       "4            2.0   2 siblings       No         Primary  ...   \n",
       "5            2.0   2 siblings       No         Primary  ...   \n",
       "6            2.0    1 sibling       No             NaN  ...   \n",
       "7            2.0  4+ siblings       No    Sr secondary  ...   \n",
       "8            2.0   2 siblings       No         Primary  ...   \n",
       "9            2.0  4+ siblings       No       Secondary  ...   \n",
       "\n",
       "  Express.science.views     Watch.TV Read.magazine   Read.a.book  \\\n",
       "0                 Agree    Every day         Never  Once a month   \n",
       "1                 Agree  Once a week         Never         Never   \n",
       "2                 Agree    Every day  Once a month  Once a month   \n",
       "3                 Agree    Every day     Every day         Never   \n",
       "4               Neither        Never         Never  Once a month   \n",
       "5                 Agree    Every day   Once a week  Once a month   \n",
       "6                 Agree    Every day     Every day         Never   \n",
       "7               Neither    Every day         Never         Never   \n",
       "8                 Agree    Every day         Never         Never   \n",
       "9               Neither    Every day         Never         Never   \n",
       "\n",
       "     Play.games Help.in.household  Maths Reading Science Social..  \n",
       "0   Once a week         Every day    NaN   33.33     NaN      NaN  \n",
       "1   Once a week         Every day    NaN   62.07     NaN      NaN  \n",
       "2   Once a week         Every day    NaN   41.38     NaN      NaN  \n",
       "3     Every day         Every day  29.82     NaN     NaN      NaN  \n",
       "4   Once a week         Every day    NaN     NaN   27.27      NaN  \n",
       "5   Once a week         Every day    NaN     NaN   27.27      NaN  \n",
       "6     Every day         Every day    NaN     NaN     NaN    28.57  \n",
       "7   Once a week         Every day    NaN     NaN   18.18      NaN  \n",
       "8  Once a month         Every day    NaN     NaN   23.64      NaN  \n",
       "9   Once a week         Every day    NaN     NaN     NaN    26.53  \n",
       "\n",
       "[10 rows x 64 columns]"
      ]
     },
     "execution_count": 30,
     "metadata": {},
     "output_type": "execute_result"
    }
   ],
   "source": [
    "df=pd.read_csv('EDA_nas.csv')\n",
    "df.head(10)"
   ]
  },
  {
   "cell_type": "code",
   "execution_count": 31,
   "metadata": {},
   "outputs": [
    {
     "name": "stdout",
     "output_type": "stream",
     "text": [
      "<class 'pandas.core.frame.DataFrame'>\n",
      "RangeIndex: 8801 entries, 0 to 8800\n",
      "Data columns (total 64 columns):\n",
      " #   Column                  Non-Null Count  Dtype  \n",
      "---  ------                  --------------  -----  \n",
      " 0   STUID                   8801 non-null   int64  \n",
      " 1   State                   8801 non-null   object \n",
      " 2   District                8801 non-null   int64  \n",
      " 3   Gender                  8799 non-null   object \n",
      " 4   Age                     8569 non-null   object \n",
      " 5   Category                8232 non-null   float64\n",
      " 6   Same.language           8572 non-null   float64\n",
      " 7   Siblings                8801 non-null   object \n",
      " 8   Handicap                8304 non-null   object \n",
      " 9   Father.edu              8147 non-null   object \n",
      " 10  Mother.edu              7950 non-null   object \n",
      " 11  Father.occupation       7761 non-null   object \n",
      " 12  Mother.occupation       6626 non-null   object \n",
      " 13  Below.poverty           7347 non-null   object \n",
      " 14  Use.calculator          6646 non-null   object \n",
      " 15  Use.computer            6646 non-null   object \n",
      " 16  Use.Internet            6646 non-null   object \n",
      " 17  Use.dictionary          6646 non-null   object \n",
      " 18  Read.other.books        6996 non-null   object \n",
      " 19  X..Books                8059 non-null   object \n",
      " 20  Distance                8467 non-null   object \n",
      " 21  Computer.use            8737 non-null   object \n",
      " 22  Library.use             8604 non-null   object \n",
      " 23  Like.school             8568 non-null   object \n",
      " 24  Subjects                8692 non-null   object \n",
      " 25  Give.Lang.HW            8735 non-null   object \n",
      " 26  Give.Math.HW            8735 non-null   object \n",
      " 27  Give.Scie.HW            8735 non-null   object \n",
      " 28  Give.SoSc.HW            8735 non-null   object \n",
      " 29  Correct.Lang.HW         8694 non-null   object \n",
      " 30  Correct.Math.HW         8694 non-null   object \n",
      " 31  Correct.Scie.HW         8694 non-null   object \n",
      " 32  Correct.SocS.HW         8694 non-null   object \n",
      " 33  Help.in.Study           8711 non-null   object \n",
      " 34  Private.tuition         8711 non-null   object \n",
      " 35  English.is.difficult    8761 non-null   object \n",
      " 36  Read.English            8761 non-null   object \n",
      " 37  Dictionary.to.learn     8761 non-null   object \n",
      " 38  Answer.English.WB       8761 non-null   object \n",
      " 39  Answer.English.aloud    8761 non-null   object \n",
      " 40  Maths.is.difficult      8740 non-null   object \n",
      " 41  Solve.Maths             8740 non-null   object \n",
      " 42  Solve.Maths.in.groups   8740 non-null   object \n",
      " 43  Draw.geometry           8740 non-null   object \n",
      " 44  Explain.answers         8740 non-null   object \n",
      " 45  SocSci.is.difficult     8611 non-null   object \n",
      " 46  Historical.excursions   8587 non-null   object \n",
      " 47  Participate.in.SocSci   8567 non-null   object \n",
      " 48  Small.groups.in.SocSci  8525 non-null   object \n",
      " 49  Express.SocSci.views    8488 non-null   object \n",
      " 50  Science.is.difficult    8599 non-null   object \n",
      " 51  Observe.experiments     8562 non-null   object \n",
      " 52  Conduct.experiments     8555 non-null   object \n",
      " 53  Solve.science.problems  8489 non-null   object \n",
      " 54  Express.science.views   8436 non-null   object \n",
      " 55  Watch.TV                8757 non-null   object \n",
      " 56  Read.magazine           8757 non-null   object \n",
      " 57  Read.a.book             8757 non-null   object \n",
      " 58  Play.games              8757 non-null   object \n",
      " 59  Help.in.household       8757 non-null   object \n",
      " 60  Maths                   4190 non-null   float64\n",
      " 61  Reading                 4227 non-null   float64\n",
      " 62  Science                 4144 non-null   float64\n",
      " 63  Social..                4119 non-null   float64\n",
      "dtypes: float64(6), int64(2), object(56)\n",
      "memory usage: 4.3+ MB\n"
     ]
    }
   ],
   "source": [
    "df.info()"
   ]
  },
  {
   "cell_type": "code",
   "execution_count": 32,
   "metadata": {},
   "outputs": [
    {
     "data": {
      "text/plain": [
       "(8801,)"
      ]
     },
     "execution_count": 32,
     "metadata": {},
     "output_type": "execute_result"
    }
   ],
   "source": [
    "df['Science'].shape"
   ]
  },
  {
   "cell_type": "code",
   "execution_count": 33,
   "metadata": {},
   "outputs": [
    {
     "data": {
      "text/plain": [
       "count    4144.000000\n",
       "mean       36.313272\n",
       "std        13.199105\n",
       "min         0.000000\n",
       "25%        27.270000\n",
       "50%        34.550000\n",
       "75%        43.640000\n",
       "max        85.450000\n",
       "Name: Science, dtype: float64"
      ]
     },
     "execution_count": 33,
     "metadata": {},
     "output_type": "execute_result"
    }
   ],
   "source": [
    " df['Science'].describe()   "
   ]
  },
  {
   "cell_type": "code",
   "execution_count": 34,
   "metadata": {},
   "outputs": [
    {
     "data": {
      "text/plain": [
       "4       27.27\n",
       "5       27.27\n",
       "7       18.18\n",
       "8       23.64\n",
       "14      30.91\n",
       "        ...  \n",
       "8792    27.27\n",
       "8795    12.73\n",
       "8796    34.55\n",
       "8799    23.64\n",
       "8800    27.27\n",
       "Name: Science, Length: 4144, dtype: float64"
      ]
     },
     "execution_count": 34,
     "metadata": {},
     "output_type": "execute_result"
    }
   ],
   "source": [
    "df['Science'].dropna()"
   ]
  },
  {
   "cell_type": "code",
   "execution_count": 35,
   "metadata": {},
   "outputs": [
    {
     "data": {
      "text/plain": [
       "(8801,)"
      ]
     },
     "execution_count": 35,
     "metadata": {},
     "output_type": "execute_result"
    }
   ],
   "source": [
    "df['Science'].shape"
   ]
  },
  {
   "cell_type": "code",
   "execution_count": 36,
   "metadata": {},
   "outputs": [
    {
     "data": {
      "text/plain": [
       "count          8757\n",
       "unique            4\n",
       "top       Every day\n",
       "freq           6621\n",
       "Name: Watch.TV, dtype: object"
      ]
     },
     "execution_count": 36,
     "metadata": {},
     "output_type": "execute_result"
    }
   ],
   "source": [
    "df['Watch.TV'].describe()"
   ]
  },
  {
   "cell_type": "code",
   "execution_count": 37,
   "metadata": {},
   "outputs": [
    {
     "data": {
      "image/png": "[encoded data removed]",
      "text/plain": [
       "<Figure size 1080x864 with 1 Axes>"
      ]
     },
     "metadata": {
      "needs_background": "light"
     },
     "output_type": "display_data"
    }
   ],
   "source": [
    "plt.figure(figsize=[15,12])\n",
    "sns.boxplot(df['Watch.TV'],df['Science'])\n",
    "plt.show()"
   ]
  },
  {
   "cell_type": "code",
   "execution_count": 38,
   "metadata": {},
   "outputs": [
    {
     "data": {
      "image/png": "[encoded data removed]",
      "text/plain": [
       "<Figure size 1080x864 with 1 Axes>"
      ]
     },
     "metadata": {
      "needs_background": "light"
     },
     "output_type": "display_data"
    }
   ],
   "source": [
    "plt.figure(figsize=[15,12])\n",
    "sns.barplot(data=df, x=\"Watch.TV\", y=\"Science\", estimator=np.median)\n",
    "plt.show()"
   ]
  },
  {
   "cell_type": "code",
   "execution_count": 39,
   "metadata": {},
   "outputs": [
    {
     "data": {
      "image/png": "[encoded data removed]",
      "text/plain": [
       "<Figure size 1080x864 with 1 Axes>"
      ]
     },
     "metadata": {
      "needs_background": "light"
     },
     "output_type": "display_data"
    }
   ],
   "source": [
    "plt.figure(figsize=[15,12])\n",
    "sns.boxplot(df['Father.edu'],df['Maths'])\n",
    "plt.show()"
   ]
  },
  {
   "cell_type": "code",
   "execution_count": 40,
   "metadata": {},
   "outputs": [
    {
     "data": {
      "image/png": "[encoded data removed]",
      "text/plain": [
       "<Figure size 1080x864 with 1 Axes>"
      ]
     },
     "metadata": {
      "needs_background": "light"
     },
     "output_type": "display_data"
    }
   ],
   "source": [
    "plt.figure(figsize=[15,12])\n",
    "sns.barplot(data=df, x=\"Father.edu\", y=\"Maths\", estimator=np.median)\n",
    "plt.show()"
   ]
  },
  {
   "cell_type": "code",
   "execution_count": 41,
   "metadata": {
    "scrolled": true
   },
   "outputs": [
    {
     "data": {
      "image/png": "[encoded data removed]",
      "text/plain": [
       "<Figure size 504x360 with 1 Axes>"
      ]
     },
     "metadata": {
      "needs_background": "light"
     },
     "output_type": "display_data"
    }
   ],
   "source": [
    "plt.figure(figsize=[7,5])\n",
    "sns.boxplot(df['Play.games'],df['Reading'])\n",
    "plt.show()"
   ]
  },
  {
   "cell_type": "code",
   "execution_count": 42,
   "metadata": {},
   "outputs": [
    {
     "data": {
      "image/png": "[encoded data removed]",
      "text/plain": [
       "<Figure size 720x576 with 1 Axes>"
      ]
     },
     "metadata": {
      "needs_background": "light"
     },
     "output_type": "display_data"
    }
   ],
   "source": [
    "plt.figure(figsize=[10,8])\n",
    "sns.barplot(data=df, x=\"Play.games\", y=\"Reading\", estimator=np.median)\n",
    "plt.show()"
   ]
  },
  {
   "cell_type": "code",
   "execution_count": 43,
   "metadata": {},
   "outputs": [
    {
     "data": {
      "image/png": "[encoded data removed]",
      "text/plain": [
       "<Figure size 720x576 with 1 Axes>"
      ]
     },
     "metadata": {
      "needs_background": "light"
     },
     "output_type": "display_data"
    }
   ],
   "source": [
    "plt.figure(figsize=[10,8])\n",
    "sns.barplot(data=df, x=\"Solve.Maths\", y=\"Maths\", estimator=np.mean)\n",
    "plt.show()"
   ]
  },
  {
   "cell_type": "code",
   "execution_count": 45,
   "metadata": {},
   "outputs": [
    {
     "data": {
      "image/png": "[encoded data removed]",
      "text/plain": [
       "<Figure size 504x360 with 1 Axes>"
      ]
     },
     "metadata": {
      "needs_background": "light"
     },
     "output_type": "display_data"
    }
   ],
   "source": [
    "plt.figure(figsize=[7,5])\n",
    "sns.boxplot(df['Mother.edu'],df['Reading'])\n",
    "plt.show()"
   ]
  },
  {
   "cell_type": "code",
   "execution_count": 46,
   "metadata": {},
   "outputs": [
    {
     "data": {
      "text/plain": [
       "Mother.edu\n",
       "Degree & above    70.294286\n",
       "Illiterate        49.477253\n",
       "Primary           56.306995\n",
       "Secondary         59.685071\n",
       "Sr secondary      66.873282\n",
       "Name: Reading, dtype: float64"
      ]
     },
     "execution_count": 46,
     "metadata": {},
     "output_type": "execute_result"
    }
   ],
   "source": [
    "df.groupby('Mother.edu')['Reading'].mean()"
   ]
  },
  {
   "cell_type": "code",
   "execution_count": null,
   "metadata": {},
   "outputs": [],
   "source": []
  }
 ],
 "metadata": {
  "kernelspec": {
   "display_name": "Python 3",
   "language": "python",
   "name": "python3"
  },
  "language_info": {
   "codemirror_mode": {
    "name": "ipython",
    "version": 3
   },
   "file_extension": ".py",
   "mimetype": "text/x-python",
   "name": "python",
   "nbconvert_exporter": "python",
   "pygments_lexer": "ipython3",
   "version": "3.8.3"
  }
 },
 "nbformat": 4,
 "nbformat_minor": 4
}
