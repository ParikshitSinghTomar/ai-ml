{
 "cells": [
  {
   "cell_type": "code",
   "execution_count": 1,
   "metadata": {},
   "outputs": [
    {
     "name": "stdout",
     "output_type": "stream",
     "text": [
      "[1, 4, 9, 16, 25, 36, 49, 64, 81]\n"
     ]
    }
   ],
   "source": [
    "squares_list= []\n",
    "\n",
    "for x in range(1,10):\n",
    "    squares_list.append(x**2)\n",
    "print(squares_list)\n"
   ]
  },
  {
   "cell_type": "code",
   "execution_count": 2,
   "metadata": {},
   "outputs": [
    {
     "name": "stdout",
     "output_type": "stream",
     "text": [
      "[1, 4, 9, 16, 25, 36, 49, 64, 81]\n"
     ]
    }
   ],
   "source": [
    "squares_list = [x**2 for x in range(1,10)]\n",
    "print(squares_list)"
   ]
  },
  {
   "cell_type": "code",
   "execution_count": 3,
   "metadata": {},
   "outputs": [],
   "source": [
    "paragraph = [\"There was a fox.\" , 'It was brown in color.', \"It was seen near that farm sometime back\"]"
   ]
  },
  {
   "cell_type": "code",
   "execution_count": 4,
   "metadata": {},
   "outputs": [],
   "source": [
    "# ['There', 'was', 'a', 'fox.', 'It', 'was', 'brown', 'in', 'color.', 'It', 'was', 'seen', 'near', 'that', 'farm', 'sometime', 'back']"
   ]
  },
  {
   "cell_type": "code",
   "execution_count": 21,
   "metadata": {},
   "outputs": [
    {
     "name": "stdout",
     "output_type": "stream",
     "text": [
      "['There', 'was', 'a', 'fox.', 'It', 'was', 'brown', 'in', 'color.', 'It', 'was', 'seen', 'near', 'that', 'farm', 'sometime', 'back']\n"
     ]
    }
   ],
   "source": [
    "single_word_list =[]\n",
    "\n",
    "for sentence in paragraph:\n",
    "    for word in sentence.split():\n",
    "        single_word_list.append(word)\n",
    "\n",
    "print(single_word_list)"
   ]
  },
  {
   "cell_type": "code",
   "execution_count": 26,
   "metadata": {},
   "outputs": [
    {
     "name": "stdout",
     "output_type": "stream",
     "text": [
      "['There', 'was', 'a', 'fox.', 'It', 'was', 'brown', 'in', 'color.', 'It', 'was', 'seen', 'near', 'that', 'farm', 'sometime', 'back']\n"
     ]
    }
   ],
   "source": [
    "single_word_list  = [word for sentence in paragraph for word in sentence.split()]\n",
    "print(single_word_list)"
   ]
  },
  {
   "cell_type": "code",
   "execution_count": 27,
   "metadata": {},
   "outputs": [
    {
     "name": "stdout",
     "output_type": "stream",
     "text": [
      "['a', 'It', 'in', 'It']\n"
     ]
    }
   ],
   "source": [
    "#list comp with if statement\n",
    "vowels = ['a','e','i','o','u']\n",
    "vowels_from_sentence =[]\n",
    "for sentence in paragraph:\n",
    "    for word in sentence.split():\n",
    "        if word[0].lower() in vowels:\n",
    "            vowels_from_sentence.append(word)\n",
    "\n",
    "print(vowels_from_sentence)\n"
   ]
  },
  {
   "cell_type": "code",
   "execution_count": 28,
   "metadata": {},
   "outputs": [],
   "source": [
    "#[ for sentence in paragraph]\n",
    "#[ for sentence in paragraph for word in sentence.split()]\n"
   ]
  },
  {
   "cell_type": "code",
   "execution_count": 32,
   "metadata": {},
   "outputs": [
    {
     "name": "stdout",
     "output_type": "stream",
     "text": [
      "['a', 'It', 'in', 'It']\n"
     ]
    }
   ],
   "source": [
    "vowels_comp = [word for sentence in paragraph for word in sentence.split() if word[0].lower() in vowels]\n",
    "print(vowels_comp)"
   ]
  },
  {
   "cell_type": "code",
   "execution_count": 33,
   "metadata": {},
   "outputs": [
    {
     "name": "stdout",
     "output_type": "stream",
     "text": [
      "{0: 0, 1: 1, 2: 4, 3: 9, 4: 16, 5: 25, 6: 36, 7: 49, 8: 64, 9: 81, 10: 100, 11: 121, 12: 144, 13: 169, 14: 196, 15: 225, 16: 256, 17: 289, 18: 324, 19: 361, 20: 400, 21: 441, 22: 484, 23: 529, 24: 576}\n"
     ]
    }
   ],
   "source": [
    "squared_dictionary = {num : num**2 for num in range(0, 25)}\n",
    "print(squared_dictionary)"
   ]
  },
  {
   "cell_type": "code",
   "execution_count": 34,
   "metadata": {},
   "outputs": [],
   "source": [
    "students_data = {1:['Shivam Bansal', 24] , 2:['Udit Bansal',25], 3:['Sonam Gupta', 26], 4:['Saif Ansari',24], 5:['Huzefa Calcuttawala',27]}\n"
   ]
  },
  {
   "cell_type": "code",
   "execution_count": null,
   "metadata": {},
   "outputs": [],
   "source": [
    "names_dict ={}\n",
    "\n",
    "#iterate over each key, val pair\n",
    "for roll_num,details in students_data.items():\n",
    "    if roll_num%2==0:\n",
    "        names_dict[roll_num]= details[0]\n",
    "print(names_dict)"
   ]
  },
  {
   "cell_type": "code",
   "execution_count": 35,
   "metadata": {},
   "outputs": [
    {
     "name": "stdout",
     "output_type": "stream",
     "text": [
      "{2: 'Udit Bansal', 4: 'Saif Ansari'}\n"
     ]
    }
   ],
   "source": [
    "names_comp = {roll_num:details[0] for roll_num,details in students_data.items() if roll_num%2==0}\n",
    "print(names_comp)"
   ]
  },
  {
   "cell_type": "code",
   "execution_count": 37,
   "metadata": {
    "scrolled": true
   },
   "outputs": [
    {
     "name": "stdout",
     "output_type": "stream",
     "text": [
      "aaa\n"
     ]
    }
   ],
   "source": [
    "a='a'\n",
    "print(3*a)"
   ]
  },
  {
   "cell_type": "code",
   "execution_count": 5,
   "metadata": {},
   "outputs": [],
   "source": [
    "lst=[]\n",
    "lst.append(1)"
   ]
  },
  {
   "cell_type": "code",
   "execution_count": 6,
   "metadata": {},
   "outputs": [
    {
     "name": "stdout",
     "output_type": "stream",
     "text": [
      "[1]\n"
     ]
    }
   ],
   "source": [
    "print(lst)"
   ]
  },
  {
   "cell_type": "code",
   "execution_count": 7,
   "metadata": {},
   "outputs": [],
   "source": [
    "lst1=[1,2,3]\n",
    "lst.append(lst1)"
   ]
  },
  {
   "cell_type": "code",
   "execution_count": 8,
   "metadata": {},
   "outputs": [
    {
     "name": "stdout",
     "output_type": "stream",
     "text": [
      "[1, [1, 2, 3]]\n"
     ]
    }
   ],
   "source": [
    "print(lst)"
   ]
  },
  {
   "cell_type": "code",
   "execution_count": 23,
   "metadata": {},
   "outputs": [
    {
     "name": "stdout",
     "output_type": "stream",
     "text": [
      "[[0, 0, 0], [0, 0, 1], [0, 1, 0], [0, 1, 2], [0, 2, 1], [0, 2, 2], [1, 0, 0], [1, 0, 2], [1, 1, 1], [1, 1, 2], [1, 2, 0], [1, 2, 1], [1, 2, 2], [2, 0, 1], [2, 0, 2], [2, 1, 0], [2, 1, 1], [2, 1, 2], [2, 2, 0], [2, 2, 1], [2, 2, 2]]\n"
     ]
    }
   ],
   "source": [
    "x=2\n",
    "y=2\n",
    "z=2\n",
    "n=2\n",
    "finalResult=[]\n",
    "def normalFunc(x,y,z,n):\n",
    "    for x1 in range(0,x+1):\n",
    "        for y1 in range(0,y+1):\n",
    "            for z1 in range(0,z+1):\n",
    "                    if x1+y1+z1 != n:\n",
    "                        finalResult.append([x1,y1,z1])\n",
    "\n",
    "normalFunc(x,y,z,n)\n",
    "print(finalResult)                        "
   ]
  },
  {
   "cell_type": "code",
   "execution_count": 24,
   "metadata": {},
   "outputs": [
    {
     "name": "stdout",
     "output_type": "stream",
     "text": [
      "21\n"
     ]
    }
   ],
   "source": [
    "print(len(finalResult))"
   ]
  },
  {
   "cell_type": "code",
   "execution_count": 32,
   "metadata": {},
   "outputs": [
    {
     "name": "stdout",
     "output_type": "stream",
     "text": [
      "[[0, 0, 0], [1, 0, 0], [0, 1, 0], [2, 1, 0], [1, 2, 0], [2, 2, 0], [0, 0, 1], [2, 0, 1], [1, 1, 1], [2, 1, 1], [0, 2, 1], [1, 2, 1], [2, 2, 1], [1, 0, 2], [2, 0, 2], [0, 1, 2], [1, 1, 2], [2, 1, 2], [0, 2, 2], [1, 2, 2], [2, 2, 2]]\n"
     ]
    }
   ],
   "source": [
    "x=2\n",
    "y=2\n",
    "z=2\n",
    "n=2\n",
    "lambdaFunction = [[x1,y1,z1] for z1 in range(0,z+1) for y1 in range(0,y+1) for x1 in range(0,x+1)]\n",
    "print(lambdaFunction)"
   ]
  },
  {
   "cell_type": "code",
   "execution_count": 47,
   "metadata": {},
   "outputs": [
    {
     "name": "stdout",
     "output_type": "stream",
     "text": [
      "[[0, 0, 0], [0, 0, 1], [0, 1, 0], [0, 1, 2], [0, 2, 1], [0, 2, 2], [1, 0, 0], [1, 0, 2], [1, 1, 1], [1, 1, 2], [1, 2, 0], [1, 2, 1], [1, 2, 2], [2, 0, 1], [2, 0, 2], [2, 1, 0], [2, 1, 1], [2, 1, 2], [2, 2, 0], [2, 2, 1], [2, 2, 2]]\n"
     ]
    }
   ],
   "source": [
    "x=2\n",
    "y=2\n",
    "z=2\n",
    "n=2\n",
    "ans = [[i, j, k] for i in range(x + 1) for j in range(y + 1) for k in range(z+ 1) if i + j + k != n]\n",
    "print(ans)"
   ]
  },
  {
   "cell_type": "code",
   "execution_count": 90,
   "metadata": {},
   "outputs": [
    {
     "name": "stdout",
     "output_type": "stream",
     "text": [
      "[2, 3, 5, 6]\n",
      "[2, 3, 5, 6]\n",
      "5\n",
      "5\n"
     ]
    }
   ],
   "source": [
    "arr=[2, 3, 6, 6, 5]\n",
    "s=list(set(arr))\n",
    "print(s[-2])\n",
    "print(sorted(list(set(arr)))[-2])"
   ]
  },
  {
   "cell_type": "code",
   "execution_count": 79,
   "metadata": {},
   "outputs": [
    {
     "data": {
      "text/plain": [
       "'\\nfor item in sortedList:\\n        print(item)\\n        if item==3:\\n            break\\n'"
      ]
     },
     "execution_count": 79,
     "metadata": {},
     "output_type": "execute_result"
    }
   ],
   "source": [
    "\"\"\"\n",
    "for item in sortedList:\n",
    "        print(item)\n",
    "        if item==3:\n",
    "            break\n",
    "\"\"\"  "
   ]
  },
  {
   "cell_type": "code",
   "execution_count": null,
   "metadata": {},
   "outputs": [],
   "source": []
  }
 ],
 "metadata": {
  "anaconda-cloud": {},
  "kernelspec": {
   "display_name": "Python 3",
   "language": "python",
   "name": "python3"
  },
  "language_info": {
   "codemirror_mode": {
    "name": "ipython",
    "version": 3
   },
   "file_extension": ".py",
   "mimetype": "text/x-python",
   "name": "python",
   "nbconvert_exporter": "python",
   "pygments_lexer": "ipython3",
   "version": "3.8.3"
  }
 },
 "nbformat": 4,
 "nbformat_minor": 1
}
