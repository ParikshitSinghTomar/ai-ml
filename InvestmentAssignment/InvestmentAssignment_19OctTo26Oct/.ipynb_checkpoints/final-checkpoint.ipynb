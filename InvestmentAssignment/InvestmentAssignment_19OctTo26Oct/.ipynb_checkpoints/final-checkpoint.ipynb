{
 "cells": [
  {
   "cell_type": "code",
   "execution_count": 13,
   "metadata": {},
   "outputs": [],
   "source": [
    "import pandas as pd\n",
    "companies = pd.read_csv('companies.csv',encoding='ISO-8859-1')\n"
   ]
  },
  {
   "cell_type": "code",
   "execution_count": 18,
   "metadata": {},
   "outputs": [],
   "source": [
    "companies.permalink = companies.permalink.str.encode('ISO-8859-1').str.decode('ascii', 'ignore')\n"
   ]
  },
  {
   "cell_type": "code",
   "execution_count": 19,
   "metadata": {},
   "outputs": [],
   "source": [
    "companies.name = companies.name.str.encode('ISO-8859-1').str.decode('ascii', 'ignore')\n"
   ]
  },
  {
   "cell_type": "code",
   "execution_count": 20,
   "metadata": {},
   "outputs": [
    {
     "data": {
      "text/html": [
       "<div>\n",
       "<style scoped>\n",
       "    .dataframe tbody tr th:only-of-type {\n",
       "        vertical-align: middle;\n",
       "    }\n",
       "\n",
       "    .dataframe tbody tr th {\n",
       "        vertical-align: top;\n",
       "    }\n",
       "\n",
       "    .dataframe thead th {\n",
       "        text-align: right;\n",
       "    }\n",
       "</style>\n",
       "<table border=\"1\" class=\"dataframe\">\n",
       "  <thead>\n",
       "    <tr style=\"text-align: right;\">\n",
       "      <th></th>\n",
       "      <th>permalink</th>\n",
       "      <th>name</th>\n",
       "      <th>homepage_url</th>\n",
       "      <th>category_list</th>\n",
       "      <th>status</th>\n",
       "      <th>country_code</th>\n",
       "      <th>state_code</th>\n",
       "      <th>region</th>\n",
       "      <th>city</th>\n",
       "      <th>founded_at</th>\n",
       "    </tr>\n",
       "  </thead>\n",
       "  <tbody>\n",
       "    <tr>\n",
       "      <th>0</th>\n",
       "      <td>/Organization/-Fame</td>\n",
       "      <td>#fame</td>\n",
       "      <td>http://livfame.com</td>\n",
       "      <td>Media</td>\n",
       "      <td>operating</td>\n",
       "      <td>IND</td>\n",
       "      <td>16</td>\n",
       "      <td>Mumbai</td>\n",
       "      <td>Mumbai</td>\n",
       "      <td>NaN</td>\n",
       "    </tr>\n",
       "    <tr>\n",
       "      <th>1</th>\n",
       "      <td>/Organization/-Qounter</td>\n",
       "      <td>:Qounter</td>\n",
       "      <td>http://www.qounter.com</td>\n",
       "      <td>Application Platforms|Real Time|Social Network...</td>\n",
       "      <td>operating</td>\n",
       "      <td>USA</td>\n",
       "      <td>DE</td>\n",
       "      <td>DE - Other</td>\n",
       "      <td>Delaware City</td>\n",
       "      <td>04-09-2014</td>\n",
       "    </tr>\n",
       "    <tr>\n",
       "      <th>2</th>\n",
       "      <td>/Organization/-The-One-Of-Them-Inc-</td>\n",
       "      <td>(THE) ONE of THEM,Inc.</td>\n",
       "      <td>http://oneofthem.jp</td>\n",
       "      <td>Apps|Games|Mobile</td>\n",
       "      <td>operating</td>\n",
       "      <td>NaN</td>\n",
       "      <td>NaN</td>\n",
       "      <td>NaN</td>\n",
       "      <td>NaN</td>\n",
       "      <td>NaN</td>\n",
       "    </tr>\n",
       "    <tr>\n",
       "      <th>3</th>\n",
       "      <td>/Organization/0-6-Com</td>\n",
       "      <td>0-6.com</td>\n",
       "      <td>http://www.0-6.com</td>\n",
       "      <td>Curated Web</td>\n",
       "      <td>operating</td>\n",
       "      <td>CHN</td>\n",
       "      <td>22</td>\n",
       "      <td>Beijing</td>\n",
       "      <td>Beijing</td>\n",
       "      <td>01-01-2007</td>\n",
       "    </tr>\n",
       "    <tr>\n",
       "      <th>4</th>\n",
       "      <td>/Organization/004-Technologies</td>\n",
       "      <td>004 Technologies</td>\n",
       "      <td>http://004gmbh.de/en/004-interact</td>\n",
       "      <td>Software</td>\n",
       "      <td>operating</td>\n",
       "      <td>USA</td>\n",
       "      <td>IL</td>\n",
       "      <td>Springfield, Illinois</td>\n",
       "      <td>Champaign</td>\n",
       "      <td>01-01-2010</td>\n",
       "    </tr>\n",
       "  </tbody>\n",
       "</table>\n",
       "</div>"
      ],
      "text/plain": [
       "                             permalink                    name  \\\n",
       "0                  /Organization/-Fame                   #fame   \n",
       "1               /Organization/-Qounter                :Qounter   \n",
       "2  /Organization/-The-One-Of-Them-Inc-  (THE) ONE of THEM,Inc.   \n",
       "3                /Organization/0-6-Com                 0-6.com   \n",
       "4       /Organization/004-Technologies        004 Technologies   \n",
       "\n",
       "                        homepage_url  \\\n",
       "0                 http://livfame.com   \n",
       "1             http://www.qounter.com   \n",
       "2                http://oneofthem.jp   \n",
       "3                 http://www.0-6.com   \n",
       "4  http://004gmbh.de/en/004-interact   \n",
       "\n",
       "                                       category_list     status country_code  \\\n",
       "0                                              Media  operating          IND   \n",
       "1  Application Platforms|Real Time|Social Network...  operating          USA   \n",
       "2                                  Apps|Games|Mobile  operating          NaN   \n",
       "3                                        Curated Web  operating          CHN   \n",
       "4                                           Software  operating          USA   \n",
       "\n",
       "  state_code                 region           city  founded_at  \n",
       "0         16                 Mumbai         Mumbai         NaN  \n",
       "1         DE             DE - Other  Delaware City  04-09-2014  \n",
       "2        NaN                    NaN            NaN         NaN  \n",
       "3         22                Beijing        Beijing  01-01-2007  \n",
       "4         IL  Springfield, Illinois      Champaign  01-01-2010  "
      ]
     },
     "execution_count": 20,
     "metadata": {},
     "output_type": "execute_result"
    }
   ],
   "source": [
    "companies.head()"
   ]
  },
  {
   "cell_type": "code",
   "execution_count": 22,
   "metadata": {},
   "outputs": [
    {
     "data": {
      "text/html": [
       "<div>\n",
       "<style scoped>\n",
       "    .dataframe tbody tr th:only-of-type {\n",
       "        vertical-align: middle;\n",
       "    }\n",
       "\n",
       "    .dataframe tbody tr th {\n",
       "        vertical-align: top;\n",
       "    }\n",
       "\n",
       "    .dataframe thead th {\n",
       "        text-align: right;\n",
       "    }\n",
       "</style>\n",
       "<table border=\"1\" class=\"dataframe\">\n",
       "  <thead>\n",
       "    <tr style=\"text-align: right;\">\n",
       "      <th></th>\n",
       "      <th>company_permalink</th>\n",
       "      <th>funding_round_permalink</th>\n",
       "      <th>funding_round_type</th>\n",
       "      <th>funding_round_code</th>\n",
       "      <th>funded_at</th>\n",
       "      <th>raised_amount_usd</th>\n",
       "    </tr>\n",
       "  </thead>\n",
       "  <tbody>\n",
       "    <tr>\n",
       "      <th>0</th>\n",
       "      <td>/organization/-fame</td>\n",
       "      <td>/funding-round/9a01d05418af9f794eebff7ace91f638</td>\n",
       "      <td>venture</td>\n",
       "      <td>B</td>\n",
       "      <td>05-01-2015</td>\n",
       "      <td>10000000.0</td>\n",
       "    </tr>\n",
       "    <tr>\n",
       "      <th>1</th>\n",
       "      <td>/ORGANIZATION/-QOUNTER</td>\n",
       "      <td>/funding-round/22dacff496eb7acb2b901dec1dfe5633</td>\n",
       "      <td>venture</td>\n",
       "      <td>A</td>\n",
       "      <td>14-10-2014</td>\n",
       "      <td>NaN</td>\n",
       "    </tr>\n",
       "    <tr>\n",
       "      <th>2</th>\n",
       "      <td>/organization/-qounter</td>\n",
       "      <td>/funding-round/b44fbb94153f6cdef13083530bb48030</td>\n",
       "      <td>seed</td>\n",
       "      <td>NaN</td>\n",
       "      <td>01-03-2014</td>\n",
       "      <td>700000.0</td>\n",
       "    </tr>\n",
       "    <tr>\n",
       "      <th>3</th>\n",
       "      <td>/ORGANIZATION/-THE-ONE-OF-THEM-INC-</td>\n",
       "      <td>/funding-round/650b8f704416801069bb178a1418776b</td>\n",
       "      <td>venture</td>\n",
       "      <td>B</td>\n",
       "      <td>30-01-2014</td>\n",
       "      <td>3406878.0</td>\n",
       "    </tr>\n",
       "    <tr>\n",
       "      <th>4</th>\n",
       "      <td>/organization/0-6-com</td>\n",
       "      <td>/funding-round/5727accaeaa57461bd22a9bdd945382d</td>\n",
       "      <td>venture</td>\n",
       "      <td>A</td>\n",
       "      <td>19-03-2008</td>\n",
       "      <td>2000000.0</td>\n",
       "    </tr>\n",
       "  </tbody>\n",
       "</table>\n",
       "</div>"
      ],
      "text/plain": [
       "                     company_permalink  \\\n",
       "0                  /organization/-fame   \n",
       "1               /ORGANIZATION/-QOUNTER   \n",
       "2               /organization/-qounter   \n",
       "3  /ORGANIZATION/-THE-ONE-OF-THEM-INC-   \n",
       "4                /organization/0-6-com   \n",
       "\n",
       "                           funding_round_permalink funding_round_type  \\\n",
       "0  /funding-round/9a01d05418af9f794eebff7ace91f638            venture   \n",
       "1  /funding-round/22dacff496eb7acb2b901dec1dfe5633            venture   \n",
       "2  /funding-round/b44fbb94153f6cdef13083530bb48030               seed   \n",
       "3  /funding-round/650b8f704416801069bb178a1418776b            venture   \n",
       "4  /funding-round/5727accaeaa57461bd22a9bdd945382d            venture   \n",
       "\n",
       "  funding_round_code   funded_at  raised_amount_usd  \n",
       "0                  B  05-01-2015         10000000.0  \n",
       "1                  A  14-10-2014                NaN  \n",
       "2                NaN  01-03-2014           700000.0  \n",
       "3                  B  30-01-2014          3406878.0  \n",
       "4                  A  19-03-2008          2000000.0  "
      ]
     },
     "execution_count": 22,
     "metadata": {},
     "output_type": "execute_result"
    }
   ],
   "source": [
    "\n",
    "rounds2 = pd.read_csv('rounds2.csv',encoding='ISO-8859-1')\n",
    "rounds2.company_permalink = rounds2.company_permalink.str.encode('ISO-8859-1').str.decode('ascii', 'ignore')\n",
    "rounds2.head()\n"
   ]
  },
  {
   "cell_type": "code",
   "execution_count": 23,
   "metadata": {},
   "outputs": [
    {
     "name": "stdout",
     "output_type": "stream",
     "text": [
      "66368\n"
     ]
    }
   ],
   "source": [
    "\n",
    "#How many unique companies are present in rounds2?\n",
    "rounds2['company_permalink'] = rounds2['company_permalink'].str.lower()\n",
    "print(len(rounds2['company_permalink'].unique()))\n"
   ]
  },
  {
   "cell_type": "code",
   "execution_count": 24,
   "metadata": {},
   "outputs": [
    {
     "name": "stdout",
     "output_type": "stream",
     "text": [
      "66368\n"
     ]
    }
   ],
   "source": [
    "\n",
    "# How many unique companies are present in companies?\n",
    "companies['permalink'] = companies['permalink'].str.lower()\n",
    "print(len(companies['permalink'].unique()))\n",
    "\n",
    "\n"
   ]
  },
  {
   "cell_type": "code",
   "execution_count": 25,
   "metadata": {},
   "outputs": [
    {
     "name": "stdout",
     "output_type": "stream",
     "text": [
      "False\n"
     ]
    }
   ],
   "source": [
    "\n",
    "#Are there any companies in the rounds2 file which are not present in companies?\n",
    "temp1 = pd.DataFrame(rounds2.company_permalink.unique())\n",
    "temp2 = pd.DataFrame(companies.permalink.unique())\n",
    "print(temp2.equals(temp1))\n"
   ]
  },
  {
   "cell_type": "code",
   "execution_count": 26,
   "metadata": {},
   "outputs": [
    {
     "data": {
      "text/plain": [
       "{'/organization/th-gii-di-{ng'}"
      ]
     },
     "execution_count": 26,
     "metadata": {},
     "output_type": "execute_result"
    }
   ],
   "source": [
    "\n",
    "set(companies['permalink'].unique()).difference(set(rounds2['company_permalink'].unique()))\n"
   ]
  },
  {
   "cell_type": "code",
   "execution_count": 27,
   "metadata": {},
   "outputs": [
    {
     "name": "stdout",
     "output_type": "stream",
     "text": [
      "114949\n"
     ]
    }
   ],
   "source": [
    "\n",
    "#Merge the two data frames so that all variables (columns) in the companies frame are added to the rounds2 data frame. Name the merged frame master_frame.\n",
    "master_frame = pd.merge(rounds2, companies, how = 'left', left_on = 'company_permalink', right_on = 'permalink')\n",
    "print(len(master_frame.index))\n"
   ]
  },
  {
   "cell_type": "code",
   "execution_count": 28,
   "metadata": {},
   "outputs": [
    {
     "data": {
      "text/plain": [
       "company_permalink              0\n",
       "funding_round_permalink        0\n",
       "funding_round_type             0\n",
       "funding_round_code         83809\n",
       "funded_at                      0\n",
       "raised_amount_usd          19990\n",
       "permalink                      1\n",
       "name                           2\n",
       "homepage_url                6135\n",
       "category_list               3410\n",
       "status                         1\n",
       "country_code                8679\n",
       "state_code                 10946\n",
       "region                     10168\n",
       "city                       10165\n",
       "founded_at                 20520\n",
       "dtype: int64"
      ]
     },
     "execution_count": 28,
     "metadata": {},
     "output_type": "execute_result"
    }
   ],
   "source": [
    "\n",
    "\n",
    "# Inspecting the Null values , column-wise\n",
    "master_frame.isnull().sum(axis=0)\n",
    "\n"
   ]
  },
  {
   "cell_type": "code",
   "execution_count": 29,
   "metadata": {},
   "outputs": [
    {
     "name": "stdout",
     "output_type": "stream",
     "text": [
      "company_permalink           0.00\n",
      "funding_round_permalink     0.00\n",
      "funding_round_type          0.00\n",
      "funding_round_code         72.91\n",
      "funded_at                   0.00\n",
      "raised_amount_usd          17.39\n",
      "permalink                   0.00\n",
      "name                        0.00\n",
      "homepage_url                5.34\n",
      "category_list               2.97\n",
      "status                      0.00\n",
      "country_code                7.55\n",
      "state_code                  9.52\n",
      "region                      8.85\n",
      "city                        8.84\n",
      "founded_at                 17.85\n",
      "dtype: float64\n"
     ]
    }
   ],
   "source": [
    "\n",
    "#Inspecting the Null values percentage , column-wise\n",
    "print(round(100*(master_frame.isnull().sum()/len(master_frame.index)), 2))"
   ]
  },
  {
   "cell_type": "code",
   "execution_count": 30,
   "metadata": {},
   "outputs": [],
   "source": [
    "\n",
    "# Dropping unnecessary columns\n",
    "master_frame = master_frame.drop(['funding_round_code', 'funding_round_permalink', 'funded_at','permalink', 'homepage_url',\n",
    "                                 'state_code', 'region', 'city', 'founded_at','status'], axis = 1)\n"
   ]
  },
  {
   "cell_type": "code",
   "execution_count": 31,
   "metadata": {},
   "outputs": [
    {
     "name": "stdout",
     "output_type": "stream",
     "text": [
      "company_permalink      0.00\n",
      "funding_round_type     0.00\n",
      "raised_amount_usd     17.39\n",
      "name                   0.00\n",
      "category_list          2.97\n",
      "country_code           7.55\n",
      "dtype: float64\n"
     ]
    }
   ],
   "source": [
    "\n",
    "#Inspecting the Null values percentage again after deletion, column-wise\n",
    "print(round(100*(master_frame.isnull().sum()/len(master_frame.index)), 2))\n",
    "\n"
   ]
  },
  {
   "cell_type": "code",
   "execution_count": 32,
   "metadata": {},
   "outputs": [],
   "source": [
    "\n",
    "#Dropping rows based on null columns\n",
    "master_frame = master_frame[~(master_frame['raised_amount_usd'].isnull() | master_frame['country_code'].isnull() |\n",
    "                             master_frame['category_list'].isnull())]\n"
   ]
  },
  {
   "cell_type": "code",
   "execution_count": 33,
   "metadata": {},
   "outputs": [
    {
     "name": "stdout",
     "output_type": "stream",
     "text": [
      "venture                  47809\n",
      "seed                     21095\n",
      "debt_financing            6506\n",
      "angel                     4400\n",
      "grant                     1939\n",
      "private_equity            1820\n",
      "undisclosed               1345\n",
      "convertible_note          1320\n",
      "equity_crowdfunding       1128\n",
      "post_ipo_equity            598\n",
      "product_crowdfunding       330\n",
      "post_ipo_debt              151\n",
      "non_equity_assistance       60\n",
      "secondary_market            28\n",
      "Name: funding_round_type, dtype: int64\n"
     ]
    }
   ],
   "source": [
    "\n",
    "\n",
    "## Task 2: Funding Type Analysis\n",
    "#Observing the unique funding_round_type\n",
    "print(master_frame.funding_round_type.value_counts())\n"
   ]
  },
  {
   "cell_type": "code",
   "execution_count": 34,
   "metadata": {},
   "outputs": [
    {
     "name": "stdout",
     "output_type": "stream",
     "text": [
      "                     company_permalink funding_round_type  raised_amount_usd  \\\n",
      "0                  /organization/-fame            venture         10000000.0   \n",
      "2               /organization/-qounter               seed           700000.0   \n",
      "4                /organization/0-6-com            venture          2000000.0   \n",
      "7  /organization/0ndine-biomedical-inc               seed            43360.0   \n",
      "8  /organization/0ndine-biomedical-inc            venture           719491.0   \n",
      "\n",
      "                     name                                      category_list  \\\n",
      "0                   #fame                                              Media   \n",
      "2                :Qounter  Application Platforms|Real Time|Social Network...   \n",
      "4                 0-6.com                                        Curated Web   \n",
      "7  Ondine Biomedical Inc.                                      Biotechnology   \n",
      "8  Ondine Biomedical Inc.                                      Biotechnology   \n",
      "\n",
      "  country_code  \n",
      "0          IND  \n",
      "2          USA  \n",
      "4          CHN  \n",
      "7          CAN  \n",
      "8          CAN  \n"
     ]
    }
   ],
   "source": [
    "\n",
    "#Retaining the rows with only four investment types\n",
    "## 1,2,3,4\n",
    "master_frame = master_frame[(master_frame['funding_round_type'] == 'venture')\n",
    "                            | (master_frame['funding_round_type'] == 'seed')\n",
    "                            | (master_frame['funding_round_type'] == 'angel')\n",
    "                            | (master_frame['funding_round_type'] == 'private_equity')]\n",
    "print(master_frame.head())"
   ]
  },
  {
   "cell_type": "code",
   "execution_count": 35,
   "metadata": {},
   "outputs": [
    {
     "name": "stdout",
     "output_type": "stream",
     "text": [
      "                     company_permalink funding_round_type  raised_amount_usd  \\\n",
      "0                  /organization/-fame            venture          10.000000   \n",
      "2               /organization/-qounter               seed           0.700000   \n",
      "4                /organization/0-6-com            venture           2.000000   \n",
      "7  /organization/0ndine-biomedical-inc               seed           0.043360   \n",
      "8  /organization/0ndine-biomedical-inc            venture           0.719491   \n",
      "\n",
      "                     name                                      category_list  \\\n",
      "0                   #fame                                              Media   \n",
      "2                :Qounter  Application Platforms|Real Time|Social Network...   \n",
      "4                 0-6.com                                        Curated Web   \n",
      "7  Ondine Biomedical Inc.                                      Biotechnology   \n",
      "8  Ondine Biomedical Inc.                                      Biotechnology   \n",
      "\n",
      "  country_code  \n",
      "0          IND  \n",
      "2          USA  \n",
      "4          CHN  \n",
      "7          CAN  \n",
      "8          CAN  \n"
     ]
    }
   ],
   "source": [
    "\n",
    "\n",
    "#Converting $ to million $.\n",
    "master_frame['raised_amount_usd'] = master_frame['raised_amount_usd']/1000000\n",
    "print(master_frame.head())"
   ]
  },
  {
   "cell_type": "code",
   "execution_count": 36,
   "metadata": {},
   "outputs": [
    {
     "name": "stdout",
     "output_type": "stream",
     "text": [
      "funding_round_type\n",
      "angel              0.97\n",
      "private_equity    73.94\n",
      "seed               0.75\n",
      "venture           11.72\n",
      "Name: raised_amount_usd, dtype: float64\n"
     ]
    }
   ],
   "source": [
    "#calculating average investment amount for each of the four funding types.\n",
    "print(round(master_frame.groupby('funding_round_type').raised_amount_usd.mean(), 2))\n"
   ]
  },
  {
   "cell_type": "code",
   "execution_count": 37,
   "metadata": {},
   "outputs": [],
   "source": [
    "\n",
    "\n",
    "\n",
    "#Retaining rows with only venture type. As Spark Funds wants to invest between 5 to 15 million USD per investment round\n",
    "master_frame = master_frame[master_frame['funding_round_type'] == 'venture']\n"
   ]
  },
  {
   "cell_type": "code",
   "execution_count": 38,
   "metadata": {},
   "outputs": [
    {
     "name": "stdout",
     "output_type": "stream",
     "text": [
      "                                        company_permalink  raised_amount_usd  \\\n",
      "0                                     /organization/-fame          10.000000   \n",
      "4                                   /organization/0-6-com           2.000000   \n",
      "8                     /organization/0ndine-biomedical-inc           0.719491   \n",
      "10                                   /organization/0xdata          20.000000   \n",
      "11                                   /organization/0xdata           1.700000   \n",
      "...                                                   ...                ...   \n",
      "114931                     /organization/zyraz-technology           7.991547   \n",
      "114934                                /organization/zyrra           0.140500   \n",
      "114936                               /organization/zystor           8.500000   \n",
      "114937                           /organization/zytoprotec           2.686600   \n",
      "114941  /organization/zznode-science-and-technology-co...           1.587301   \n",
      "\n",
      "                                 name        category_list country_code  \n",
      "0                               #fame                Media          IND  \n",
      "4                             0-6.com          Curated Web          CHN  \n",
      "8              Ondine Biomedical Inc.        Biotechnology          CAN  \n",
      "10                             H2O.ai            Analytics          USA  \n",
      "11                             H2O.ai            Analytics          USA  \n",
      "...                               ...                  ...          ...  \n",
      "114931               Zyraz Technology        Biotechnology          MYS  \n",
      "114934                          Zyrra           E-Commerce          USA  \n",
      "114936                         Zystor        Biotechnology          USA  \n",
      "114937                     Zytoprotec        Biotechnology          AUT  \n",
      "114941  ZZNode Science and Technology  Enterprise Software          CHN  \n",
      "\n",
      "[47809 rows x 5 columns]\n"
     ]
    }
   ],
   "source": [
    "\n",
    "#Dropping the column 'funding_round_type' as it is going to be venture type this point forward\n",
    "master_frame = master_frame.drop(['funding_round_type'], axis = 1)\n",
    "print(master_frame)\n"
   ]
  },
  {
   "cell_type": "code",
   "execution_count": 39,
   "metadata": {},
   "outputs": [
    {
     "name": "stdout",
     "output_type": "stream",
     "text": [
      "              raised_amount_usd\n",
      "country_code                   \n",
      "USA               420067.869342\n",
      "CHN                39338.918773\n",
      "GBR                20072.813004\n",
      "IND                14261.508718\n",
      "CAN                 9482.217668\n",
      "FRA                 7226.851352\n",
      "ISR                 6854.350477\n",
      "DEU                 6269.862533\n",
      "JPN                 3167.647127\n"
     ]
    }
   ],
   "source": [
    "\n",
    "\n",
    "## Task 3: Country Analysis\n",
    "#top 9 countries\n",
    "top9 = master_frame.pivot_table(values = 'raised_amount_usd', index = 'country_code', aggfunc = 'sum')\n",
    "top9 = top9.sort_values(by = 'raised_amount_usd', ascending = False)\n",
    "top9 = top9.iloc[:9, ]\n",
    "print(top9)\n"
   ]
  },
  {
   "cell_type": "code",
   "execution_count": 40,
   "metadata": {},
   "outputs": [],
   "source": [
    "\n",
    "#Retaining rows with only USA, GBR and IND country_codes. As SparksFunds wants to invest in only top three English speaking countries.\n",
    "master_frame = master_frame[(master_frame['country_code'] == 'USA')\n",
    "                            | (master_frame['country_code'] == 'GBR')\n",
    "                            | (master_frame['country_code'] == 'IND')]\n",
    "\n"
   ]
  },
  {
   "cell_type": "code",
   "execution_count": 41,
   "metadata": {},
   "outputs": [],
   "source": [
    "\n",
    "## Task 4: Sector Analysis 1\n",
    "\n",
    "# Subtask 4.1: Extract the primary sector of each category\n",
    "#Extracting the primary vector value\n",
    "master_frame['category_list'] = master_frame['category_list'].apply(lambda x: x.split('|')[0])\n"
   ]
  },
  {
   "cell_type": "code",
   "execution_count": 42,
   "metadata": {},
   "outputs": [
    {
     "name": "stdout",
     "output_type": "stream",
     "text": [
      "   category_list  Automotive & Sports  Blanks  Cleantech / Semiconductors  \\\n",
      "0            NaN                    0       1                           0   \n",
      "1             3D                    0       0                           0   \n",
      "2    3D Printing                    0       0                           0   \n",
      "3  3D Technology                    0       0                           0   \n",
      "4     Accounting                    0       0                           0   \n",
      "\n",
      "   Entertainment  Health  Manufacturing  News, Search and Messaging  Others  \\\n",
      "0              0       0              0                           0       0   \n",
      "1              0       0              1                           0       0   \n",
      "2              0       0              1                           0       0   \n",
      "3              0       0              1                           0       0   \n",
      "4              0       0              0                           0       0   \n",
      "\n",
      "   Social, Finance, Analytics, Advertising  \n",
      "0                                        0  \n",
      "1                                        0  \n",
      "2                                        0  \n",
      "3                                        0  \n",
      "4                                        1  \n"
     ]
    }
   ],
   "source": [
    "\n",
    "# Subtask 4.2: Map each primary sector to one of the eight main sectors\n",
    "#Reading mapping.csv file\n",
    "mapping = pd.read_csv('mapping.csv')\n",
    "mapping.category_list = mapping.category_list.replace({'0':'na', '2.na' :'2.0'}, regex=True)\n",
    "print(mapping.head())\n"
   ]
  },
  {
   "cell_type": "code",
   "execution_count": 43,
   "metadata": {},
   "outputs": [],
   "source": [
    "\n",
    "#Reshaping the mapping dataframe to merge with the master_frame dataframe. Using melt() function to unpivot the table.\n",
    "mapping = pd.melt(mapping, id_vars =['category_list'], value_vars =['Manufacturing','Automotive & Sports',\n",
    "                                                              'Cleantech / Semiconductors','Entertainment',\n",
    "                                                             'Health','News, Search and Messaging','Others',\n",
    "                                                             'Social, Finance, Analytics, Advertising'])"
   ]
  },
  {
   "cell_type": "code",
   "execution_count": 44,
   "metadata": {},
   "outputs": [
    {
     "name": "stdout",
     "output_type": "stream",
     "text": [
      "         category_list    main_sector\n",
      "1                   3D  Manufacturing\n",
      "2          3D Printing  Manufacturing\n",
      "3        3D Technology  Manufacturing\n",
      "7   Advanced Materials  Manufacturing\n",
      "15         Agriculture  Manufacturing\n"
     ]
    }
   ],
   "source": [
    "\n",
    "mapping = mapping[~(mapping.value == 0)]\n",
    "mapping = mapping.drop('value', axis = 1)\n",
    "mapping = mapping.rename(columns = {\"variable\":\"main_sector\"})\n",
    "print(mapping.head())"
   ]
  },
  {
   "cell_type": "code",
   "execution_count": 45,
   "metadata": {},
   "outputs": [
    {
     "name": "stdout",
     "output_type": "stream",
     "text": [
      "            company_permalink  raised_amount_usd          name category_list  \\\n",
      "0         /organization/-fame               10.0         #fame         Media   \n",
      "1        /organization/0xdata               20.0        H2O.ai     Analytics   \n",
      "2        /organization/0xdata                1.7        H2O.ai     Analytics   \n",
      "3        /organization/0xdata                8.9        H2O.ai     Analytics   \n",
      "4  /organization/1-mainstream                5.0  1 Mainstream          Apps   \n",
      "\n",
      "  country_code                              main_sector  \n",
      "0          IND                            Entertainment  \n",
      "1          USA  Social, Finance, Analytics, Advertising  \n",
      "2          USA  Social, Finance, Analytics, Advertising  \n",
      "3          USA  Social, Finance, Analytics, Advertising  \n",
      "4          USA               News, Search and Messaging  \n"
     ]
    }
   ],
   "source": [
    "\n",
    "\n",
    "master_frame = master_frame.merge(mapping, how = 'left', on ='category_list')\n",
    "print(master_frame.head())\n"
   ]
  },
  {
   "cell_type": "code",
   "execution_count": 46,
   "metadata": {},
   "outputs": [
    {
     "name": "stdout",
     "output_type": "stream",
     "text": [
      "['Nanotechnology' 'Natural Gas Uses' 'Natural Language Processing'\n",
      " 'Enterprise 2.0' 'Adaptive Equipment' 'Racing' 'Specialty Retail'\n",
      " 'Biotechnology and Semiconductor' 'Rapidly Expanding' 'Navigation'\n",
      " 'Product Search' 'GreenTech' 'Retirement']\n"
     ]
    }
   ],
   "source": [
    "#List of primary sectors which have no main sectors in the master_frame\n",
    "print(master_frame[master_frame.main_sector.isnull()].category_list.unique())\n"
   ]
  },
  {
   "cell_type": "code",
   "execution_count": 47,
   "metadata": {},
   "outputs": [
    {
     "name": "stdout",
     "output_type": "stream",
     "text": [
      "165\n"
     ]
    }
   ],
   "source": [
    "\n",
    "\n",
    "#Number of rows with NaN masin_sector value\n",
    "print(len(master_frame[master_frame.main_sector.isnull()]))\n"
   ]
  },
  {
   "cell_type": "code",
   "execution_count": 48,
   "metadata": {},
   "outputs": [
    {
     "name": "stdout",
     "output_type": "stream",
     "text": [
      "38637\n"
     ]
    }
   ],
   "source": [
    "#Retaining the rows which have main_sector values\n",
    "master_frame = master_frame[~(master_frame.main_sector.isnull())]\n",
    "print(len(master_frame.index))\n"
   ]
  },
  {
   "cell_type": "code",
   "execution_count": 71,
   "metadata": {},
   "outputs": [
    {
     "name": "stderr",
     "output_type": "stream",
     "text": [
      "/home/pariskhit.tomer/anaconda3/lib/python3.8/site-packages/pandas/core/reshape/merge.py:618: UserWarning: merging between different levels can give an unintended result (1 levels on the left, 2 on the right)\n",
      "  warnings.warn(msg, UserWarning)\n"
     ]
    },
    {
     "data": {
      "text/html": [
       "<div>\n",
       "<style scoped>\n",
       "    .dataframe tbody tr th:only-of-type {\n",
       "        vertical-align: middle;\n",
       "    }\n",
       "\n",
       "    .dataframe tbody tr th {\n",
       "        vertical-align: top;\n",
       "    }\n",
       "\n",
       "    .dataframe thead th {\n",
       "        text-align: right;\n",
       "    }\n",
       "</style>\n",
       "<table border=\"1\" class=\"dataframe\">\n",
       "  <thead>\n",
       "    <tr style=\"text-align: right;\">\n",
       "      <th></th>\n",
       "      <th>company_permalink</th>\n",
       "      <th>raised_amount_usd</th>\n",
       "      <th>name</th>\n",
       "      <th>category_list</th>\n",
       "      <th>country_code</th>\n",
       "      <th>main_sector</th>\n",
       "      <th>(raised_amount_usd, Total_amount)</th>\n",
       "      <th>(raised_amount_usd, Total_count)</th>\n",
       "    </tr>\n",
       "  </thead>\n",
       "  <tbody>\n",
       "    <tr>\n",
       "      <th>0</th>\n",
       "      <td>/organization/0xdata</td>\n",
       "      <td>8.900000</td>\n",
       "      <td>H2O.ai</td>\n",
       "      <td>Analytics</td>\n",
       "      <td>USA</td>\n",
       "      <td>Social, Finance, Analytics, Advertising</td>\n",
       "      <td>23807.376964</td>\n",
       "      <td>2714</td>\n",
       "    </tr>\n",
       "    <tr>\n",
       "      <th>1</th>\n",
       "      <td>/organization/1-mainstream</td>\n",
       "      <td>5.000000</td>\n",
       "      <td>1 Mainstream</td>\n",
       "      <td>Apps</td>\n",
       "      <td>USA</td>\n",
       "      <td>News, Search and Messaging</td>\n",
       "      <td>13959.567428</td>\n",
       "      <td>1582</td>\n",
       "    </tr>\n",
       "    <tr>\n",
       "      <th>2</th>\n",
       "      <td>/organization/128-technology</td>\n",
       "      <td>11.999347</td>\n",
       "      <td>128 Technology</td>\n",
       "      <td>Service Providers</td>\n",
       "      <td>USA</td>\n",
       "      <td>Others</td>\n",
       "      <td>26321.007002</td>\n",
       "      <td>2950</td>\n",
       "    </tr>\n",
       "    <tr>\n",
       "      <th>3</th>\n",
       "      <td>/organization/1366-technologies</td>\n",
       "      <td>15.000000</td>\n",
       "      <td>1366 Technologies</td>\n",
       "      <td>Manufacturing</td>\n",
       "      <td>USA</td>\n",
       "      <td>Manufacturing</td>\n",
       "      <td>7258.553378</td>\n",
       "      <td>799</td>\n",
       "    </tr>\n",
       "    <tr>\n",
       "      <th>4</th>\n",
       "      <td>/organization/1366-technologies</td>\n",
       "      <td>5.000000</td>\n",
       "      <td>1366 Technologies</td>\n",
       "      <td>Manufacturing</td>\n",
       "      <td>USA</td>\n",
       "      <td>Manufacturing</td>\n",
       "      <td>7258.553378</td>\n",
       "      <td>799</td>\n",
       "    </tr>\n",
       "  </tbody>\n",
       "</table>\n",
       "</div>"
      ],
      "text/plain": [
       "                 company_permalink  raised_amount_usd               name  \\\n",
       "0             /organization/0xdata           8.900000             H2O.ai   \n",
       "1       /organization/1-mainstream           5.000000       1 Mainstream   \n",
       "2     /organization/128-technology          11.999347     128 Technology   \n",
       "3  /organization/1366-technologies          15.000000  1366 Technologies   \n",
       "4  /organization/1366-technologies           5.000000  1366 Technologies   \n",
       "\n",
       "       category_list country_code                              main_sector  \\\n",
       "0          Analytics          USA  Social, Finance, Analytics, Advertising   \n",
       "1               Apps          USA               News, Search and Messaging   \n",
       "2  Service Providers          USA                                   Others   \n",
       "3      Manufacturing          USA                            Manufacturing   \n",
       "4      Manufacturing          USA                            Manufacturing   \n",
       "\n",
       "   (raised_amount_usd, Total_amount)  (raised_amount_usd, Total_count)  \n",
       "0                       23807.376964                              2714  \n",
       "1                       13959.567428                              1582  \n",
       "2                       26321.007002                              2950  \n",
       "3                        7258.553378                               799  \n",
       "4                        7258.553378                               799  "
      ]
     },
     "execution_count": 71,
     "metadata": {},
     "output_type": "execute_result"
    }
   ],
   "source": [
    "\n",
    "## Task 5: Sector Analysis 2\n",
    "\n",
    "# Subtask 5.1: Create DataFrames D1, D2, D3 based on three countries\n",
    "D1 = master_frame[(master_frame['country_code'] == 'USA') &\n",
    "             (master_frame['raised_amount_usd'] >= 5) &\n",
    "             (master_frame['raised_amount_usd'] <= 15)]\n",
    "D1_gr = D1[['raised_amount_usd','main_sector']].groupby('main_sector').agg(['sum', 'count']).rename(\n",
    "    columns={'sum':'Total_amount','count' : 'Total_count'})\n",
    "D1 = D1.merge(D1_gr, how='left', on ='main_sector')\n",
    "D1.head()"
   ]
  },
  {
   "cell_type": "code",
   "execution_count": 50,
   "metadata": {},
   "outputs": [
    {
     "name": "stdout",
     "output_type": "stream",
     "text": [
      "         company_permalink  raised_amount_usd       name     category_list  \\\n",
      "0  /organization/365scores           5.500000  365Scores           Android   \n",
      "1   /organization/7digital           8.468328   7digital  Content Creators   \n",
      "2   /organization/7digital          10.000000   7digital  Content Creators   \n",
      "3      /organization/90min          15.000000      90min             Media   \n",
      "4      /organization/90min           5.800000      90min             Media   \n",
      "\n",
      "  country_code                              main_sector  \\\n",
      "0          GBR  Social, Finance, Analytics, Advertising   \n",
      "1          GBR                            Entertainment   \n",
      "2          GBR                            Entertainment   \n",
      "3          GBR                            Entertainment   \n",
      "4          GBR                            Entertainment   \n",
      "\n",
      "   (raised_amount_usd, Total_amount)  (raised_amount_usd, Total_count)  \n",
      "0                        1089.404014                               133  \n",
      "1                         482.784687                                56  \n",
      "2                         482.784687                                56  \n",
      "3                         482.784687                                56  \n",
      "4                         482.784687                                56  \n"
     ]
    },
    {
     "name": "stderr",
     "output_type": "stream",
     "text": [
      "/home/pariskhit.tomer/anaconda3/lib/python3.8/site-packages/pandas/core/reshape/merge.py:618: UserWarning: merging between different levels can give an unintended result (1 levels on the left, 2 on the right)\n",
      "  warnings.warn(msg, UserWarning)\n"
     ]
    }
   ],
   "source": [
    "\n",
    "D2 = master_frame[(master_frame['country_code'] == 'GBR') &\n",
    "             (master_frame['raised_amount_usd'] >= 5) &\n",
    "             (master_frame['raised_amount_usd'] <= 15)]\n",
    "D2_gr = D2[['raised_amount_usd','main_sector']].groupby('main_sector').agg(['sum', 'count']).rename(\n",
    "    columns={'sum':'Total_amount','count' : 'Total_count'})\n",
    "D2 = D2.merge(D2_gr, how='left', on ='main_sector')\n",
    "print(D2.head())"
   ]
  },
  {
   "cell_type": "code",
   "execution_count": 51,
   "metadata": {},
   "outputs": [
    {
     "name": "stderr",
     "output_type": "stream",
     "text": [
      "/home/pariskhit.tomer/anaconda3/lib/python3.8/site-packages/pandas/core/reshape/merge.py:618: UserWarning: merging between different levels can give an unintended result (1 levels on the left, 2 on the right)\n",
      "  warnings.warn(msg, UserWarning)\n"
     ]
    },
    {
     "name": "stdout",
     "output_type": "stream",
     "text": [
      "                company_permalink  raised_amount_usd            name  \\\n",
      "0             /organization/-fame          10.000000           #fame   \n",
      "1  /organization/21diamonds-india           6.369507      21Diamonds   \n",
      "2    /organization/a-little-world           6.410000  A LITTLE WORLD   \n",
      "3    /organization/adlabs-imagica           8.180000  Adlabs Imagica   \n",
      "4             /organization/agile           5.740000           Agile   \n",
      "\n",
      "   category_list country_code                              main_sector  \\\n",
      "0          Media          IND                            Entertainment   \n",
      "1     E-Commerce          IND                                   Others   \n",
      "2        Finance          IND  Social, Finance, Analytics, Advertising   \n",
      "3  Entertainment          IND                            Entertainment   \n",
      "4        Finance          IND  Social, Finance, Analytics, Advertising   \n",
      "\n",
      "   (raised_amount_usd, Total_amount)  (raised_amount_usd, Total_count)  \n",
      "0                         280.830000                                33  \n",
      "1                        1013.409507                               110  \n",
      "2                         550.549550                                60  \n",
      "3                         280.830000                                33  \n",
      "4                         550.549550                                60  \n"
     ]
    }
   ],
   "source": [
    "D3 = master_frame[(master_frame['country_code'] == 'IND') &\n",
    "             (master_frame['raised_amount_usd'] >= 5) &\n",
    "             (master_frame['raised_amount_usd'] <= 15)]\n",
    "D3_gr = D3[['raised_amount_usd','main_sector']].groupby('main_sector').agg(['sum', 'count']).rename(\n",
    "    columns={'sum':'Total_amount','count' : 'Total_count'})\n",
    "D3 = D3.merge(D3_gr, how='left', on ='main_sector')\n",
    "print(D3.head())"
   ]
  },
  {
   "cell_type": "code",
   "execution_count": 52,
   "metadata": {},
   "outputs": [
    {
     "name": "stdout",
     "output_type": "stream",
     "text": [
      "12012\n"
     ]
    }
   ],
   "source": [
    "# Subtask 5.2: Sector-wise Investment Analysis\n",
    "\n",
    "#Total number of investments (count)\n",
    "print(D1.raised_amount_usd.count())"
   ]
  },
  {
   "cell_type": "code",
   "execution_count": 53,
   "metadata": {},
   "outputs": [
    {
     "name": "stdout",
     "output_type": "stream",
     "text": [
      "619\n"
     ]
    }
   ],
   "source": [
    "print(D2.raised_amount_usd.count())"
   ]
  },
  {
   "cell_type": "code",
   "execution_count": 54,
   "metadata": {},
   "outputs": [
    {
     "name": "stdout",
     "output_type": "stream",
     "text": [
      "328\n"
     ]
    }
   ],
   "source": [
    "\n",
    "print(D3.raised_amount_usd.count())"
   ]
  },
  {
   "cell_type": "code",
   "execution_count": 55,
   "metadata": {},
   "outputs": [
    {
     "name": "stdout",
     "output_type": "stream",
     "text": [
      "107318.29\n"
     ]
    }
   ],
   "source": [
    "\n",
    "#Total amount of investment (USD)\n",
    "print(round(D1.raised_amount_usd.sum(), 2))"
   ]
  },
  {
   "cell_type": "code",
   "execution_count": 56,
   "metadata": {},
   "outputs": [
    {
     "name": "stdout",
     "output_type": "stream",
     "text": [
      "5365.23\n"
     ]
    }
   ],
   "source": [
    "\n",
    "print(round(D2.raised_amount_usd.sum(), 2))"
   ]
  },
  {
   "cell_type": "code",
   "execution_count": 57,
   "metadata": {},
   "outputs": [
    {
     "name": "stdout",
     "output_type": "stream",
     "text": [
      "2949.54\n"
     ]
    }
   ],
   "source": [
    "\n",
    "print(round(D3.raised_amount_usd.sum(), 2))"
   ]
  },
  {
   "cell_type": "code",
   "execution_count": 58,
   "metadata": {},
   "outputs": [
    {
     "name": "stdout",
     "output_type": "stream",
     "text": [
      "                                        raised_amount_usd            \n",
      "                                             Total_amount Total_count\n",
      "main_sector                                                          \n",
      "Automotive & Sports                           1454.104361         167\n",
      "Cleantech / Semiconductors                   21206.628192        2300\n",
      "Entertainment                                 5099.197982         591\n",
      "Health                                        8211.859357         909\n",
      "Manufacturing                                 7258.553378         799\n",
      "News, Search and Messaging                   13959.567428        1582\n",
      "Others                                       26321.007002        2950\n",
      "Social, Finance, Analytics, Advertising      23807.376964        2714\n"
     ]
    }
   ],
   "source": [
    "#Top sector, second-top, third-top for D1 (based on count of investments)\n",
    "#Number of investments in the top, second-top, third-top sector in D1\n",
    "print(D1_gr)"
   ]
  },
  {
   "cell_type": "code",
   "execution_count": 59,
   "metadata": {},
   "outputs": [
    {
     "name": "stdout",
     "output_type": "stream",
     "text": [
      "                                        raised_amount_usd            \n",
      "                                             Total_amount Total_count\n",
      "main_sector                                                          \n",
      "Automotive & Sports                            167.051565          16\n",
      "Cleantech / Semiconductors                    1150.139665         128\n",
      "Entertainment                                  482.784687          56\n",
      "Health                                         214.537510          24\n",
      "Manufacturing                                  361.940335          42\n",
      "News, Search and Messaging                     615.746235          73\n",
      "Others                                        1283.624289         147\n",
      "Social, Finance, Analytics, Advertising       1089.404014         133\n"
     ]
    }
   ],
   "source": [
    "#Top sector, second-top, third-top for D2 (based on count of investments)\n",
    "#Number of investments in the top, second-top, third-top sector in D2\n",
    "print(D2_gr)"
   ]
  },
  {
   "cell_type": "code",
   "execution_count": 60,
   "metadata": {},
   "outputs": [
    {
     "name": "stdout",
     "output_type": "stream",
     "text": [
      "                                        raised_amount_usd            \n",
      "                                             Total_amount Total_count\n",
      "main_sector                                                          \n",
      "Automotive & Sports                            136.900000          13\n",
      "Cleantech / Semiconductors                     165.380000          20\n",
      "Entertainment                                  280.830000          33\n",
      "Health                                         167.740000          19\n",
      "Manufacturing                                  200.900000          21\n",
      "News, Search and Messaging                     433.834545          52\n",
      "Others                                        1013.409507         110\n",
      "Social, Finance, Analytics, Advertising        550.549550          60\n"
     ]
    }
   ],
   "source": [
    "#Top sector, second-top, third-top for D2 (based on count of investments)\n",
    "#Number of investments in the top, second-top, third-top sector in D3\n",
    "print(D3_gr)"
   ]
  },
  {
   "cell_type": "code",
   "execution_count": 65,
   "metadata": {},
   "outputs": [
    {
     "name": "stdout",
     "output_type": "stream",
     "text": [
      "                           raised_amount_usd\n",
      "company_permalink                           \n",
      "/organization/virtustream               64.3\n"
     ]
    }
   ],
   "source": [
    "#For the top sector USA , which company received the highest investment?\n",
    "company = D1[D1['main_sector']=='Others']\n",
    "company = company.pivot_table(values = 'raised_amount_usd', index = 'company_permalink', aggfunc = 'sum')\n",
    "company = company.sort_values(by = 'raised_amount_usd', ascending = False).head()\n",
    "print(company.head(1))"
   ]
  },
  {
   "cell_type": "code",
   "execution_count": 66,
   "metadata": {},
   "outputs": [
    {
     "name": "stdout",
     "output_type": "stream",
     "text": [
      "                           raised_amount_usd\n",
      "company_permalink                           \n",
      "/organization/shotspotter          67.933006\n"
     ]
    }
   ],
   "source": [
    "\n",
    "#For the second top sector USA , which company received the highest investment?\n",
    "company = D1[D1['main_sector']=='Social, Finance, Analytics, Advertising']\n",
    "company = company.pivot_table(values = 'raised_amount_usd', index = 'company_permalink', aggfunc = 'sum')\n",
    "company = company.sort_values(by = 'raised_amount_usd', ascending = False).head()\n",
    "print(company.head(1))"
   ]
  },
  {
   "cell_type": "code",
   "execution_count": 67,
   "metadata": {},
   "outputs": [
    {
     "name": "stdout",
     "output_type": "stream",
     "text": [
      "                              raised_amount_usd\n",
      "company_permalink                              \n",
      "/organization/electric-cloud               37.0\n"
     ]
    }
   ],
   "source": [
    "#For the top sector GBR , which company received the highest investment?\n",
    "company = D2[D2['main_sector']=='Others']\n",
    "company = company.pivot_table(values = 'raised_amount_usd', index = 'company_permalink', aggfunc = 'sum')\n",
    "company = company.sort_values(by = 'raised_amount_usd', ascending = False).head()\n",
    "print(company.head(1))"
   ]
  },
  {
   "cell_type": "code",
   "execution_count": 68,
   "metadata": {},
   "outputs": [
    {
     "name": "stdout",
     "output_type": "stream",
     "text": [
      "                                     raised_amount_usd\n",
      "company_permalink                                     \n",
      "/organization/celltick-technologies               37.5\n"
     ]
    }
   ],
   "source": [
    "#For the second top sector GBR , which company received the highest investment?\n",
    "company = D2[D2['main_sector']=='Social, Finance, Analytics, Advertising']\n",
    "company = company.pivot_table(values = 'raised_amount_usd', index = 'company_permalink', aggfunc = 'sum')\n",
    "company = company.sort_values(by = 'raised_amount_usd', ascending = False).head()\n",
    "print(company.head(1))"
   ]
  },
  {
   "cell_type": "code",
   "execution_count": 69,
   "metadata": {},
   "outputs": [
    {
     "name": "stdout",
     "output_type": "stream",
     "text": [
      "                            raised_amount_usd\n",
      "company_permalink                            \n",
      "/organization/firstcry-com               39.0\n"
     ]
    }
   ],
   "source": [
    "\n",
    "#For the top sector IND , which company received the highest investment?\n",
    "company = D3[D3['main_sector']=='Others']\n",
    "company = company.pivot_table(values = 'raised_amount_usd', index = 'company_permalink', aggfunc = 'sum')\n",
    "company = company.sort_values(by = 'raised_amount_usd', ascending = False).head()\n",
    "print(company.head(1))"
   ]
  },
  {
   "cell_type": "code",
   "execution_count": 70,
   "metadata": {},
   "outputs": [
    {
     "name": "stdout",
     "output_type": "stream",
     "text": [
      "                                                raised_amount_usd\n",
      "company_permalink                                                \n",
      "/organization/gupshup-technology-india-pvt-ltd               33.0\n"
     ]
    }
   ],
   "source": [
    "#For the second top sector IND , which company received the highest investment?\n",
    "company = D3[D3['main_sector']=='News, Search and Messaging']\n",
    "company = company.pivot_table(values = 'raised_amount_usd', index = 'company_permalink', aggfunc = 'sum')\n",
    "company = company.sort_values(by = 'raised_amount_usd', ascending = False).head()\n",
    "print(company.head(1))"
   ]
  },
  {
   "cell_type": "code",
   "execution_count": null,
   "metadata": {},
   "outputs": [],
   "source": []
  },
  {
   "cell_type": "code",
   "execution_count": null,
   "metadata": {},
   "outputs": [],
   "source": []
  },
  {
   "cell_type": "code",
   "execution_count": null,
   "metadata": {},
   "outputs": [],
   "source": []
  },
  {
   "cell_type": "code",
   "execution_count": null,
   "metadata": {},
   "outputs": [],
   "source": []
  },
  {
   "cell_type": "code",
   "execution_count": null,
   "metadata": {},
   "outputs": [],
   "source": []
  },
  {
   "cell_type": "code",
   "execution_count": null,
   "metadata": {},
   "outputs": [],
   "source": []
  }
 ],
 "metadata": {
  "anaconda-cloud": {},
  "kernelspec": {
   "display_name": "Python 3",
   "language": "python",
   "name": "python3"
  },
  "language_info": {
   "codemirror_mode": {
    "name": "ipython",
    "version": 3
   },
   "file_extension": ".py",
   "mimetype": "text/x-python",
   "name": "python",
   "nbconvert_exporter": "python",
   "pygments_lexer": "ipython3",
   "version": "3.8.3"
  }
 },
 "nbformat": 4,
 "nbformat_minor": 4
}
