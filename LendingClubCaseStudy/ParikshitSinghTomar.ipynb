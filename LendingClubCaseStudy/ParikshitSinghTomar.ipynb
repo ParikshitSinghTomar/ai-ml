{
 "cells": [
  {
   "cell_type": "markdown",
   "metadata": {},
   "source": [
    "## Group Club Case Study\n",
    "\n",
    "### Partnership with Gunjan Bhogal, gbhogal@vmware.com\n",
    "\n",
    "## Project Brief\n",
    "Solving this assignment will give you an idea about how real business problems are solved using EDA. In this case study, apart from applying the techniques you have learnt in EDA, you will also develop a basic understanding of risk analytics in banking and financial services and understand how data is used to minimise the risk of losing money while lending to customers.\n",
    "\n",
    "## Business Understanding\n",
    "\n",
    "You work for a consumer finance company which specialises in lending various types of loans to urban customers. When the company receives a loan application, the company has to make a decision for loan approval based on the applicant’s profile. Two types of risks are associated with the bank’s decision:\n",
    "\n",
    "If the applicant is likely to repay the loan, then not approving the loan results in a loss of business to the company\n",
    "\n",
    "If the applicant is not likely to repay the loan, i.e. he/she is likely to default, then approving the loan may lead to a financial loss for the company\n",
    "\n",
    " \n",
    "\n",
    "The data given below contains the information about past loan applicants and whether they ‘defaulted’ or not. The aim is to identify patterns which indicate if a person is likely to default, which may be used for taking actions such as denying the loan, reducing the amount of loan, lending (to risky applicants) at a higher interest rate, etc.\n",
    "\n",
    " \n",
    "\n",
    "In this case study, you will use EDA to understand how <b>consumer attributes</b> and <b>loan attributes</b> influence the tendency of default.\n",
    "\n",
    "\n",
    "<p>\n",
    "<img src =\"https://cdn.upgrad.com/UpGrad/temp/7afbce98-8ecc-41c6-96d8-981cba7d343f/Loan_image.png\" alt='Figure 1'>\n",
    "<center> <b>Figure 1. Loan Data Set</b> </center> \n",
    " </br>  \n",
    "</p>\n",
    "\n",
    "When a person applies for a loan, there are <b>two types of decisions</b> that could be taken by the company:\n",
    "\n",
    "\n",
    "1. <b>Loan accepted:</b> If the company approves the loan, there are 3 possible scenarios described below:\n",
    "\n",
    "    - <b>Fully paid:</b> Applicant has fully paid the loan (the principal and the interest rate)\n",
    "    - <b>Current:</b> Applicant is in the process of paying the instalments, i.e. the tenure of the loan is not yet completed. These candidates are not labelled as 'defaulted'.\n",
    "    -  <b>Charged-off:</b> Applicant has not paid the instalments in due time for a long period of time, i.e. he/she has defaulted on the loan \n",
    "<p></p>\n",
    "2. <b>Loan rejected:</b>The company had rejected the loan (because the candidate does not meet their requirements etc.). Since the loan was rejected, there is no transactional history of those applicants with the company and so this data is not available with the company (and thus in this dataset)\n",
    "\n",
    "\n",
    "## Business Objectives \n",
    "This company is the largest online loan marketplace, facilitating personal loans, business loans, and financing of medical procedures. Borrowers can easily access lower interest rate loans through a fast online interface. \n",
    "\n",
    " \n",
    "\n",
    "Like most other lending companies, lending loans to ‘risky’ applicants is the largest source of financial loss (called credit loss). The credit loss is the amount of money lost by the lender when the borrower refuses to pay or runs away with the money owed. In other words, borrowers who <b>default</b> cause the largest amount of loss to the lenders. In this case, the customers labelled as 'charged-off' are the 'defaulters'. \n",
    "\n",
    " \n",
    "\n",
    "If one is able to identify these risky loan applicants, then such loans can be reduced thereby cutting down the amount of credit loss. Identification of such applicants using EDA is the aim of this case study.\n",
    "\n",
    " \n",
    "\n",
    "In other words, the company wants to understand the <b>driving factors (or driver variables)</b> behind loan default, i.e. the variables which are strong indicators of default.  The company can utilise this knowledge for its portfolio and risk assessment. \n",
    "\n"
   ]
  },
  {
   "cell_type": "markdown",
   "metadata": {},
   "source": [
    "## Importing Libraries"
   ]
  },
  {
   "cell_type": "code",
   "execution_count": 3,
   "metadata": {},
   "outputs": [],
   "source": [
    "import pandas as pd\n",
    "#To display the maximum records upto 130 in notebook\n",
    "pd.set_option('display.max_rows', 130, 'display.max_columns', 130)\n",
    "\n",
    "import matplotlib.pyplot as plt\n",
    "import seaborn as sns\n",
    "import numpy as np"
   ]
  },
  {
   "cell_type": "markdown",
   "metadata": {},
   "source": [
    "## Loading dataset"
   ]
  },
  {
   "cell_type": "code",
   "execution_count": 4,
   "metadata": {},
   "outputs": [],
   "source": [
    "#Reading file loan.csv into a dataframe 'loan'\n",
    "\n",
    "loan = pd.read_csv('loan.csv', error_bad_lines=False, index_col=False, dtype='unicode')"
   ]
  },
  {
   "cell_type": "code",
   "execution_count": 5,
   "metadata": {},
   "outputs": [
    {
     "data": {
      "text/html": [
       "<div>\n",
       "<style scoped>\n",
       "    .dataframe tbody tr th:only-of-type {\n",
       "        vertical-align: middle;\n",
       "    }\n",
       "\n",
       "    .dataframe tbody tr th {\n",
       "        vertical-align: top;\n",
       "    }\n",
       "\n",
       "    .dataframe thead th {\n",
       "        text-align: right;\n",
       "    }\n",
       "</style>\n",
       "<table border=\"1\" class=\"dataframe\">\n",
       "  <thead>\n",
       "    <tr style=\"text-align: right;\">\n",
       "      <th></th>\n",
       "      <th>id</th>\n",
       "      <th>member_id</th>\n",
       "      <th>loan_amnt</th>\n",
       "      <th>funded_amnt</th>\n",
       "      <th>funded_amnt_inv</th>\n",
       "      <th>term</th>\n",
       "      <th>int_rate</th>\n",
       "      <th>installment</th>\n",
       "      <th>grade</th>\n",
       "      <th>sub_grade</th>\n",
       "      <th>emp_title</th>\n",
       "      <th>emp_length</th>\n",
       "      <th>home_ownership</th>\n",
       "      <th>annual_inc</th>\n",
       "      <th>verification_status</th>\n",
       "      <th>issue_d</th>\n",
       "      <th>loan_status</th>\n",
       "      <th>pymnt_plan</th>\n",
       "      <th>url</th>\n",
       "      <th>desc</th>\n",
       "      <th>purpose</th>\n",
       "      <th>title</th>\n",
       "      <th>zip_code</th>\n",
       "      <th>addr_state</th>\n",
       "      <th>dti</th>\n",
       "      <th>delinq_2yrs</th>\n",
       "      <th>earliest_cr_line</th>\n",
       "      <th>inq_last_6mths</th>\n",
       "      <th>mths_since_last_delinq</th>\n",
       "      <th>mths_since_last_record</th>\n",
       "      <th>open_acc</th>\n",
       "      <th>pub_rec</th>\n",
       "      <th>revol_bal</th>\n",
       "      <th>revol_util</th>\n",
       "      <th>total_acc</th>\n",
       "      <th>initial_list_status</th>\n",
       "      <th>out_prncp</th>\n",
       "      <th>out_prncp_inv</th>\n",
       "      <th>total_pymnt</th>\n",
       "      <th>total_pymnt_inv</th>\n",
       "      <th>total_rec_prncp</th>\n",
       "      <th>total_rec_int</th>\n",
       "      <th>total_rec_late_fee</th>\n",
       "      <th>recoveries</th>\n",
       "      <th>collection_recovery_fee</th>\n",
       "      <th>last_pymnt_d</th>\n",
       "      <th>last_pymnt_amnt</th>\n",
       "      <th>next_pymnt_d</th>\n",
       "      <th>last_credit_pull_d</th>\n",
       "      <th>collections_12_mths_ex_med</th>\n",
       "      <th>mths_since_last_major_derog</th>\n",
       "      <th>policy_code</th>\n",
       "      <th>application_type</th>\n",
       "      <th>annual_inc_joint</th>\n",
       "      <th>dti_joint</th>\n",
       "      <th>verification_status_joint</th>\n",
       "      <th>acc_now_delinq</th>\n",
       "      <th>tot_coll_amt</th>\n",
       "      <th>tot_cur_bal</th>\n",
       "      <th>open_acc_6m</th>\n",
       "      <th>open_il_6m</th>\n",
       "      <th>open_il_12m</th>\n",
       "      <th>open_il_24m</th>\n",
       "      <th>mths_since_rcnt_il</th>\n",
       "      <th>total_bal_il</th>\n",
       "      <th>il_util</th>\n",
       "      <th>open_rv_12m</th>\n",
       "      <th>open_rv_24m</th>\n",
       "      <th>max_bal_bc</th>\n",
       "      <th>all_util</th>\n",
       "      <th>total_rev_hi_lim</th>\n",
       "      <th>inq_fi</th>\n",
       "      <th>total_cu_tl</th>\n",
       "      <th>inq_last_12m</th>\n",
       "      <th>acc_open_past_24mths</th>\n",
       "      <th>avg_cur_bal</th>\n",
       "      <th>bc_open_to_buy</th>\n",
       "      <th>bc_util</th>\n",
       "      <th>chargeoff_within_12_mths</th>\n",
       "      <th>delinq_amnt</th>\n",
       "      <th>mo_sin_old_il_acct</th>\n",
       "      <th>mo_sin_old_rev_tl_op</th>\n",
       "      <th>mo_sin_rcnt_rev_tl_op</th>\n",
       "      <th>mo_sin_rcnt_tl</th>\n",
       "      <th>mort_acc</th>\n",
       "      <th>mths_since_recent_bc</th>\n",
       "      <th>mths_since_recent_bc_dlq</th>\n",
       "      <th>mths_since_recent_inq</th>\n",
       "      <th>mths_since_recent_revol_delinq</th>\n",
       "      <th>num_accts_ever_120_pd</th>\n",
       "      <th>num_actv_bc_tl</th>\n",
       "      <th>num_actv_rev_tl</th>\n",
       "      <th>num_bc_sats</th>\n",
       "      <th>num_bc_tl</th>\n",
       "      <th>num_il_tl</th>\n",
       "      <th>num_op_rev_tl</th>\n",
       "      <th>num_rev_accts</th>\n",
       "      <th>num_rev_tl_bal_gt_0</th>\n",
       "      <th>num_sats</th>\n",
       "      <th>num_tl_120dpd_2m</th>\n",
       "      <th>num_tl_30dpd</th>\n",
       "      <th>num_tl_90g_dpd_24m</th>\n",
       "      <th>num_tl_op_past_12m</th>\n",
       "      <th>pct_tl_nvr_dlq</th>\n",
       "      <th>percent_bc_gt_75</th>\n",
       "      <th>pub_rec_bankruptcies</th>\n",
       "      <th>tax_liens</th>\n",
       "      <th>tot_hi_cred_lim</th>\n",
       "      <th>total_bal_ex_mort</th>\n",
       "      <th>total_bc_limit</th>\n",
       "      <th>total_il_high_credit_limit</th>\n",
       "    </tr>\n",
       "  </thead>\n",
       "  <tbody>\n",
       "    <tr>\n",
       "      <th>0</th>\n",
       "      <td>1077501</td>\n",
       "      <td>1296599</td>\n",
       "      <td>5000</td>\n",
       "      <td>5000</td>\n",
       "      <td>4975</td>\n",
       "      <td>36 months</td>\n",
       "      <td>10.65%</td>\n",
       "      <td>162.87</td>\n",
       "      <td>B</td>\n",
       "      <td>B2</td>\n",
       "      <td>NaN</td>\n",
       "      <td>10+ years</td>\n",
       "      <td>RENT</td>\n",
       "      <td>24000</td>\n",
       "      <td>Verified</td>\n",
       "      <td>Dec-11</td>\n",
       "      <td>Fully Paid</td>\n",
       "      <td>n</td>\n",
       "      <td>https://lendingclub.com/browse/loanDetail.acti...</td>\n",
       "      <td>Borrower added on 12/22/11 &gt; I need to upgra...</td>\n",
       "      <td>credit_card</td>\n",
       "      <td>Computer</td>\n",
       "      <td>860xx</td>\n",
       "      <td>AZ</td>\n",
       "      <td>27.65</td>\n",
       "      <td>0</td>\n",
       "      <td>Jan-85</td>\n",
       "      <td>1</td>\n",
       "      <td>NaN</td>\n",
       "      <td>NaN</td>\n",
       "      <td>3</td>\n",
       "      <td>0</td>\n",
       "      <td>13648</td>\n",
       "      <td>83.70%</td>\n",
       "      <td>9</td>\n",
       "      <td>f</td>\n",
       "      <td>0</td>\n",
       "      <td>0</td>\n",
       "      <td>5863.155187</td>\n",
       "      <td>5833.84</td>\n",
       "      <td>5000</td>\n",
       "      <td>863.16</td>\n",
       "      <td>0</td>\n",
       "      <td>0</td>\n",
       "      <td>0</td>\n",
       "      <td>Jan-15</td>\n",
       "      <td>171.62</td>\n",
       "      <td>NaN</td>\n",
       "      <td>May-16</td>\n",
       "      <td>0</td>\n",
       "      <td>NaN</td>\n",
       "      <td>1</td>\n",
       "      <td>INDIVIDUAL</td>\n",
       "      <td>NaN</td>\n",
       "      <td>NaN</td>\n",
       "      <td>NaN</td>\n",
       "      <td>0</td>\n",
       "      <td>NaN</td>\n",
       "      <td>NaN</td>\n",
       "      <td>NaN</td>\n",
       "      <td>NaN</td>\n",
       "      <td>NaN</td>\n",
       "      <td>NaN</td>\n",
       "      <td>NaN</td>\n",
       "      <td>NaN</td>\n",
       "      <td>NaN</td>\n",
       "      <td>NaN</td>\n",
       "      <td>NaN</td>\n",
       "      <td>NaN</td>\n",
       "      <td>NaN</td>\n",
       "      <td>NaN</td>\n",
       "      <td>NaN</td>\n",
       "      <td>NaN</td>\n",
       "      <td>NaN</td>\n",
       "      <td>NaN</td>\n",
       "      <td>NaN</td>\n",
       "      <td>NaN</td>\n",
       "      <td>NaN</td>\n",
       "      <td>0</td>\n",
       "      <td>0</td>\n",
       "      <td>NaN</td>\n",
       "      <td>NaN</td>\n",
       "      <td>NaN</td>\n",
       "      <td>NaN</td>\n",
       "      <td>NaN</td>\n",
       "      <td>NaN</td>\n",
       "      <td>NaN</td>\n",
       "      <td>NaN</td>\n",
       "      <td>NaN</td>\n",
       "      <td>NaN</td>\n",
       "      <td>NaN</td>\n",
       "      <td>NaN</td>\n",
       "      <td>NaN</td>\n",
       "      <td>NaN</td>\n",
       "      <td>NaN</td>\n",
       "      <td>NaN</td>\n",
       "      <td>NaN</td>\n",
       "      <td>NaN</td>\n",
       "      <td>NaN</td>\n",
       "      <td>NaN</td>\n",
       "      <td>NaN</td>\n",
       "      <td>NaN</td>\n",
       "      <td>NaN</td>\n",
       "      <td>NaN</td>\n",
       "      <td>NaN</td>\n",
       "      <td>0</td>\n",
       "      <td>0</td>\n",
       "      <td>NaN</td>\n",
       "      <td>NaN</td>\n",
       "      <td>NaN</td>\n",
       "      <td>NaN</td>\n",
       "    </tr>\n",
       "    <tr>\n",
       "      <th>1</th>\n",
       "      <td>1077430</td>\n",
       "      <td>1314167</td>\n",
       "      <td>2500</td>\n",
       "      <td>2500</td>\n",
       "      <td>2500</td>\n",
       "      <td>60 months</td>\n",
       "      <td>15.27%</td>\n",
       "      <td>59.83</td>\n",
       "      <td>C</td>\n",
       "      <td>C4</td>\n",
       "      <td>Ryder</td>\n",
       "      <td>&lt; 1 year</td>\n",
       "      <td>RENT</td>\n",
       "      <td>30000</td>\n",
       "      <td>Source Verified</td>\n",
       "      <td>Dec-11</td>\n",
       "      <td>Charged Off</td>\n",
       "      <td>n</td>\n",
       "      <td>https://lendingclub.com/browse/loanDetail.acti...</td>\n",
       "      <td>Borrower added on 12/22/11 &gt; I plan to use t...</td>\n",
       "      <td>car</td>\n",
       "      <td>bike</td>\n",
       "      <td>309xx</td>\n",
       "      <td>GA</td>\n",
       "      <td>1</td>\n",
       "      <td>0</td>\n",
       "      <td>Apr-99</td>\n",
       "      <td>5</td>\n",
       "      <td>NaN</td>\n",
       "      <td>NaN</td>\n",
       "      <td>3</td>\n",
       "      <td>0</td>\n",
       "      <td>1687</td>\n",
       "      <td>9.40%</td>\n",
       "      <td>4</td>\n",
       "      <td>f</td>\n",
       "      <td>0</td>\n",
       "      <td>0</td>\n",
       "      <td>1008.71</td>\n",
       "      <td>1008.71</td>\n",
       "      <td>456.46</td>\n",
       "      <td>435.17</td>\n",
       "      <td>0</td>\n",
       "      <td>117.08</td>\n",
       "      <td>1.11</td>\n",
       "      <td>Apr-13</td>\n",
       "      <td>119.66</td>\n",
       "      <td>NaN</td>\n",
       "      <td>Sep-13</td>\n",
       "      <td>0</td>\n",
       "      <td>NaN</td>\n",
       "      <td>1</td>\n",
       "      <td>INDIVIDUAL</td>\n",
       "      <td>NaN</td>\n",
       "      <td>NaN</td>\n",
       "      <td>NaN</td>\n",
       "      <td>0</td>\n",
       "      <td>NaN</td>\n",
       "      <td>NaN</td>\n",
       "      <td>NaN</td>\n",
       "      <td>NaN</td>\n",
       "      <td>NaN</td>\n",
       "      <td>NaN</td>\n",
       "      <td>NaN</td>\n",
       "      <td>NaN</td>\n",
       "      <td>NaN</td>\n",
       "      <td>NaN</td>\n",
       "      <td>NaN</td>\n",
       "      <td>NaN</td>\n",
       "      <td>NaN</td>\n",
       "      <td>NaN</td>\n",
       "      <td>NaN</td>\n",
       "      <td>NaN</td>\n",
       "      <td>NaN</td>\n",
       "      <td>NaN</td>\n",
       "      <td>NaN</td>\n",
       "      <td>NaN</td>\n",
       "      <td>NaN</td>\n",
       "      <td>0</td>\n",
       "      <td>0</td>\n",
       "      <td>NaN</td>\n",
       "      <td>NaN</td>\n",
       "      <td>NaN</td>\n",
       "      <td>NaN</td>\n",
       "      <td>NaN</td>\n",
       "      <td>NaN</td>\n",
       "      <td>NaN</td>\n",
       "      <td>NaN</td>\n",
       "      <td>NaN</td>\n",
       "      <td>NaN</td>\n",
       "      <td>NaN</td>\n",
       "      <td>NaN</td>\n",
       "      <td>NaN</td>\n",
       "      <td>NaN</td>\n",
       "      <td>NaN</td>\n",
       "      <td>NaN</td>\n",
       "      <td>NaN</td>\n",
       "      <td>NaN</td>\n",
       "      <td>NaN</td>\n",
       "      <td>NaN</td>\n",
       "      <td>NaN</td>\n",
       "      <td>NaN</td>\n",
       "      <td>NaN</td>\n",
       "      <td>NaN</td>\n",
       "      <td>NaN</td>\n",
       "      <td>0</td>\n",
       "      <td>0</td>\n",
       "      <td>NaN</td>\n",
       "      <td>NaN</td>\n",
       "      <td>NaN</td>\n",
       "      <td>NaN</td>\n",
       "    </tr>\n",
       "    <tr>\n",
       "      <th>2</th>\n",
       "      <td>1077175</td>\n",
       "      <td>1313524</td>\n",
       "      <td>2400</td>\n",
       "      <td>2400</td>\n",
       "      <td>2400</td>\n",
       "      <td>36 months</td>\n",
       "      <td>15.96%</td>\n",
       "      <td>84.33</td>\n",
       "      <td>C</td>\n",
       "      <td>C5</td>\n",
       "      <td>NaN</td>\n",
       "      <td>10+ years</td>\n",
       "      <td>RENT</td>\n",
       "      <td>12252</td>\n",
       "      <td>Not Verified</td>\n",
       "      <td>Dec-11</td>\n",
       "      <td>Fully Paid</td>\n",
       "      <td>n</td>\n",
       "      <td>https://lendingclub.com/browse/loanDetail.acti...</td>\n",
       "      <td>NaN</td>\n",
       "      <td>small_business</td>\n",
       "      <td>real estate business</td>\n",
       "      <td>606xx</td>\n",
       "      <td>IL</td>\n",
       "      <td>8.72</td>\n",
       "      <td>0</td>\n",
       "      <td>Nov-01</td>\n",
       "      <td>2</td>\n",
       "      <td>NaN</td>\n",
       "      <td>NaN</td>\n",
       "      <td>2</td>\n",
       "      <td>0</td>\n",
       "      <td>2956</td>\n",
       "      <td>98.50%</td>\n",
       "      <td>10</td>\n",
       "      <td>f</td>\n",
       "      <td>0</td>\n",
       "      <td>0</td>\n",
       "      <td>3005.666844</td>\n",
       "      <td>3005.67</td>\n",
       "      <td>2400</td>\n",
       "      <td>605.67</td>\n",
       "      <td>0</td>\n",
       "      <td>0</td>\n",
       "      <td>0</td>\n",
       "      <td>Jun-14</td>\n",
       "      <td>649.91</td>\n",
       "      <td>NaN</td>\n",
       "      <td>May-16</td>\n",
       "      <td>0</td>\n",
       "      <td>NaN</td>\n",
       "      <td>1</td>\n",
       "      <td>INDIVIDUAL</td>\n",
       "      <td>NaN</td>\n",
       "      <td>NaN</td>\n",
       "      <td>NaN</td>\n",
       "      <td>0</td>\n",
       "      <td>NaN</td>\n",
       "      <td>NaN</td>\n",
       "      <td>NaN</td>\n",
       "      <td>NaN</td>\n",
       "      <td>NaN</td>\n",
       "      <td>NaN</td>\n",
       "      <td>NaN</td>\n",
       "      <td>NaN</td>\n",
       "      <td>NaN</td>\n",
       "      <td>NaN</td>\n",
       "      <td>NaN</td>\n",
       "      <td>NaN</td>\n",
       "      <td>NaN</td>\n",
       "      <td>NaN</td>\n",
       "      <td>NaN</td>\n",
       "      <td>NaN</td>\n",
       "      <td>NaN</td>\n",
       "      <td>NaN</td>\n",
       "      <td>NaN</td>\n",
       "      <td>NaN</td>\n",
       "      <td>NaN</td>\n",
       "      <td>0</td>\n",
       "      <td>0</td>\n",
       "      <td>NaN</td>\n",
       "      <td>NaN</td>\n",
       "      <td>NaN</td>\n",
       "      <td>NaN</td>\n",
       "      <td>NaN</td>\n",
       "      <td>NaN</td>\n",
       "      <td>NaN</td>\n",
       "      <td>NaN</td>\n",
       "      <td>NaN</td>\n",
       "      <td>NaN</td>\n",
       "      <td>NaN</td>\n",
       "      <td>NaN</td>\n",
       "      <td>NaN</td>\n",
       "      <td>NaN</td>\n",
       "      <td>NaN</td>\n",
       "      <td>NaN</td>\n",
       "      <td>NaN</td>\n",
       "      <td>NaN</td>\n",
       "      <td>NaN</td>\n",
       "      <td>NaN</td>\n",
       "      <td>NaN</td>\n",
       "      <td>NaN</td>\n",
       "      <td>NaN</td>\n",
       "      <td>NaN</td>\n",
       "      <td>NaN</td>\n",
       "      <td>0</td>\n",
       "      <td>0</td>\n",
       "      <td>NaN</td>\n",
       "      <td>NaN</td>\n",
       "      <td>NaN</td>\n",
       "      <td>NaN</td>\n",
       "    </tr>\n",
       "    <tr>\n",
       "      <th>3</th>\n",
       "      <td>1076863</td>\n",
       "      <td>1277178</td>\n",
       "      <td>10000</td>\n",
       "      <td>10000</td>\n",
       "      <td>10000</td>\n",
       "      <td>36 months</td>\n",
       "      <td>13.49%</td>\n",
       "      <td>339.31</td>\n",
       "      <td>C</td>\n",
       "      <td>C1</td>\n",
       "      <td>AIR RESOURCES BOARD</td>\n",
       "      <td>10+ years</td>\n",
       "      <td>RENT</td>\n",
       "      <td>49200</td>\n",
       "      <td>Source Verified</td>\n",
       "      <td>Dec-11</td>\n",
       "      <td>Fully Paid</td>\n",
       "      <td>n</td>\n",
       "      <td>https://lendingclub.com/browse/loanDetail.acti...</td>\n",
       "      <td>Borrower added on 12/21/11 &gt; to pay for prop...</td>\n",
       "      <td>other</td>\n",
       "      <td>personel</td>\n",
       "      <td>917xx</td>\n",
       "      <td>CA</td>\n",
       "      <td>20</td>\n",
       "      <td>0</td>\n",
       "      <td>Feb-96</td>\n",
       "      <td>1</td>\n",
       "      <td>35</td>\n",
       "      <td>NaN</td>\n",
       "      <td>10</td>\n",
       "      <td>0</td>\n",
       "      <td>5598</td>\n",
       "      <td>21%</td>\n",
       "      <td>37</td>\n",
       "      <td>f</td>\n",
       "      <td>0</td>\n",
       "      <td>0</td>\n",
       "      <td>12231.89</td>\n",
       "      <td>12231.89</td>\n",
       "      <td>10000</td>\n",
       "      <td>2214.92</td>\n",
       "      <td>16.97</td>\n",
       "      <td>0</td>\n",
       "      <td>0</td>\n",
       "      <td>Jan-15</td>\n",
       "      <td>357.48</td>\n",
       "      <td>NaN</td>\n",
       "      <td>Apr-16</td>\n",
       "      <td>0</td>\n",
       "      <td>NaN</td>\n",
       "      <td>1</td>\n",
       "      <td>INDIVIDUAL</td>\n",
       "      <td>NaN</td>\n",
       "      <td>NaN</td>\n",
       "      <td>NaN</td>\n",
       "      <td>0</td>\n",
       "      <td>NaN</td>\n",
       "      <td>NaN</td>\n",
       "      <td>NaN</td>\n",
       "      <td>NaN</td>\n",
       "      <td>NaN</td>\n",
       "      <td>NaN</td>\n",
       "      <td>NaN</td>\n",
       "      <td>NaN</td>\n",
       "      <td>NaN</td>\n",
       "      <td>NaN</td>\n",
       "      <td>NaN</td>\n",
       "      <td>NaN</td>\n",
       "      <td>NaN</td>\n",
       "      <td>NaN</td>\n",
       "      <td>NaN</td>\n",
       "      <td>NaN</td>\n",
       "      <td>NaN</td>\n",
       "      <td>NaN</td>\n",
       "      <td>NaN</td>\n",
       "      <td>NaN</td>\n",
       "      <td>NaN</td>\n",
       "      <td>0</td>\n",
       "      <td>0</td>\n",
       "      <td>NaN</td>\n",
       "      <td>NaN</td>\n",
       "      <td>NaN</td>\n",
       "      <td>NaN</td>\n",
       "      <td>NaN</td>\n",
       "      <td>NaN</td>\n",
       "      <td>NaN</td>\n",
       "      <td>NaN</td>\n",
       "      <td>NaN</td>\n",
       "      <td>NaN</td>\n",
       "      <td>NaN</td>\n",
       "      <td>NaN</td>\n",
       "      <td>NaN</td>\n",
       "      <td>NaN</td>\n",
       "      <td>NaN</td>\n",
       "      <td>NaN</td>\n",
       "      <td>NaN</td>\n",
       "      <td>NaN</td>\n",
       "      <td>NaN</td>\n",
       "      <td>NaN</td>\n",
       "      <td>NaN</td>\n",
       "      <td>NaN</td>\n",
       "      <td>NaN</td>\n",
       "      <td>NaN</td>\n",
       "      <td>NaN</td>\n",
       "      <td>0</td>\n",
       "      <td>0</td>\n",
       "      <td>NaN</td>\n",
       "      <td>NaN</td>\n",
       "      <td>NaN</td>\n",
       "      <td>NaN</td>\n",
       "    </tr>\n",
       "    <tr>\n",
       "      <th>4</th>\n",
       "      <td>1075358</td>\n",
       "      <td>1311748</td>\n",
       "      <td>3000</td>\n",
       "      <td>3000</td>\n",
       "      <td>3000</td>\n",
       "      <td>60 months</td>\n",
       "      <td>12.69%</td>\n",
       "      <td>67.79</td>\n",
       "      <td>B</td>\n",
       "      <td>B5</td>\n",
       "      <td>University Medical Group</td>\n",
       "      <td>1 year</td>\n",
       "      <td>RENT</td>\n",
       "      <td>80000</td>\n",
       "      <td>Source Verified</td>\n",
       "      <td>Dec-11</td>\n",
       "      <td>Current</td>\n",
       "      <td>n</td>\n",
       "      <td>https://lendingclub.com/browse/loanDetail.acti...</td>\n",
       "      <td>Borrower added on 12/21/11 &gt; I plan on combi...</td>\n",
       "      <td>other</td>\n",
       "      <td>Personal</td>\n",
       "      <td>972xx</td>\n",
       "      <td>OR</td>\n",
       "      <td>17.94</td>\n",
       "      <td>0</td>\n",
       "      <td>Jan-96</td>\n",
       "      <td>0</td>\n",
       "      <td>38</td>\n",
       "      <td>NaN</td>\n",
       "      <td>15</td>\n",
       "      <td>0</td>\n",
       "      <td>27783</td>\n",
       "      <td>53.90%</td>\n",
       "      <td>38</td>\n",
       "      <td>f</td>\n",
       "      <td>524.06</td>\n",
       "      <td>524.06</td>\n",
       "      <td>3513.33</td>\n",
       "      <td>3513.33</td>\n",
       "      <td>2475.94</td>\n",
       "      <td>1037.39</td>\n",
       "      <td>0</td>\n",
       "      <td>0</td>\n",
       "      <td>0</td>\n",
       "      <td>May-16</td>\n",
       "      <td>67.79</td>\n",
       "      <td>Jun-16</td>\n",
       "      <td>May-16</td>\n",
       "      <td>0</td>\n",
       "      <td>NaN</td>\n",
       "      <td>1</td>\n",
       "      <td>INDIVIDUAL</td>\n",
       "      <td>NaN</td>\n",
       "      <td>NaN</td>\n",
       "      <td>NaN</td>\n",
       "      <td>0</td>\n",
       "      <td>NaN</td>\n",
       "      <td>NaN</td>\n",
       "      <td>NaN</td>\n",
       "      <td>NaN</td>\n",
       "      <td>NaN</td>\n",
       "      <td>NaN</td>\n",
       "      <td>NaN</td>\n",
       "      <td>NaN</td>\n",
       "      <td>NaN</td>\n",
       "      <td>NaN</td>\n",
       "      <td>NaN</td>\n",
       "      <td>NaN</td>\n",
       "      <td>NaN</td>\n",
       "      <td>NaN</td>\n",
       "      <td>NaN</td>\n",
       "      <td>NaN</td>\n",
       "      <td>NaN</td>\n",
       "      <td>NaN</td>\n",
       "      <td>NaN</td>\n",
       "      <td>NaN</td>\n",
       "      <td>NaN</td>\n",
       "      <td>0</td>\n",
       "      <td>0</td>\n",
       "      <td>NaN</td>\n",
       "      <td>NaN</td>\n",
       "      <td>NaN</td>\n",
       "      <td>NaN</td>\n",
       "      <td>NaN</td>\n",
       "      <td>NaN</td>\n",
       "      <td>NaN</td>\n",
       "      <td>NaN</td>\n",
       "      <td>NaN</td>\n",
       "      <td>NaN</td>\n",
       "      <td>NaN</td>\n",
       "      <td>NaN</td>\n",
       "      <td>NaN</td>\n",
       "      <td>NaN</td>\n",
       "      <td>NaN</td>\n",
       "      <td>NaN</td>\n",
       "      <td>NaN</td>\n",
       "      <td>NaN</td>\n",
       "      <td>NaN</td>\n",
       "      <td>NaN</td>\n",
       "      <td>NaN</td>\n",
       "      <td>NaN</td>\n",
       "      <td>NaN</td>\n",
       "      <td>NaN</td>\n",
       "      <td>NaN</td>\n",
       "      <td>0</td>\n",
       "      <td>0</td>\n",
       "      <td>NaN</td>\n",
       "      <td>NaN</td>\n",
       "      <td>NaN</td>\n",
       "      <td>NaN</td>\n",
       "    </tr>\n",
       "  </tbody>\n",
       "</table>\n",
       "</div>"
      ],
      "text/plain": [
       "        id member_id loan_amnt funded_amnt funded_amnt_inv        term  \\\n",
       "0  1077501   1296599      5000        5000            4975   36 months   \n",
       "1  1077430   1314167      2500        2500            2500   60 months   \n",
       "2  1077175   1313524      2400        2400            2400   36 months   \n",
       "3  1076863   1277178     10000       10000           10000   36 months   \n",
       "4  1075358   1311748      3000        3000            3000   60 months   \n",
       "\n",
       "  int_rate installment grade sub_grade                 emp_title emp_length  \\\n",
       "0   10.65%      162.87     B        B2                       NaN  10+ years   \n",
       "1   15.27%       59.83     C        C4                     Ryder   < 1 year   \n",
       "2   15.96%       84.33     C        C5                       NaN  10+ years   \n",
       "3   13.49%      339.31     C        C1       AIR RESOURCES BOARD  10+ years   \n",
       "4   12.69%       67.79     B        B5  University Medical Group     1 year   \n",
       "\n",
       "  home_ownership annual_inc verification_status issue_d  loan_status  \\\n",
       "0           RENT      24000            Verified  Dec-11   Fully Paid   \n",
       "1           RENT      30000     Source Verified  Dec-11  Charged Off   \n",
       "2           RENT      12252        Not Verified  Dec-11   Fully Paid   \n",
       "3           RENT      49200     Source Verified  Dec-11   Fully Paid   \n",
       "4           RENT      80000     Source Verified  Dec-11      Current   \n",
       "\n",
       "  pymnt_plan                                                url  \\\n",
       "0          n  https://lendingclub.com/browse/loanDetail.acti...   \n",
       "1          n  https://lendingclub.com/browse/loanDetail.acti...   \n",
       "2          n  https://lendingclub.com/browse/loanDetail.acti...   \n",
       "3          n  https://lendingclub.com/browse/loanDetail.acti...   \n",
       "4          n  https://lendingclub.com/browse/loanDetail.acti...   \n",
       "\n",
       "                                                desc         purpose  \\\n",
       "0    Borrower added on 12/22/11 > I need to upgra...     credit_card   \n",
       "1    Borrower added on 12/22/11 > I plan to use t...             car   \n",
       "2                                                NaN  small_business   \n",
       "3    Borrower added on 12/21/11 > to pay for prop...           other   \n",
       "4    Borrower added on 12/21/11 > I plan on combi...           other   \n",
       "\n",
       "                  title zip_code addr_state    dti delinq_2yrs  \\\n",
       "0              Computer    860xx         AZ  27.65           0   \n",
       "1                  bike    309xx         GA      1           0   \n",
       "2  real estate business    606xx         IL   8.72           0   \n",
       "3              personel    917xx         CA     20           0   \n",
       "4              Personal    972xx         OR  17.94           0   \n",
       "\n",
       "  earliest_cr_line inq_last_6mths mths_since_last_delinq  \\\n",
       "0           Jan-85              1                    NaN   \n",
       "1           Apr-99              5                    NaN   \n",
       "2           Nov-01              2                    NaN   \n",
       "3           Feb-96              1                     35   \n",
       "4           Jan-96              0                     38   \n",
       "\n",
       "  mths_since_last_record open_acc pub_rec revol_bal revol_util total_acc  \\\n",
       "0                    NaN        3       0     13648     83.70%         9   \n",
       "1                    NaN        3       0      1687      9.40%         4   \n",
       "2                    NaN        2       0      2956     98.50%        10   \n",
       "3                    NaN       10       0      5598        21%        37   \n",
       "4                    NaN       15       0     27783     53.90%        38   \n",
       "\n",
       "  initial_list_status out_prncp out_prncp_inv  total_pymnt total_pymnt_inv  \\\n",
       "0                   f         0             0  5863.155187         5833.84   \n",
       "1                   f         0             0      1008.71         1008.71   \n",
       "2                   f         0             0  3005.666844         3005.67   \n",
       "3                   f         0             0     12231.89        12231.89   \n",
       "4                   f    524.06        524.06      3513.33         3513.33   \n",
       "\n",
       "  total_rec_prncp total_rec_int total_rec_late_fee recoveries  \\\n",
       "0            5000        863.16                  0          0   \n",
       "1          456.46        435.17                  0     117.08   \n",
       "2            2400        605.67                  0          0   \n",
       "3           10000       2214.92              16.97          0   \n",
       "4         2475.94       1037.39                  0          0   \n",
       "\n",
       "  collection_recovery_fee last_pymnt_d last_pymnt_amnt next_pymnt_d  \\\n",
       "0                       0       Jan-15          171.62          NaN   \n",
       "1                    1.11       Apr-13          119.66          NaN   \n",
       "2                       0       Jun-14          649.91          NaN   \n",
       "3                       0       Jan-15          357.48          NaN   \n",
       "4                       0       May-16           67.79       Jun-16   \n",
       "\n",
       "  last_credit_pull_d collections_12_mths_ex_med mths_since_last_major_derog  \\\n",
       "0             May-16                          0                         NaN   \n",
       "1             Sep-13                          0                         NaN   \n",
       "2             May-16                          0                         NaN   \n",
       "3             Apr-16                          0                         NaN   \n",
       "4             May-16                          0                         NaN   \n",
       "\n",
       "  policy_code application_type annual_inc_joint dti_joint  \\\n",
       "0           1       INDIVIDUAL              NaN       NaN   \n",
       "1           1       INDIVIDUAL              NaN       NaN   \n",
       "2           1       INDIVIDUAL              NaN       NaN   \n",
       "3           1       INDIVIDUAL              NaN       NaN   \n",
       "4           1       INDIVIDUAL              NaN       NaN   \n",
       "\n",
       "  verification_status_joint acc_now_delinq tot_coll_amt tot_cur_bal  \\\n",
       "0                       NaN              0          NaN         NaN   \n",
       "1                       NaN              0          NaN         NaN   \n",
       "2                       NaN              0          NaN         NaN   \n",
       "3                       NaN              0          NaN         NaN   \n",
       "4                       NaN              0          NaN         NaN   \n",
       "\n",
       "  open_acc_6m open_il_6m open_il_12m open_il_24m mths_since_rcnt_il  \\\n",
       "0         NaN        NaN         NaN         NaN                NaN   \n",
       "1         NaN        NaN         NaN         NaN                NaN   \n",
       "2         NaN        NaN         NaN         NaN                NaN   \n",
       "3         NaN        NaN         NaN         NaN                NaN   \n",
       "4         NaN        NaN         NaN         NaN                NaN   \n",
       "\n",
       "  total_bal_il il_util open_rv_12m open_rv_24m max_bal_bc all_util  \\\n",
       "0          NaN     NaN         NaN         NaN        NaN      NaN   \n",
       "1          NaN     NaN         NaN         NaN        NaN      NaN   \n",
       "2          NaN     NaN         NaN         NaN        NaN      NaN   \n",
       "3          NaN     NaN         NaN         NaN        NaN      NaN   \n",
       "4          NaN     NaN         NaN         NaN        NaN      NaN   \n",
       "\n",
       "  total_rev_hi_lim inq_fi total_cu_tl inq_last_12m acc_open_past_24mths  \\\n",
       "0              NaN    NaN         NaN          NaN                  NaN   \n",
       "1              NaN    NaN         NaN          NaN                  NaN   \n",
       "2              NaN    NaN         NaN          NaN                  NaN   \n",
       "3              NaN    NaN         NaN          NaN                  NaN   \n",
       "4              NaN    NaN         NaN          NaN                  NaN   \n",
       "\n",
       "  avg_cur_bal bc_open_to_buy bc_util chargeoff_within_12_mths delinq_amnt  \\\n",
       "0         NaN            NaN     NaN                        0           0   \n",
       "1         NaN            NaN     NaN                        0           0   \n",
       "2         NaN            NaN     NaN                        0           0   \n",
       "3         NaN            NaN     NaN                        0           0   \n",
       "4         NaN            NaN     NaN                        0           0   \n",
       "\n",
       "  mo_sin_old_il_acct mo_sin_old_rev_tl_op mo_sin_rcnt_rev_tl_op  \\\n",
       "0                NaN                  NaN                   NaN   \n",
       "1                NaN                  NaN                   NaN   \n",
       "2                NaN                  NaN                   NaN   \n",
       "3                NaN                  NaN                   NaN   \n",
       "4                NaN                  NaN                   NaN   \n",
       "\n",
       "  mo_sin_rcnt_tl mort_acc mths_since_recent_bc mths_since_recent_bc_dlq  \\\n",
       "0            NaN      NaN                  NaN                      NaN   \n",
       "1            NaN      NaN                  NaN                      NaN   \n",
       "2            NaN      NaN                  NaN                      NaN   \n",
       "3            NaN      NaN                  NaN                      NaN   \n",
       "4            NaN      NaN                  NaN                      NaN   \n",
       "\n",
       "  mths_since_recent_inq mths_since_recent_revol_delinq num_accts_ever_120_pd  \\\n",
       "0                   NaN                            NaN                   NaN   \n",
       "1                   NaN                            NaN                   NaN   \n",
       "2                   NaN                            NaN                   NaN   \n",
       "3                   NaN                            NaN                   NaN   \n",
       "4                   NaN                            NaN                   NaN   \n",
       "\n",
       "  num_actv_bc_tl num_actv_rev_tl num_bc_sats num_bc_tl num_il_tl  \\\n",
       "0            NaN             NaN         NaN       NaN       NaN   \n",
       "1            NaN             NaN         NaN       NaN       NaN   \n",
       "2            NaN             NaN         NaN       NaN       NaN   \n",
       "3            NaN             NaN         NaN       NaN       NaN   \n",
       "4            NaN             NaN         NaN       NaN       NaN   \n",
       "\n",
       "  num_op_rev_tl num_rev_accts num_rev_tl_bal_gt_0 num_sats num_tl_120dpd_2m  \\\n",
       "0           NaN           NaN                 NaN      NaN              NaN   \n",
       "1           NaN           NaN                 NaN      NaN              NaN   \n",
       "2           NaN           NaN                 NaN      NaN              NaN   \n",
       "3           NaN           NaN                 NaN      NaN              NaN   \n",
       "4           NaN           NaN                 NaN      NaN              NaN   \n",
       "\n",
       "  num_tl_30dpd num_tl_90g_dpd_24m num_tl_op_past_12m pct_tl_nvr_dlq  \\\n",
       "0          NaN                NaN                NaN            NaN   \n",
       "1          NaN                NaN                NaN            NaN   \n",
       "2          NaN                NaN                NaN            NaN   \n",
       "3          NaN                NaN                NaN            NaN   \n",
       "4          NaN                NaN                NaN            NaN   \n",
       "\n",
       "  percent_bc_gt_75 pub_rec_bankruptcies tax_liens tot_hi_cred_lim  \\\n",
       "0              NaN                    0         0             NaN   \n",
       "1              NaN                    0         0             NaN   \n",
       "2              NaN                    0         0             NaN   \n",
       "3              NaN                    0         0             NaN   \n",
       "4              NaN                    0         0             NaN   \n",
       "\n",
       "  total_bal_ex_mort total_bc_limit total_il_high_credit_limit  \n",
       "0               NaN            NaN                        NaN  \n",
       "1               NaN            NaN                        NaN  \n",
       "2               NaN            NaN                        NaN  \n",
       "3               NaN            NaN                        NaN  \n",
       "4               NaN            NaN                        NaN  "
      ]
     },
     "execution_count": 5,
     "metadata": {},
     "output_type": "execute_result"
    }
   ],
   "source": [
    "#Looking at top 5 records\n",
    "\n",
    "loan.head()"
   ]
  },
  {
   "cell_type": "code",
   "execution_count": 6,
   "metadata": {},
   "outputs": [
    {
     "data": {
      "text/plain": [
       "(39717, 111)"
      ]
     },
     "execution_count": 6,
     "metadata": {},
     "output_type": "execute_result"
    }
   ],
   "source": [
    "#Looking at the shape of the dataframe\n",
    "\n",
    "loan.shape"
   ]
  },
  {
   "cell_type": "code",
   "execution_count": 7,
   "metadata": {},
   "outputs": [
    {
     "name": "stdout",
     "output_type": "stream",
     "text": [
      "<class 'pandas.core.frame.DataFrame'>\n",
      "RangeIndex: 39717 entries, 0 to 39716\n",
      "Columns: 111 entries, id to total_il_high_credit_limit\n",
      "dtypes: object(111)\n",
      "memory usage: 33.6+ MB\n"
     ]
    }
   ],
   "source": [
    "#Looking at the columns\n",
    "\n",
    "loan.info()"
   ]
  },
  {
   "cell_type": "markdown",
   "metadata": {},
   "source": [
    "## Data Cleaning\n",
    "- Need to fix rows and columns\n",
    "- Need to fix missing values\n",
    "- Need to standardise values\n",
    "- Need to fix invalid values\n",
    "- Need to  filter data"
   ]
  },
  {
   "cell_type": "code",
   "execution_count": 8,
   "metadata": {},
   "outputs": [
    {
     "data": {
      "text/plain": [
       "id                                  0.00\n",
       "member_id                           0.00\n",
       "loan_amnt                           0.00\n",
       "funded_amnt                         0.00\n",
       "funded_amnt_inv                     0.00\n",
       "term                                0.00\n",
       "int_rate                            0.00\n",
       "installment                         0.00\n",
       "grade                               0.00\n",
       "sub_grade                           0.00\n",
       "emp_title                           6.19\n",
       "emp_length                          2.71\n",
       "home_ownership                      0.00\n",
       "annual_inc                          0.00\n",
       "verification_status                 0.00\n",
       "issue_d                             0.00\n",
       "loan_status                         0.00\n",
       "pymnt_plan                          0.00\n",
       "url                                 0.00\n",
       "desc                               32.58\n",
       "purpose                             0.00\n",
       "title                               0.03\n",
       "zip_code                            0.00\n",
       "addr_state                          0.00\n",
       "dti                                 0.00\n",
       "delinq_2yrs                         0.00\n",
       "earliest_cr_line                    0.00\n",
       "inq_last_6mths                      0.00\n",
       "mths_since_last_delinq             64.66\n",
       "mths_since_last_record             92.99\n",
       "open_acc                            0.00\n",
       "pub_rec                             0.00\n",
       "revol_bal                           0.00\n",
       "revol_util                          0.13\n",
       "total_acc                           0.00\n",
       "initial_list_status                 0.00\n",
       "out_prncp                           0.00\n",
       "out_prncp_inv                       0.00\n",
       "total_pymnt                         0.00\n",
       "total_pymnt_inv                     0.00\n",
       "total_rec_prncp                     0.00\n",
       "total_rec_int                       0.00\n",
       "total_rec_late_fee                  0.00\n",
       "recoveries                          0.00\n",
       "collection_recovery_fee             0.00\n",
       "last_pymnt_d                        0.18\n",
       "last_pymnt_amnt                     0.00\n",
       "next_pymnt_d                       97.13\n",
       "last_credit_pull_d                  0.01\n",
       "collections_12_mths_ex_med          0.14\n",
       "mths_since_last_major_derog       100.00\n",
       "policy_code                         0.00\n",
       "application_type                    0.00\n",
       "annual_inc_joint                  100.00\n",
       "dti_joint                         100.00\n",
       "verification_status_joint         100.00\n",
       "acc_now_delinq                      0.00\n",
       "tot_coll_amt                      100.00\n",
       "tot_cur_bal                       100.00\n",
       "open_acc_6m                       100.00\n",
       "open_il_6m                        100.00\n",
       "open_il_12m                       100.00\n",
       "open_il_24m                       100.00\n",
       "mths_since_rcnt_il                100.00\n",
       "total_bal_il                      100.00\n",
       "il_util                           100.00\n",
       "open_rv_12m                       100.00\n",
       "open_rv_24m                       100.00\n",
       "max_bal_bc                        100.00\n",
       "all_util                          100.00\n",
       "total_rev_hi_lim                  100.00\n",
       "inq_fi                            100.00\n",
       "total_cu_tl                       100.00\n",
       "inq_last_12m                      100.00\n",
       "acc_open_past_24mths              100.00\n",
       "avg_cur_bal                       100.00\n",
       "bc_open_to_buy                    100.00\n",
       "bc_util                           100.00\n",
       "chargeoff_within_12_mths            0.14\n",
       "delinq_amnt                         0.00\n",
       "mo_sin_old_il_acct                100.00\n",
       "mo_sin_old_rev_tl_op              100.00\n",
       "mo_sin_rcnt_rev_tl_op             100.00\n",
       "mo_sin_rcnt_tl                    100.00\n",
       "mort_acc                          100.00\n",
       "mths_since_recent_bc              100.00\n",
       "mths_since_recent_bc_dlq          100.00\n",
       "mths_since_recent_inq             100.00\n",
       "mths_since_recent_revol_delinq    100.00\n",
       "num_accts_ever_120_pd             100.00\n",
       "num_actv_bc_tl                    100.00\n",
       "num_actv_rev_tl                   100.00\n",
       "num_bc_sats                       100.00\n",
       "num_bc_tl                         100.00\n",
       "num_il_tl                         100.00\n",
       "num_op_rev_tl                     100.00\n",
       "num_rev_accts                     100.00\n",
       "num_rev_tl_bal_gt_0               100.00\n",
       "num_sats                          100.00\n",
       "num_tl_120dpd_2m                  100.00\n",
       "num_tl_30dpd                      100.00\n",
       "num_tl_90g_dpd_24m                100.00\n",
       "num_tl_op_past_12m                100.00\n",
       "pct_tl_nvr_dlq                    100.00\n",
       "percent_bc_gt_75                  100.00\n",
       "pub_rec_bankruptcies                1.75\n",
       "tax_liens                           0.10\n",
       "tot_hi_cred_lim                   100.00\n",
       "total_bal_ex_mort                 100.00\n",
       "total_bc_limit                    100.00\n",
       "total_il_high_credit_limit        100.00\n",
       "dtype: float64"
      ]
     },
     "execution_count": 8,
     "metadata": {},
     "output_type": "execute_result"
    }
   ],
   "source": [
    "#Checking missing values percentage in each column\n",
    "\n",
    "round(100*(loan.isnull().sum()/len(loan.index)),2)"
   ]
  },
  {
   "cell_type": "code",
   "execution_count": 9,
   "metadata": {},
   "outputs": [],
   "source": [
    "#Creating a dataframe which contains data columns of loan df with their respective missing value percentage \n",
    "\n",
    "percent_missing = loan.isnull().sum() * 100 / len(loan)\n",
    "missing_value_df = pd.DataFrame({'column_name': loan.columns,\n",
    "                                 'percent_missing': percent_missing.round(2)})\n",
    "missing_value_df.sort_values('percent_missing', inplace=True)"
   ]
  },
  {
   "cell_type": "code",
   "execution_count": 10,
   "metadata": {},
   "outputs": [
    {
     "data": {
      "text/plain": [
       "54"
      ]
     },
     "execution_count": 10,
     "metadata": {},
     "output_type": "execute_result"
    }
   ],
   "source": [
    "# Analysing those columns where all the values are NULL\n",
    "\n",
    "(missing_value_df['percent_missing'] == 100.00).sum()"
   ]
  },
  {
   "cell_type": "markdown",
   "metadata": {},
   "source": [
    "##### Now we need to drop these 54 columns where all the values are NULL"
   ]
  },
  {
   "cell_type": "code",
   "execution_count": 11,
   "metadata": {},
   "outputs": [
    {
     "data": {
      "text/plain": [
       "(39717, 57)"
      ]
     },
     "execution_count": 11,
     "metadata": {},
     "output_type": "execute_result"
    }
   ],
   "source": [
    "#Drop columns which have all null values\n",
    "\n",
    "loan = loan.dropna(axis=1, how='all')\n",
    "loan.shape"
   ]
  },
  {
   "cell_type": "code",
   "execution_count": 12,
   "metadata": {},
   "outputs": [
    {
     "data": {
      "text/plain": [
       "id                             0.0000\n",
       "member_id                      0.0000\n",
       "loan_amnt                      0.0000\n",
       "funded_amnt                    0.0000\n",
       "funded_amnt_inv                0.0000\n",
       "term                           0.0000\n",
       "int_rate                       0.0000\n",
       "installment                    0.0000\n",
       "grade                          0.0000\n",
       "sub_grade                      0.0000\n",
       "emp_title                      6.1913\n",
       "emp_length                     2.7066\n",
       "home_ownership                 0.0000\n",
       "annual_inc                     0.0000\n",
       "verification_status            0.0000\n",
       "issue_d                        0.0000\n",
       "loan_status                    0.0000\n",
       "pymnt_plan                     0.0000\n",
       "url                            0.0000\n",
       "desc                          32.5805\n",
       "purpose                        0.0000\n",
       "title                          0.0277\n",
       "zip_code                       0.0000\n",
       "addr_state                     0.0000\n",
       "dti                            0.0000\n",
       "delinq_2yrs                    0.0000\n",
       "earliest_cr_line               0.0000\n",
       "inq_last_6mths                 0.0000\n",
       "mths_since_last_delinq        64.6625\n",
       "mths_since_last_record        92.9854\n",
       "open_acc                       0.0000\n",
       "pub_rec                        0.0000\n",
       "revol_bal                      0.0000\n",
       "revol_util                     0.1259\n",
       "total_acc                      0.0000\n",
       "initial_list_status            0.0000\n",
       "out_prncp                      0.0000\n",
       "out_prncp_inv                  0.0000\n",
       "total_pymnt                    0.0000\n",
       "total_pymnt_inv                0.0000\n",
       "total_rec_prncp                0.0000\n",
       "total_rec_int                  0.0000\n",
       "total_rec_late_fee             0.0000\n",
       "recoveries                     0.0000\n",
       "collection_recovery_fee        0.0000\n",
       "last_pymnt_d                   0.1788\n",
       "last_pymnt_amnt                0.0000\n",
       "next_pymnt_d                  97.1297\n",
       "last_credit_pull_d             0.0050\n",
       "collections_12_mths_ex_med     0.1410\n",
       "policy_code                    0.0000\n",
       "application_type               0.0000\n",
       "acc_now_delinq                 0.0000\n",
       "chargeoff_within_12_mths       0.1410\n",
       "delinq_amnt                    0.0000\n",
       "pub_rec_bankruptcies           1.7549\n",
       "tax_liens                      0.0982\n",
       "dtype: float64"
      ]
     },
     "execution_count": 12,
     "metadata": {},
     "output_type": "execute_result"
    }
   ],
   "source": [
    "#Checking the Null value percentage again\n",
    "\n",
    "round((loan.isnull().sum()/len(loan.index))*100,4)"
   ]
  },
  {
   "cell_type": "markdown",
   "metadata": {},
   "source": [
    "##### Dropping columns where more than 90% values are null and those columns which are not useful in our analysis."
   ]
  },
  {
   "cell_type": "code",
   "execution_count": 13,
   "metadata": {},
   "outputs": [],
   "source": [
    "loan_df = loan.drop(['delinq_amnt', 'desc', 'member_id', 'id', 'url', 'next_pymnt_d', 'emp_title','collection_recovery_fee','open_acc',\n",
    "             'total_acc','last_pymnt_d','last_pymnt_amnt','mths_since_last_record', 'mths_since_last_delinq','acc_now_delinq', 'application_type',\n",
    "             'total_pymnt','last_credit_pull_d','policy_code', 'pymnt_plan', 'initial_list_status', 'chargeoff_within_12_mths','earliest_cr_line',\n",
    "             'title','revol_util','zip_code','recoveries','total_pymnt_inv','total_rec_prncp','total_rec_int','total_rec_late_fee','inq_last_6mths',\n",
    "             'revol_bal','delinq_2yrs','tax_liens', 'collections_12_mths_ex_med','out_prncp','out_prncp_inv','pub_rec_bankruptcies','pub_rec'],axis=1)"
   ]
  },
  {
   "cell_type": "code",
   "execution_count": 14,
   "metadata": {},
   "outputs": [
    {
     "data": {
      "text/plain": [
       "loan_amnt              0.00\n",
       "funded_amnt            0.00\n",
       "funded_amnt_inv        0.00\n",
       "term                   0.00\n",
       "int_rate               0.00\n",
       "installment            0.00\n",
       "grade                  0.00\n",
       "sub_grade              0.00\n",
       "emp_length             2.71\n",
       "home_ownership         0.00\n",
       "annual_inc             0.00\n",
       "verification_status    0.00\n",
       "issue_d                0.00\n",
       "loan_status            0.00\n",
       "purpose                0.00\n",
       "addr_state             0.00\n",
       "dti                    0.00\n",
       "dtype: float64"
      ]
     },
     "execution_count": 14,
     "metadata": {},
     "output_type": "execute_result"
    }
   ],
   "source": [
    "# Now again Checking missing values percentage in each column\n",
    "\n",
    "round(100*(loan_df.isnull().sum()/len(loan_df.index)),2)"
   ]
  },
  {
   "cell_type": "code",
   "execution_count": 15,
   "metadata": {},
   "outputs": [
    {
     "data": {
      "text/plain": [
       "(39717, 17)"
      ]
     },
     "execution_count": 15,
     "metadata": {},
     "output_type": "execute_result"
    }
   ],
   "source": [
    "#Looking at the shape of dataframe after dopping columns \n",
    "\n",
    "loan_df.shape"
   ]
  },
  {
   "cell_type": "markdown",
   "metadata": {},
   "source": [
    "##### Looking at the columns with some missing values that can be useful for our analysis"
   ]
  },
  {
   "cell_type": "code",
   "execution_count": 16,
   "metadata": {},
   "outputs": [
    {
     "data": {
      "text/plain": [
       "10+ years    8879\n",
       "< 1 year     4583\n",
       "2 years      4388\n",
       "3 years      4095\n",
       "4 years      3436\n",
       "5 years      3282\n",
       "1 year       3240\n",
       "6 years      2229\n",
       "7 years      1773\n",
       "8 years      1479\n",
       "9 years      1258\n",
       "Name: emp_length, dtype: int64"
      ]
     },
     "execution_count": 16,
     "metadata": {},
     "output_type": "execute_result"
    }
   ],
   "source": [
    "# Looking at the frequency of unique values in 'emp_length'\n",
    "\n",
    "loan_df.emp_length.value_counts()"
   ]
  },
  {
   "cell_type": "code",
   "execution_count": 17,
   "metadata": {},
   "outputs": [
    {
     "data": {
      "text/plain": [
       "1075"
      ]
     },
     "execution_count": 17,
     "metadata": {},
     "output_type": "execute_result"
    }
   ],
   "source": [
    "# Looking at the missing values in 'emp_length'\n",
    "\n",
    "loan_df.emp_length.isnull().sum()"
   ]
  },
  {
   "cell_type": "markdown",
   "metadata": {},
   "source": [
    "##### As seen earlier, we can impute these missing values with most frequently occuring value by using mode()"
   ]
  },
  {
   "cell_type": "markdown",
   "metadata": {},
   "source": [
    "##### As we there are almost 2% missing values in data column 'emp_length', we can impute the missing values with mode which is 10+ years"
   ]
  },
  {
   "cell_type": "code",
   "execution_count": 18,
   "metadata": {},
   "outputs": [
    {
     "data": {
      "text/plain": [
       "10.99%    956\n",
       "13.49%    826\n",
       "11.49%    825\n",
       "7.51%     787\n",
       "7.88%     725\n",
       "         ... \n",
       "16.96%      1\n",
       "17.34%      1\n",
       "18.72%      1\n",
       "14.67%      1\n",
       "16.20%      1\n",
       "Name: int_rate, Length: 371, dtype: int64"
      ]
     },
     "execution_count": 18,
     "metadata": {},
     "output_type": "execute_result"
    }
   ],
   "source": [
    "# Looking at the frequency of values in interest rate column\n",
    "\n",
    "loan_df['int_rate'].value_counts()"
   ]
  },
  {
   "cell_type": "markdown",
   "metadata": {},
   "source": [
    "#### Standardize values in Columns 'int_rate' and 'emp_length'"
   ]
  },
  {
   "cell_type": "code",
   "execution_count": 19,
   "metadata": {},
   "outputs": [],
   "source": [
    "# Removing % sign from int_rate \n",
    "\n",
    "loan_df['int_rate'] = loan_df['int_rate'].str.rstrip('%')"
   ]
  },
  {
   "cell_type": "code",
   "execution_count": 20,
   "metadata": {},
   "outputs": [],
   "source": [
    "# Creating a new column 'service_years' by removing available special characters and string in column 'emp_length'\n",
    "\n",
    "loan_df['service_years'] = loan_df['emp_length'].apply(lambda x: str(x).replace('+','').replace('<','').replace('years','').replace('year','').strip())"
   ]
  },
  {
   "cell_type": "code",
   "execution_count": 21,
   "metadata": {},
   "outputs": [
    {
     "data": {
      "text/plain": [
       "10     8879\n",
       "1      7823\n",
       "2      4388\n",
       "3      4095\n",
       "4      3436\n",
       "5      3282\n",
       "6      2229\n",
       "7      1773\n",
       "8      1479\n",
       "9      1258\n",
       "nan    1075\n",
       "Name: service_years, dtype: int64"
      ]
     },
     "execution_count": 21,
     "metadata": {},
     "output_type": "execute_result"
    }
   ],
   "source": [
    "# Checking 'service_years' column after removing specific characters\n",
    "\n",
    "loan_df['service_years'].value_counts()"
   ]
  },
  {
   "cell_type": "code",
   "execution_count": 22,
   "metadata": {},
   "outputs": [
    {
     "data": {
      "text/plain": [
       "10.99    956\n",
       "13.49    826\n",
       "11.49    825\n",
       "7.51     787\n",
       "7.88     725\n",
       "        ... \n",
       "17.54      1\n",
       "21.48      1\n",
       "16.96      1\n",
       "22.64      1\n",
       "18.36      1\n",
       "Name: int_rate, Length: 371, dtype: int64"
      ]
     },
     "execution_count": 22,
     "metadata": {},
     "output_type": "execute_result"
    }
   ],
   "source": [
    "# Checking 'int_rate' column after removing %\n",
    "\n",
    "loan_df['int_rate'].value_counts()"
   ]
  },
  {
   "cell_type": "markdown",
   "metadata": {},
   "source": [
    "### Creating derived columns"
   ]
  },
  {
   "cell_type": "markdown",
   "metadata": {},
   "source": [
    "###### Importing datetime"
   ]
  },
  {
   "cell_type": "code",
   "execution_count": 23,
   "metadata": {},
   "outputs": [],
   "source": [
    "from datetime import datetime"
   ]
  },
  {
   "cell_type": "code",
   "execution_count": 24,
   "metadata": {},
   "outputs": [],
   "source": [
    "#Breaking down 'issue date' into 'month' and 'year'\n",
    "\n",
    "loan_df['issue_d_month'] = loan_df['issue_d'].apply(lambda x:datetime.strptime(x, '%b-%y').strftime('%b'))\n",
    "loan_df['issue_d_year'] = loan_df['issue_d'].apply(lambda x:datetime.strptime(x, '%b-%y').strftime('%Y'))"
   ]
  },
  {
   "cell_type": "code",
   "execution_count": 25,
   "metadata": {},
   "outputs": [
    {
     "data": {
      "text/plain": [
       "Fully Paid     32950\n",
       "Charged Off     5627\n",
       "Name: loan_status, dtype: int64"
      ]
     },
     "execution_count": 25,
     "metadata": {},
     "output_type": "execute_result"
    }
   ],
   "source": [
    "# Removing current loan status as it's not needed in the analysis\n",
    "\n",
    "loan_df = loan_df[~(loan_df['loan_status']=='Current')]\n",
    "loan_df['loan_status'].value_counts()"
   ]
  },
  {
   "cell_type": "markdown",
   "metadata": {},
   "source": [
    "##### As 'loan_status' is our target variable, it would be useful to convert it into numeric(binary) format. Where '0' is for 'Fully-paid' and '1' is for 'Charged Off' or 'Defaulters'"
   ]
  },
  {
   "cell_type": "code",
   "execution_count": 26,
   "metadata": {},
   "outputs": [
    {
     "data": {
      "text/plain": [
       "0    32950\n",
       "1     5627\n",
       "Name: loan_status_binary, dtype: int64"
      ]
     },
     "execution_count": 26,
     "metadata": {},
     "output_type": "execute_result"
    }
   ],
   "source": [
    "loan_df['loan_status_binary'] = loan_df['loan_status'].apply(lambda x:x.replace(x,'1') if x=='Charged Off' else x.replace(x,'0'))\n",
    "loan_df['loan_status_binary'].value_counts()"
   ]
  },
  {
   "cell_type": "markdown",
   "metadata": {},
   "source": [
    "### Update column datatype and create buckets for Numerical data"
   ]
  },
  {
   "cell_type": "code",
   "execution_count": 27,
   "metadata": {},
   "outputs": [],
   "source": [
    "# Changing datatype to Float for following columns\n",
    "\n",
    "columns = ['loan_amnt', 'funded_amnt','funded_amnt_inv', 'installment', 'annual_inc', 'service_years', 'dti', 'int_rate']\n",
    "loan_df[columns] = loan_df[columns].astype(np.float)"
   ]
  },
  {
   "cell_type": "code",
   "execution_count": 28,
   "metadata": {},
   "outputs": [],
   "source": [
    "# Changing datatype to integer for following columns\n",
    "\n",
    "columns = ['issue_d_year','loan_status_binary']\n",
    "loan_df[columns] = loan_df[columns].astype(np.int)"
   ]
  },
  {
   "cell_type": "code",
   "execution_count": 29,
   "metadata": {},
   "outputs": [],
   "source": [
    "# Deriving a seperate column for 'int_rate' by creating buckets where value will vary from Low to High\n",
    "\n",
    "loan_df['int_rate_bucket'] = pd.qcut(loan_df['int_rate'], q=3, labels=['Low','Medium','High'])"
   ]
  },
  {
   "cell_type": "code",
   "execution_count": 30,
   "metadata": {},
   "outputs": [],
   "source": [
    "# Deriving a seperate column for 'dti' by creating buckets where value will vary from very Low to very High\n",
    "\n",
    "loan_df['dti_bucket'] = pd.qcut(loan_df['dti'],q=5,labels=['V Low','Low','Medium','High','V High'] )"
   ]
  },
  {
   "cell_type": "code",
   "execution_count": 31,
   "metadata": {},
   "outputs": [],
   "source": [
    "# Deriving a seperate column for 'annual_inc' by creating buckets where value will vary from very Low to very High\n",
    "\n",
    "loan_df['annual_inc_bucket'] = pd.qcut(loan_df['annual_inc'],q=5,labels=['V Low','Low','Medium','High','V High'] )"
   ]
  },
  {
   "cell_type": "code",
   "execution_count": 32,
   "metadata": {},
   "outputs": [],
   "source": [
    "# Deriving a seperate column for 'loan_amnt' by creating buckets where value will vary from very Low to very High\n",
    "\n",
    "loan_df['loan_amnt_bucket'] = pd.qcut(loan_df['loan_amnt'],q=5,labels=['V Low','Low','Medium','High','V High'] )"
   ]
  },
  {
   "cell_type": "code",
   "execution_count": 33,
   "metadata": {},
   "outputs": [],
   "source": [
    "# Deriving a seperate column for 'service_years' by creating buckets where value will vary from very Low to very High\n",
    "\n",
    "loan_df['emp_length_bucket'] = pd.qcut(loan_df['service_years'],q=5, labels=['Low','Medium','High'], duplicates='drop')"
   ]
  },
  {
   "cell_type": "code",
   "execution_count": 34,
   "metadata": {},
   "outputs": [
    {
     "name": "stdout",
     "output_type": "stream",
     "text": [
      "<class 'pandas.core.frame.DataFrame'>\n",
      "Int64Index: 38577 entries, 0 to 39716\n",
      "Data columns (total 26 columns):\n",
      " #   Column               Non-Null Count  Dtype   \n",
      "---  ------               --------------  -----   \n",
      " 0   loan_amnt            38577 non-null  float64 \n",
      " 1   funded_amnt          38577 non-null  float64 \n",
      " 2   funded_amnt_inv      38577 non-null  float64 \n",
      " 3   term                 38577 non-null  object  \n",
      " 4   int_rate             38577 non-null  float64 \n",
      " 5   installment          38577 non-null  float64 \n",
      " 6   grade                38577 non-null  object  \n",
      " 7   sub_grade            38577 non-null  object  \n",
      " 8   emp_length           37544 non-null  object  \n",
      " 9   home_ownership       38577 non-null  object  \n",
      " 10  annual_inc           38577 non-null  float64 \n",
      " 11  verification_status  38577 non-null  object  \n",
      " 12  issue_d              38577 non-null  object  \n",
      " 13  loan_status          38577 non-null  object  \n",
      " 14  purpose              38577 non-null  object  \n",
      " 15  addr_state           38577 non-null  object  \n",
      " 16  dti                  38577 non-null  float64 \n",
      " 17  service_years        37544 non-null  float64 \n",
      " 18  issue_d_month        38577 non-null  object  \n",
      " 19  issue_d_year         38577 non-null  int64   \n",
      " 20  loan_status_binary   38577 non-null  int64   \n",
      " 21  int_rate_bucket      38577 non-null  category\n",
      " 22  dti_bucket           38577 non-null  category\n",
      " 23  annual_inc_bucket    38577 non-null  category\n",
      " 24  loan_amnt_bucket     38577 non-null  category\n",
      " 25  emp_length_bucket    37544 non-null  category\n",
      "dtypes: category(5), float64(8), int64(2), object(11)\n",
      "memory usage: 6.7+ MB\n"
     ]
    }
   ],
   "source": [
    "loan_df.info()"
   ]
  },
  {
   "cell_type": "code",
   "execution_count": 35,
   "metadata": {},
   "outputs": [
    {
     "data": {
      "text/html": [
       "<div>\n",
       "<style scoped>\n",
       "    .dataframe tbody tr th:only-of-type {\n",
       "        vertical-align: middle;\n",
       "    }\n",
       "\n",
       "    .dataframe tbody tr th {\n",
       "        vertical-align: top;\n",
       "    }\n",
       "\n",
       "    .dataframe thead th {\n",
       "        text-align: right;\n",
       "    }\n",
       "</style>\n",
       "<table border=\"1\" class=\"dataframe\">\n",
       "  <thead>\n",
       "    <tr style=\"text-align: right;\">\n",
       "      <th></th>\n",
       "      <th>loan_amnt</th>\n",
       "      <th>loan_amnt_bucket</th>\n",
       "    </tr>\n",
       "  </thead>\n",
       "  <tbody>\n",
       "    <tr>\n",
       "      <th>9974</th>\n",
       "      <td>9600.0</td>\n",
       "      <td>Medium</td>\n",
       "    </tr>\n",
       "    <tr>\n",
       "      <th>6052</th>\n",
       "      <td>5000.0</td>\n",
       "      <td>V Low</td>\n",
       "    </tr>\n",
       "    <tr>\n",
       "      <th>26600</th>\n",
       "      <td>12000.0</td>\n",
       "      <td>High</td>\n",
       "    </tr>\n",
       "    <tr>\n",
       "      <th>15565</th>\n",
       "      <td>2000.0</td>\n",
       "      <td>V Low</td>\n",
       "    </tr>\n",
       "    <tr>\n",
       "      <th>15252</th>\n",
       "      <td>4800.0</td>\n",
       "      <td>V Low</td>\n",
       "    </tr>\n",
       "    <tr>\n",
       "      <th>8426</th>\n",
       "      <td>30000.0</td>\n",
       "      <td>V High</td>\n",
       "    </tr>\n",
       "    <tr>\n",
       "      <th>8771</th>\n",
       "      <td>14400.0</td>\n",
       "      <td>High</td>\n",
       "    </tr>\n",
       "    <tr>\n",
       "      <th>3830</th>\n",
       "      <td>14000.0</td>\n",
       "      <td>High</td>\n",
       "    </tr>\n",
       "    <tr>\n",
       "      <th>39608</th>\n",
       "      <td>8000.0</td>\n",
       "      <td>Medium</td>\n",
       "    </tr>\n",
       "    <tr>\n",
       "      <th>15816</th>\n",
       "      <td>4000.0</td>\n",
       "      <td>V Low</td>\n",
       "    </tr>\n",
       "  </tbody>\n",
       "</table>\n",
       "</div>"
      ],
      "text/plain": [
       "       loan_amnt loan_amnt_bucket\n",
       "9974      9600.0           Medium\n",
       "6052      5000.0            V Low\n",
       "26600    12000.0             High\n",
       "15565     2000.0            V Low\n",
       "15252     4800.0            V Low\n",
       "8426     30000.0           V High\n",
       "8771     14400.0             High\n",
       "3830     14000.0             High\n",
       "39608     8000.0           Medium\n",
       "15816     4000.0            V Low"
      ]
     },
     "execution_count": 35,
     "metadata": {},
     "output_type": "execute_result"
    }
   ],
   "source": [
    "# Looking randomly at 'loan_amnt_buckets' to cross-check\n",
    "\n",
    "loan_df.loc[:,['loan_amnt','loan_amnt_bucket']].sample(10)"
   ]
  },
  {
   "cell_type": "code",
   "execution_count": 36,
   "metadata": {},
   "outputs": [
    {
     "name": "stdout",
     "output_type": "stream",
     "text": [
      "<class 'pandas.core.frame.DataFrame'>\n",
      "Int64Index: 38577 entries, 0 to 39716\n",
      "Data columns (total 26 columns):\n",
      " #   Column               Non-Null Count  Dtype   \n",
      "---  ------               --------------  -----   \n",
      " 0   loan_amnt            38577 non-null  float64 \n",
      " 1   funded_amnt          38577 non-null  float64 \n",
      " 2   funded_amnt_inv      38577 non-null  float64 \n",
      " 3   term                 38577 non-null  object  \n",
      " 4   int_rate             38577 non-null  float64 \n",
      " 5   installment          38577 non-null  float64 \n",
      " 6   grade                38577 non-null  object  \n",
      " 7   sub_grade            38577 non-null  object  \n",
      " 8   emp_length           37544 non-null  object  \n",
      " 9   home_ownership       38577 non-null  object  \n",
      " 10  annual_inc           38577 non-null  float64 \n",
      " 11  verification_status  38577 non-null  object  \n",
      " 12  issue_d              38577 non-null  object  \n",
      " 13  loan_status          38577 non-null  object  \n",
      " 14  purpose              38577 non-null  object  \n",
      " 15  addr_state           38577 non-null  object  \n",
      " 16  dti                  38577 non-null  float64 \n",
      " 17  service_years        37544 non-null  float64 \n",
      " 18  issue_d_month        38577 non-null  object  \n",
      " 19  issue_d_year         38577 non-null  int64   \n",
      " 20  loan_status_binary   38577 non-null  int64   \n",
      " 21  int_rate_bucket      38577 non-null  category\n",
      " 22  dti_bucket           38577 non-null  category\n",
      " 23  annual_inc_bucket    38577 non-null  category\n",
      " 24  loan_amnt_bucket     38577 non-null  category\n",
      " 25  emp_length_bucket    37544 non-null  category\n",
      "dtypes: category(5), float64(8), int64(2), object(11)\n",
      "memory usage: 6.7+ MB\n"
     ]
    }
   ],
   "source": [
    "loan_df.info()"
   ]
  },
  {
   "cell_type": "markdown",
   "metadata": {},
   "source": [
    "### Creating user defined functions, to do further analysis on the basis of Default Rate%"
   ]
  },
  {
   "cell_type": "code",
   "execution_count": 37,
   "metadata": {},
   "outputs": [],
   "source": [
    "# Creating a user defined function for further analysis on Default Rate\n",
    "# Default Rate will provide the average of 'Defaulters' in particular column\n",
    "# To convert it into %, we will multiply the mean with 100 and round off to two decimals\n",
    "\n",
    "def default_rate(df, myList=[],*args):\n",
    "    return round(loan_df.groupby(myList)['loan_status_binary'].mean()*100,2)\n"
   ]
  },
  {
   "cell_type": "code",
   "execution_count": 38,
   "metadata": {},
   "outputs": [],
   "source": [
    "# Providing the Figure Size and lable on y-axis in a variable\n",
    "\n",
    "figure_size=[12,8]\n",
    "ylabel=\"Default Rate%\""
   ]
  },
  {
   "cell_type": "code",
   "execution_count": 39,
   "metadata": {},
   "outputs": [],
   "source": [
    "# Creating a user defined function for showing barcharts on different variables for Univariate analysis\n",
    "\n",
    "def custom_plot(x,**plt_kwargs):\n",
    "    return(x.plot.bar(figsize=figure_size))\n"
   ]
  },
  {
   "cell_type": "markdown",
   "metadata": {},
   "source": [
    "### Finding top predictors for Defaulters"
   ]
  },
  {
   "cell_type": "code",
   "execution_count": 40,
   "metadata": {},
   "outputs": [],
   "source": [
    "# To find the predictors, we need to find the difference between the maximum and the minimum value of Default Rate for different columns\n",
    "# Defining a function to find out the difference\n",
    "\n",
    "def predictors(df, myList=[],*args):\n",
    "    min_df_rate = loan_df.groupby(myList)['loan_status_binary'].mean().min()\n",
    "    max_df_rate = loan_df.groupby(myList)['loan_status_binary'].mean().max()\n",
    "    return(round((max_df_rate-min_df_rate),2))\n"
   ]
  },
  {
   "cell_type": "code",
   "execution_count": 41,
   "metadata": {},
   "outputs": [],
   "source": [
    "# Finding out the difference between max and min Default Rate for different columns of the dataframe 'loan_df'\n",
    "\n",
    "predictor_name = []\n",
    "predictor_diff = []\n",
    "for i in loan_df.columns:\n",
    "    predictor_diff.append(predictors(df=loan_df,myList=i))\n",
    "    predictor_name.append(i)\n",
    "data = {'predictor_name':predictor_name,\n",
    "        'predictor_diff':predictor_diff\n",
    "       }    \n",
    "predictors_df = pd.DataFrame(data,columns=['predictor_name','predictor_diff'])"
   ]
  },
  {
   "cell_type": "code",
   "execution_count": 42,
   "metadata": {},
   "outputs": [
    {
     "data": {
      "text/html": [
       "<div>\n",
       "<style scoped>\n",
       "    .dataframe tbody tr th:only-of-type {\n",
       "        vertical-align: middle;\n",
       "    }\n",
       "\n",
       "    .dataframe tbody tr th {\n",
       "        vertical-align: top;\n",
       "    }\n",
       "\n",
       "    .dataframe thead th {\n",
       "        text-align: right;\n",
       "    }\n",
       "</style>\n",
       "<table border=\"1\" class=\"dataframe\">\n",
       "  <thead>\n",
       "    <tr style=\"text-align: right;\">\n",
       "      <th></th>\n",
       "      <th>predictor_name</th>\n",
       "      <th>predictor_diff</th>\n",
       "    </tr>\n",
       "  </thead>\n",
       "  <tbody>\n",
       "    <tr>\n",
       "      <th>15</th>\n",
       "      <td>addr_state</td>\n",
       "      <td>0.60</td>\n",
       "    </tr>\n",
       "    <tr>\n",
       "      <th>7</th>\n",
       "      <td>sub_grade</td>\n",
       "      <td>0.45</td>\n",
       "    </tr>\n",
       "    <tr>\n",
       "      <th>6</th>\n",
       "      <td>grade</td>\n",
       "      <td>0.28</td>\n",
       "    </tr>\n",
       "    <tr>\n",
       "      <th>12</th>\n",
       "      <td>issue_d</td>\n",
       "      <td>0.21</td>\n",
       "    </tr>\n",
       "    <tr>\n",
       "      <th>9</th>\n",
       "      <td>home_ownership</td>\n",
       "      <td>0.18</td>\n",
       "    </tr>\n",
       "    <tr>\n",
       "      <th>14</th>\n",
       "      <td>purpose</td>\n",
       "      <td>0.17</td>\n",
       "    </tr>\n",
       "    <tr>\n",
       "      <th>21</th>\n",
       "      <td>int_rate_bucket</td>\n",
       "      <td>0.16</td>\n",
       "    </tr>\n",
       "    <tr>\n",
       "      <th>3</th>\n",
       "      <td>term</td>\n",
       "      <td>0.14</td>\n",
       "    </tr>\n",
       "    <tr>\n",
       "      <th>23</th>\n",
       "      <td>annual_inc_bucket</td>\n",
       "      <td>0.07</td>\n",
       "    </tr>\n",
       "    <tr>\n",
       "      <th>24</th>\n",
       "      <td>loan_amnt_bucket</td>\n",
       "      <td>0.06</td>\n",
       "    </tr>\n",
       "    <tr>\n",
       "      <th>19</th>\n",
       "      <td>issue_d_year</td>\n",
       "      <td>0.05</td>\n",
       "    </tr>\n",
       "    <tr>\n",
       "      <th>22</th>\n",
       "      <td>dti_bucket</td>\n",
       "      <td>0.05</td>\n",
       "    </tr>\n",
       "    <tr>\n",
       "      <th>18</th>\n",
       "      <td>issue_d_month</td>\n",
       "      <td>0.04</td>\n",
       "    </tr>\n",
       "    <tr>\n",
       "      <th>11</th>\n",
       "      <td>verification_status</td>\n",
       "      <td>0.04</td>\n",
       "    </tr>\n",
       "    <tr>\n",
       "      <th>17</th>\n",
       "      <td>service_years</td>\n",
       "      <td>0.03</td>\n",
       "    </tr>\n",
       "    <tr>\n",
       "      <th>8</th>\n",
       "      <td>emp_length</td>\n",
       "      <td>0.03</td>\n",
       "    </tr>\n",
       "    <tr>\n",
       "      <th>25</th>\n",
       "      <td>emp_length_bucket</td>\n",
       "      <td>0.01</td>\n",
       "    </tr>\n",
       "  </tbody>\n",
       "</table>\n",
       "</div>"
      ],
      "text/plain": [
       "         predictor_name  predictor_diff\n",
       "15           addr_state            0.60\n",
       "7             sub_grade            0.45\n",
       "6                 grade            0.28\n",
       "12              issue_d            0.21\n",
       "9        home_ownership            0.18\n",
       "14              purpose            0.17\n",
       "21      int_rate_bucket            0.16\n",
       "3                  term            0.14\n",
       "23    annual_inc_bucket            0.07\n",
       "24     loan_amnt_bucket            0.06\n",
       "19         issue_d_year            0.05\n",
       "22           dti_bucket            0.05\n",
       "18        issue_d_month            0.04\n",
       "11  verification_status            0.04\n",
       "17        service_years            0.03\n",
       "8            emp_length            0.03\n",
       "25    emp_length_bucket            0.01"
      ]
     },
     "execution_count": 42,
     "metadata": {},
     "output_type": "execute_result"
    }
   ],
   "source": [
    "# Finding out the top predictors and ignoring the ones where difference is 1 which means for those predictors groupby mean of the loan_status is varying from 0% to 100%\n",
    "\n",
    "sorted_predictors = predictors_df.sort_values(by='predictor_diff', ascending=False)\n",
    "sorted_predictors[sorted_predictors['predictor_diff']<1.00]"
   ]
  },
  {
   "cell_type": "markdown",
   "metadata": {},
   "source": [
    "##### Some of the predictors are:\n",
    "#### int_rate, annual_inc, loan_amnt, dti, grade, term, home_ownership, purpose, issue_d, addr_state, verification_status"
   ]
  },
  {
   "cell_type": "markdown",
   "metadata": {},
   "source": [
    "##### Now we know some of our top predictors, we will analyse data on the basis of these predictors and will find out the most driving factors "
   ]
  },
  {
   "cell_type": "markdown",
   "metadata": {},
   "source": [
    "## Univariate Analysis "
   ]
  },
  {
   "cell_type": "markdown",
   "metadata": {},
   "source": [
    "##### Plotting a graph between 'Term' and 'Default Rate%'"
   ]
  },
  {
   "cell_type": "code",
   "execution_count": 43,
   "metadata": {},
   "outputs": [
    {
     "data": {
      "image/png": "[encoded data removed]",
      "text/plain": [
       "<Figure size 864x576 with 1 Axes>"
      ]
     },
     "metadata": {
      "needs_background": "light"
     },
     "output_type": "display_data"
    }
   ],
   "source": [
    "custom_plot(default_rate(df=loan_df, myList=['term']))\n",
    "plt.ylabel(ylabel)\n",
    "plt.show()"
   ]
  },
  {
   "cell_type": "markdown",
   "metadata": {},
   "source": [
    "#### With the above graph, we can find that people opting for long term loan plans are likely to default. Lets analyse the term with other variables as well in Bivariate Analysis"
   ]
  },
  {
   "cell_type": "markdown",
   "metadata": {},
   "source": [
    "##### Plotting a graph between 'Verification_status' and 'Default Rate%'"
   ]
  },
  {
   "cell_type": "code",
   "execution_count": 44,
   "metadata": {},
   "outputs": [
    {
     "data": {
      "image/png": "[encoded data removed]",
      "text/plain": [
       "<Figure size 864x576 with 1 Axes>"
      ]
     },
     "metadata": {
      "needs_background": "light"
     },
     "output_type": "display_data"
    }
   ],
   "source": [
    "custom_plot(default_rate(df=loan_df, myList=['verification_status']))\n",
    "plt.ylabel(ylabel)\n",
    "plt.show()"
   ]
  },
  {
   "cell_type": "markdown",
   "metadata": {},
   "source": [
    "#### With the above graph, we don't see much variation between the different 'verification_status'. Hence, we can't consider 'verification_status' of the person as a Driving factor for finding out the defaulters."
   ]
  },
  {
   "cell_type": "markdown",
   "metadata": {},
   "source": [
    "##### Plotting a graph between 'Home_ownership' and 'Default Rate%'"
   ]
  },
  {
   "cell_type": "code",
   "execution_count": 45,
   "metadata": {},
   "outputs": [
    {
     "data": {
      "image/png": "[encoded data removed]",
      "text/plain": [
       "<Figure size 864x576 with 1 Axes>"
      ]
     },
     "metadata": {
      "needs_background": "light"
     },
     "output_type": "display_data"
    }
   ],
   "source": [
    "custom_plot(default_rate(df=loan_df, myList=['home_ownership']))\n",
    "plt.ylabel(ylabel)\n",
    "plt.show()"
   ]
  },
  {
   "cell_type": "markdown",
   "metadata": {},
   "source": [
    "#### With the above graph, we can find that people with home_ownership mentioned as 'others' and who are living on 'rent' are more likely to default."
   ]
  },
  {
   "cell_type": "markdown",
   "metadata": {},
   "source": [
    "##### Plotting a graph between 'int_rate_bucket' and 'Default Rate%'"
   ]
  },
  {
   "cell_type": "code",
   "execution_count": 46,
   "metadata": {},
   "outputs": [
    {
     "data": {
      "image/png": "[encoded data removed]",
      "text/plain": [
       "<Figure size 864x576 with 1 Axes>"
      ]
     },
     "metadata": {
      "needs_background": "light"
     },
     "output_type": "display_data"
    }
   ],
   "source": [
    "custom_plot(default_rate(df=loan_df, myList=['int_rate_bucket']))\n",
    "plt.ylabel(ylabel)\n",
    "plt.show()"
   ]
  },
  {
   "cell_type": "markdown",
   "metadata": {},
   "source": [
    "#### People with High Interest Rates are more likely to default. Lets analyse this with other variables as well in Bivariate Analysis"
   ]
  },
  {
   "cell_type": "markdown",
   "metadata": {},
   "source": [
    "##### Plotting a graph between 'purpose' and 'Default Rate'"
   ]
  },
  {
   "cell_type": "code",
   "execution_count": 47,
   "metadata": {},
   "outputs": [
    {
     "data": {
      "image/png": "[encoded data removed]",
      "text/plain": [
       "<Figure size 864x576 with 1 Axes>"
      ]
     },
     "metadata": {
      "needs_background": "light"
     },
     "output_type": "display_data"
    }
   ],
   "source": [
    "custom_plot(default_rate(df=loan_df, myList=['purpose']))\n",
    "plt.ylabel(ylabel)\n",
    "plt.show()"
   ]
  },
  {
   "cell_type": "markdown",
   "metadata": {},
   "source": [
    "#### People opting loan for 'small_business' are more likely to default. Lets analyse this with other variables as well in Bivariate Analysis"
   ]
  },
  {
   "cell_type": "markdown",
   "metadata": {},
   "source": [
    "##### Plotting a graph between 'grade' and 'Default Rate'"
   ]
  },
  {
   "cell_type": "code",
   "execution_count": 48,
   "metadata": {},
   "outputs": [
    {
     "data": {
      "image/png": "[encoded data removed]",
      "text/plain": [
       "<Figure size 864x576 with 1 Axes>"
      ]
     },
     "metadata": {
      "needs_background": "light"
     },
     "output_type": "display_data"
    }
   ],
   "source": [
    "custom_plot(default_rate(df=loan_df, myList=['grade']))\n",
    "plt.ylabel(ylabel)\n",
    "plt.show()"
   ]
  },
  {
   "cell_type": "markdown",
   "metadata": {},
   "source": [
    "##### Plotting a graph between 'sub_grade' and 'Default Rate'"
   ]
  },
  {
   "cell_type": "code",
   "execution_count": 49,
   "metadata": {},
   "outputs": [
    {
     "data": {
      "image/png": "[encoded data removed]",
      "text/plain": [
       "<Figure size 864x576 with 1 Axes>"
      ]
     },
     "metadata": {
      "needs_background": "light"
     },
     "output_type": "display_data"
    }
   ],
   "source": [
    "custom_plot(default_rate(df=loan_df, myList=['sub_grade']))\n",
    "plt.ylabel(ylabel)\n",
    "plt.show()"
   ]
  },
  {
   "cell_type": "markdown",
   "metadata": {},
   "source": [
    "#### With above two graphs for 'Grade' and 'Sub-grade', we found that people with 'F' and 'G' grades are more likely to default. Lets analyse 'Grade' with other variables as well in Bivariate Analysis"
   ]
  },
  {
   "cell_type": "markdown",
   "metadata": {},
   "source": [
    "##### Plotting a graph between 'issuing month' and 'Default Rate'"
   ]
  },
  {
   "cell_type": "code",
   "execution_count": 50,
   "metadata": {},
   "outputs": [
    {
     "data": {
      "image/png": "[encoded data removed]",
      "text/plain": [
       "<Figure size 864x576 with 1 Axes>"
      ]
     },
     "metadata": {
      "needs_background": "light"
     },
     "output_type": "display_data"
    }
   ],
   "source": [
    "custom_plot(default_rate(df=loan_df, myList=['issue_d_month']))\n",
    "plt.ylabel(ylabel)\n",
    "plt.show()"
   ]
  },
  {
   "cell_type": "markdown",
   "metadata": {},
   "source": [
    "#### With above graph, we can say that Default Rate is high in December(because of festive season in USA) and in May(because of school admissions). But, we are not sure that it will always be the scene as variation is very low between the different months. Hence, we cannot use this variable as the driving factor."
   ]
  },
  {
   "cell_type": "markdown",
   "metadata": {},
   "source": [
    "##### Plotting a graph between 'issuing year' and 'Default Rate'"
   ]
  },
  {
   "cell_type": "code",
   "execution_count": 51,
   "metadata": {},
   "outputs": [
    {
     "data": {
      "image/png": "[encoded data removed]",
      "text/plain": [
       "<Figure size 864x576 with 1 Axes>"
      ]
     },
     "metadata": {
      "needs_background": "light"
     },
     "output_type": "display_data"
    }
   ],
   "source": [
    "custom_plot(default_rate(df=loan_df, myList=['issue_d_year']))\n",
    "plt.ylabel(ylabel)\n",
    "plt.show()"
   ]
  },
  {
   "cell_type": "markdown",
   "metadata": {},
   "source": [
    "#### No insights were received from the year of issuing the loan with respect to people who are Charged-off. Let's reject this as the most driving factor."
   ]
  },
  {
   "cell_type": "markdown",
   "metadata": {},
   "source": [
    "##### Plotting a graph between 'addr_state' and 'Default Rate'"
   ]
  },
  {
   "cell_type": "code",
   "execution_count": 52,
   "metadata": {},
   "outputs": [
    {
     "data": {
      "image/png": "[encoded data removed]",
      "text/plain": [
       "<Figure size 864x576 with 1 Axes>"
      ]
     },
     "metadata": {
      "needs_background": "light"
     },
     "output_type": "display_data"
    }
   ],
   "source": [
    "custom_plot(default_rate(df=loan_df, myList=['addr_state']))\n",
    "plt.ylabel(ylabel)\n",
    "plt.show()"
   ]
  },
  {
   "cell_type": "markdown",
   "metadata": {},
   "source": [
    "#### With above analysis, we can say that the default rate is high in the state 'NE', maybe the cost of living is high in this state but we are not sure about our assumptions. Let's reject this as the driving factor."
   ]
  },
  {
   "cell_type": "markdown",
   "metadata": {},
   "source": [
    "##### Plotting a graph between 'service_years' and 'Default Rate'"
   ]
  },
  {
   "cell_type": "code",
   "execution_count": 53,
   "metadata": {},
   "outputs": [
    {
     "data": {
      "image/png": "[encoded data removed]",
      "text/plain": [
       "<Figure size 864x576 with 1 Axes>"
      ]
     },
     "metadata": {
      "needs_background": "light"
     },
     "output_type": "display_data"
    }
   ],
   "source": [
    "custom_plot(default_rate(df=loan_df, myList=['service_years']))\n",
    "plt.ylabel(ylabel)\n",
    "plt.show()"
   ]
  },
  {
   "cell_type": "markdown",
   "metadata": {},
   "source": [
    "#### No insights were received from 'years of service'. Let's reject this as the driving factor."
   ]
  },
  {
   "cell_type": "markdown",
   "metadata": {},
   "source": [
    "##### Plotting a graph between 'dti' and 'Default Rate%'"
   ]
  },
  {
   "cell_type": "code",
   "execution_count": 54,
   "metadata": {},
   "outputs": [
    {
     "data": {
      "image/png": "[encoded data removed]",
      "text/plain": [
       "<Figure size 864x576 with 1 Axes>"
      ]
     },
     "metadata": {
      "needs_background": "light"
     },
     "output_type": "display_data"
    }
   ],
   "source": [
    "custom_plot(default_rate(df=loan_df, myList=['dti_bucket']))\n",
    "plt.ylabel(ylabel)\n",
    "plt.show()"
   ]
  },
  {
   "cell_type": "markdown",
   "metadata": {},
   "source": [
    "#### People with very High/High 'Debt to Income' are more likely to be defaulters. Lets analyse this with other variables as well in Bivariate Analysis."
   ]
  },
  {
   "cell_type": "markdown",
   "metadata": {},
   "source": [
    "##### Plotting a graph between 'annual_inc and 'Default Rate%'"
   ]
  },
  {
   "cell_type": "code",
   "execution_count": 55,
   "metadata": {},
   "outputs": [
    {
     "data": {
      "image/png": "[encoded data removed]",
      "text/plain": [
       "<Figure size 864x576 with 1 Axes>"
      ]
     },
     "metadata": {
      "needs_background": "light"
     },
     "output_type": "display_data"
    }
   ],
   "source": [
    "custom_plot(default_rate(df=loan_df, myList=['annual_inc_bucket']))\n",
    "plt.ylabel(ylabel)\n",
    "plt.show()"
   ]
  },
  {
   "cell_type": "markdown",
   "metadata": {},
   "source": [
    "#### People with very Low/Low 'Income' are more likely to be defaulters. Lets analyse this with other variables as well in Bivariate Analysis."
   ]
  },
  {
   "cell_type": "markdown",
   "metadata": {},
   "source": [
    "##### Plotting a graph between 'loan_amnt_bucket' and 'Default Rate%'"
   ]
  },
  {
   "cell_type": "code",
   "execution_count": 56,
   "metadata": {},
   "outputs": [
    {
     "data": {
      "image/png": "[encoded data removed]",
      "text/plain": [
       "<Figure size 864x576 with 1 Axes>"
      ]
     },
     "metadata": {
      "needs_background": "light"
     },
     "output_type": "display_data"
    }
   ],
   "source": [
    "custom_plot(default_rate(df=loan_df, myList=['loan_amnt_bucket']))\n",
    "plt.ylabel(ylabel)\n",
    "plt.show()"
   ]
  },
  {
   "cell_type": "markdown",
   "metadata": {},
   "source": [
    "#### People with very High 'loan_amount' are more likely to be defaulters in paying loan. Lets analyse this with other variables as well in Bivariate Analysis."
   ]
  },
  {
   "cell_type": "markdown",
   "metadata": {},
   "source": [
    "### With the above Univariate Analysis we get some insights that people having low income, high interest rates or opted for high loan amount or long term(60 months) plans are likely to be defaulters."
   ]
  },
  {
   "cell_type": "markdown",
   "metadata": {},
   "source": [
    "## Bivariate Analysis"
   ]
  },
  {
   "cell_type": "code",
   "execution_count": 57,
   "metadata": {},
   "outputs": [],
   "source": [
    "# Label on y-axis for Bivariate Analysis\n",
    "\n",
    "ylabel2=\"Default Rate\""
   ]
  },
  {
   "cell_type": "code",
   "execution_count": 58,
   "metadata": {},
   "outputs": [],
   "source": [
    "# Creating a function to build a pivot table for Bivariate Analysis\n",
    "# It takes list of columns and index\n",
    "\n",
    "def create_pivot(col1, ind):\n",
    "    return(pd.pivot_table(data=loan_df, columns=col1, values='loan_status_binary', index=ind))"
   ]
  },
  {
   "cell_type": "markdown",
   "metadata": {},
   "source": [
    "##### Plotting a graph for 'term' and 'purpose' against 'Default Rate'"
   ]
  },
  {
   "cell_type": "code",
   "execution_count": 59,
   "metadata": {},
   "outputs": [
    {
     "data": {
      "image/png": "[encoded data removed]",
      "text/plain": [
       "<Figure size 864x576 with 1 Axes>"
      ]
     },
     "metadata": {
      "needs_background": "light"
     },
     "output_type": "display_data"
    }
   ],
   "source": [
    "custom_plot(create_pivot(['term'],['purpose']))\n",
    "plt.ylabel(ylabel2)\n",
    "plt.show()"
   ]
  },
  {
   "cell_type": "markdown",
   "metadata": {},
   "source": [
    "##### Plotting a graph for 'term' and 'grade' against 'Default Rate'"
   ]
  },
  {
   "cell_type": "code",
   "execution_count": 60,
   "metadata": {},
   "outputs": [
    {
     "data": {
      "image/png": "[encoded data removed]",
      "text/plain": [
       "<Figure size 864x576 with 1 Axes>"
      ]
     },
     "metadata": {
      "needs_background": "light"
     },
     "output_type": "display_data"
    }
   ],
   "source": [
    "custom_plot(create_pivot(['term'],['grade']))\n",
    "plt.ylabel(ylabel2)\n",
    "plt.show()"
   ]
  },
  {
   "cell_type": "markdown",
   "metadata": {},
   "source": [
    "#### People with grades 'F' and 'G' have high Defalut Rate irrespective of the tenture for loan"
   ]
  },
  {
   "cell_type": "markdown",
   "metadata": {},
   "source": [
    "##### Plotting a graph for 'int_rate' and 'purpose' against 'Default Rate'"
   ]
  },
  {
   "cell_type": "code",
   "execution_count": 61,
   "metadata": {},
   "outputs": [
    {
     "data": {
      "image/png": "[encoded data removed]",
      "text/plain": [
       "<Figure size 864x576 with 1 Axes>"
      ]
     },
     "metadata": {
      "needs_background": "light"
     },
     "output_type": "display_data"
    }
   ],
   "source": [
    "custom_plot(create_pivot(['int_rate_bucket'],['purpose']))\n",
    "plt.ylabel(ylabel2)\n",
    "plt.show()"
   ]
  },
  {
   "cell_type": "markdown",
   "metadata": {},
   "source": [
    "#### People opting loan for 'small_business' or 'house' with High Interest Rates are more likely to be defaulters"
   ]
  },
  {
   "cell_type": "markdown",
   "metadata": {},
   "source": [
    "##### Plotting a graph for 'int_rate' and 'annual_inc' against 'Default Rate'"
   ]
  },
  {
   "cell_type": "code",
   "execution_count": 62,
   "metadata": {},
   "outputs": [
    {
     "data": {
      "image/png": "[encoded data removed]",
      "text/plain": [
       "<Figure size 864x576 with 1 Axes>"
      ]
     },
     "metadata": {
      "needs_background": "light"
     },
     "output_type": "display_data"
    }
   ],
   "source": [
    "custom_plot(create_pivot(['int_rate_bucket'],['annual_inc_bucket']))\n",
    "plt.ylabel(ylabel2)\n",
    "plt.show()"
   ]
  },
  {
   "cell_type": "markdown",
   "metadata": {},
   "source": [
    "#### People with Very Low-Low income and High-very High Interest Rates are more likely to be Charged-Off"
   ]
  },
  {
   "cell_type": "markdown",
   "metadata": {},
   "source": [
    "##### Plotting a graph for 'loan_amount' and 'annual_inc' against 'Default Rate'"
   ]
  },
  {
   "cell_type": "code",
   "execution_count": 63,
   "metadata": {},
   "outputs": [
    {
     "data": {
      "image/png": "[encoded data removed]",
      "text/plain": [
       "<Figure size 864x576 with 1 Axes>"
      ]
     },
     "metadata": {
      "needs_background": "light"
     },
     "output_type": "display_data"
    }
   ],
   "source": [
    "custom_plot(create_pivot(['loan_amnt_bucket'],['annual_inc_bucket']))\n",
    "plt.ylabel(ylabel2)\n",
    "plt.show()"
   ]
  },
  {
   "cell_type": "markdown",
   "metadata": {},
   "source": [
    "#### People with Low Annual Income opting for High loan amount are more likely to be defaulters"
   ]
  },
  {
   "cell_type": "markdown",
   "metadata": {},
   "source": [
    "##### Plotting a graph for 'loan_amount' and 'int_rate' against 'Default Rate'"
   ]
  },
  {
   "cell_type": "code",
   "execution_count": 64,
   "metadata": {},
   "outputs": [
    {
     "data": {
      "image/png": "[encoded data removed]",
      "text/plain": [
       "<Figure size 864x576 with 1 Axes>"
      ]
     },
     "metadata": {
      "needs_background": "light"
     },
     "output_type": "display_data"
    }
   ],
   "source": [
    "custom_plot(create_pivot(['int_rate_bucket'],['loan_amnt_bucket']))\n",
    "plt.ylabel(ylabel2)\n",
    "plt.show()"
   ]
  },
  {
   "cell_type": "markdown",
   "metadata": {},
   "source": [
    "##### Plotting a graph for 'loan_amount' and 'dti' against 'Default Rate'"
   ]
  },
  {
   "cell_type": "code",
   "execution_count": 65,
   "metadata": {},
   "outputs": [
    {
     "data": {
      "image/png": "[encoded data removed]",
      "text/plain": [
       "<Figure size 864x576 with 1 Axes>"
      ]
     },
     "metadata": {
      "needs_background": "light"
     },
     "output_type": "display_data"
    }
   ],
   "source": [
    "custom_plot(create_pivot(['loan_amnt_bucket'],['dti_bucket']))\n",
    "plt.ylabel(ylabel2)\n",
    "plt.show()"
   ]
  },
  {
   "cell_type": "markdown",
   "metadata": {},
   "source": [
    "#### People with High-very High 'Debt to Income' opting for Higher loan amount are likely to default"
   ]
  },
  {
   "cell_type": "markdown",
   "metadata": {},
   "source": [
    "### With our analysis we found out the most driving factors that can let Lending Club know the applicants at the time of application submission that are not likely to pay the loan.\n",
    "\n",
    "### These driving factors are Interest Rate, Debt to Income, Loan Amount, Annual Income, Purpose.\n",
    "\n",
    "### Some of the insights are:\n",
    "#### - People with Low Income applying for High Loan Amount are more likely to Default. Lending Club should put some cap on loan amounts according to annual salary earned by the applicant.\n",
    "#### - People opting loan for 'House' or 'Small Business' with high Interest Rates are more to be defaulters.\n",
    "#### - People with High Debt to Income are more likely to be Charged-Off."
   ]
  },
  {
   "cell_type": "code",
   "execution_count": null,
   "metadata": {},
   "outputs": [],
   "source": []
  }
 ],
 "metadata": {
  "kernelspec": {
   "display_name": "Python 3",
   "language": "python",
   "name": "python3"
  },
  "language_info": {
   "codemirror_mode": {
    "name": "ipython",
    "version": 3
   },
   "file_extension": ".py",
   "mimetype": "text/x-python",
   "name": "python",
   "nbconvert_exporter": "python",
   "pygments_lexer": "ipython3",
   "version": "3.8.3"
  }
 },
 "nbformat": 4,
 "nbformat_minor": 2
}
