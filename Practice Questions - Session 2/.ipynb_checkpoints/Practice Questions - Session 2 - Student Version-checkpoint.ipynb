{
 "cells": [
  {
   "cell_type": "code",
   "execution_count": 1,
   "metadata": {},
   "outputs": [],
   "source": [
    "#Import all the necessary libraries here\n",
    "import numpy as np\n",
    "import pandas as pd\n",
    "import seaborn as sns"
   ]
  },
  {
   "cell_type": "markdown",
   "metadata": {},
   "source": [
    "# Footwear\n",
    "The given dataset contains the profits generated(in %) by all the suppliers of a footwear company in 4 major cities of India - Delhi, Mumbai, Jaipur and Hyderabad. The company wants to invest more money in the city that is showing the most promise. Analyse the dataset and answer the following questions."
   ]
  },
  {
   "cell_type": "code",
   "execution_count": 4,
   "metadata": {},
   "outputs": [],
   "source": [
    "#loading data\n",
    "df=pd.read_csv(\"/home/pariskhit.tomer/Desktop/python/Resources/python-AI-LM/Upgrade/Practice Questions - Session 2/Footwear_v2.csv\")"
   ]
  },
  {
   "cell_type": "code",
   "execution_count": 5,
   "metadata": {},
   "outputs": [
    {
     "data": {
      "text/html": [
       "<div>\n",
       "<style scoped>\n",
       "    .dataframe tbody tr th:only-of-type {\n",
       "        vertical-align: middle;\n",
       "    }\n",
       "\n",
       "    .dataframe tbody tr th {\n",
       "        vertical-align: top;\n",
       "    }\n",
       "\n",
       "    .dataframe thead th {\n",
       "        text-align: right;\n",
       "    }\n",
       "</style>\n",
       "<table border=\"1\" class=\"dataframe\">\n",
       "  <thead>\n",
       "    <tr style=\"text-align: right;\">\n",
       "      <th></th>\n",
       "      <th>Supplier</th>\n",
       "      <th>Delhi</th>\n",
       "      <th>Mumbai</th>\n",
       "      <th>Jaipur</th>\n",
       "      <th>Hyderabad</th>\n",
       "    </tr>\n",
       "  </thead>\n",
       "  <tbody>\n",
       "    <tr>\n",
       "      <th>0</th>\n",
       "      <td>Supplier 1</td>\n",
       "      <td>4.57%</td>\n",
       "      <td>4.18%</td>\n",
       "      <td>7.90%</td>\n",
       "      <td>8.54%</td>\n",
       "    </tr>\n",
       "    <tr>\n",
       "      <th>1</th>\n",
       "      <td>supplier 2</td>\n",
       "      <td>2.60%</td>\n",
       "      <td>1.88%</td>\n",
       "      <td>8.99%</td>\n",
       "      <td>9.23%</td>\n",
       "    </tr>\n",
       "    <tr>\n",
       "      <th>2</th>\n",
       "      <td>supplier 3</td>\n",
       "      <td>2.26%</td>\n",
       "      <td>7.48%</td>\n",
       "      <td>6.71%</td>\n",
       "      <td>7.84%</td>\n",
       "    </tr>\n",
       "    <tr>\n",
       "      <th>3</th>\n",
       "      <td>supplier 4</td>\n",
       "      <td>6.47%</td>\n",
       "      <td>6.70%</td>\n",
       "      <td>7.94%</td>\n",
       "      <td>9.89%</td>\n",
       "    </tr>\n",
       "    <tr>\n",
       "      <th>4</th>\n",
       "      <td>supplier 5</td>\n",
       "      <td>6.82%</td>\n",
       "      <td>1.17%</td>\n",
       "      <td>8.54%</td>\n",
       "      <td>5.67%</td>\n",
       "    </tr>\n",
       "  </tbody>\n",
       "</table>\n",
       "</div>"
      ],
      "text/plain": [
       "     Supplier  Delhi Mumbai Jaipur Hyderabad\n",
       "0  Supplier 1  4.57%  4.18%  7.90%     8.54%\n",
       "1  supplier 2  2.60%  1.88%  8.99%     9.23%\n",
       "2  supplier 3  2.26%  7.48%  6.71%     7.84%\n",
       "3  supplier 4  6.47%  6.70%  7.94%     9.89%\n",
       "4  supplier 5  6.82%  1.17%  8.54%     5.67%"
      ]
     },
     "execution_count": 5,
     "metadata": {},
     "output_type": "execute_result"
    }
   ],
   "source": [
    "df.head()"
   ]
  },
  {
   "cell_type": "markdown",
   "metadata": {},
   "source": [
    "## 1. Average\n",
    "Q1)The absolute difference in the average profit percentages of Delhi and Mumbai comes out to be approximately ____\n",
    "\n",
    "- a) 1.67\n",
    "\n",
    "- b) 1.57\n",
    "\n",
    "- c) 1.77\n",
    "\n",
    "- d) 1.47\n"
   ]
  },
  {
   "cell_type": "code",
   "execution_count": null,
   "metadata": {},
   "outputs": [],
   "source": [
    "#Your code here\n"
   ]
  },
  {
   "cell_type": "markdown",
   "metadata": {},
   "source": [
    "## 2. Box Plots\n",
    "\n",
    "Plot a box plot to analyse the spread of profits for each of the cities. Which city has the highest profit value at the upper fence in the box plot?\n",
    "\n",
    "\n",
    "\n",
    "- a) Delhi\n",
    "\n",
    "- b) Mumbai\n",
    "\n",
    "- c) Hyderabad\n",
    "\n",
    "- d) Jaipur\n"
   ]
  },
  {
   "cell_type": "code",
   "execution_count": null,
   "metadata": {},
   "outputs": [],
   "source": [
    "#Your code here\n"
   ]
  },
  {
   "cell_type": "markdown",
   "metadata": {},
   "source": [
    "# Crypto Currencies"
   ]
  },
  {
   "cell_type": "markdown",
   "metadata": {},
   "source": [
    "The following datasets contain the prices of some popular cryptocurrencies such as bitcoin, litecoin, ethereum, monero, neo, quantum and ripple.Now, you would like to know how the prices of these currencies vary with each other.\n",
    "The cryptocurrencies and the corresponding columns in the dataset are as follows:\n",
    "\n",
    "\n",
    "- bitcoin (Close_btc)\n",
    "- litecoin(Close_ltc)\n",
    "- ethereum(Close_et)\n",
    "- monero(Close_mon)\n",
    "- neo(Close_neo)"
   ]
  },
  {
   "cell_type": "code",
   "execution_count": null,
   "metadata": {},
   "outputs": [],
   "source": [
    "#loading data\n",
    "df=pd.read_csv(\"crypto.csv\")"
   ]
  },
  {
   "cell_type": "markdown",
   "metadata": {},
   "source": [
    "## 1. Correct Statements\n",
    "Q1)Create a pair plot with all these columns and choose the correct statements from the given ones:\n",
    "\n",
    "I)There is a good trend between litecoin and monero, one increases as the other\n",
    "\n",
    "II)There is a weak trend between bitcoin and neo.\n",
    "\n",
    "\n",
    "- a)I\n",
    "\n",
    "- b)II\n",
    "\n",
    "- c)Both I and II\n",
    "\n",
    "- d)None of the above.\n"
   ]
  },
  {
   "cell_type": "code",
   "execution_count": null,
   "metadata": {},
   "outputs": [],
   "source": [
    "#Your code here\n"
   ]
  },
  {
   "cell_type": "markdown",
   "metadata": {},
   "source": [
    "## 2. Heatmap\n",
    "\n",
    "As mentioned earlier, Heat Maps are predominantly utilised for analysing Correlation Matrix. A high positive correlation (values near 1) means a good positive trend - if one increases, then the other also increases. A negative correlation on the other hand(values near -1) indicate good negative trend - if one increases, then the other decreases. A value near 0 indicates no correlation, as in one variable doesn’t affect the other. "
   ]
  },
  {
   "cell_type": "markdown",
   "metadata": {},
   "source": [
    "##### Correlation Matrix\n",
    "Here, you can create a correlation matrix of the closing prices by passing the **df.corr()** function, (where df is the dataframe's name) and storing it in a variable. The code will be as follows\n",
    "\n",
    "df2 = df.corr()\n",
    "\n",
    "\n",
    "After that use this variable df2 to plot a heatmap and choose the correct option. \n",
    "\n",
    "Check out this link for creating a correlation matrix:https://pandas.pydata.org/pandas-docs/stable/reference/api/pandas.DataFrame.corr.html"
   ]
  },
  {
   "cell_type": "markdown",
   "metadata": {},
   "source": [
    "Q)2 - Create a correlation matrix for all the prices and then plot a heatmap to analyse the trends. Which of the following options is/are correct?\n",
    "\n",
    "- a)Ethereum and Quantum have high correlation \n",
    "\n",
    "- b)Neo and Bitcoin have pretty low correlation\n",
    "\n",
    "- c)Ethereum has similar correlation with litecoin and neo\n"
   ]
  },
  {
   "cell_type": "code",
   "execution_count": null,
   "metadata": {},
   "outputs": [],
   "source": [
    "#Your code here\n"
   ]
  },
  {
   "cell_type": "code",
   "execution_count": null,
   "metadata": {},
   "outputs": [],
   "source": []
  }
 ],
 "metadata": {
  "kernelspec": {
   "display_name": "Python 3",
   "language": "python",
   "name": "python3"
  },
  "language_info": {
   "codemirror_mode": {
    "name": "ipython",
    "version": 3
   },
   "file_extension": ".py",
   "mimetype": "text/x-python",
   "name": "python",
   "nbconvert_exporter": "python",
   "pygments_lexer": "ipython3",
   "version": "3.8.3"
  }
 },
 "nbformat": 4,
 "nbformat_minor": 2
}
